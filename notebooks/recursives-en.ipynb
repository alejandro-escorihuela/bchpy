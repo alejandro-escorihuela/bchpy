{
 "cells": [
  {
   "cell_type": "markdown",
   "metadata": {},
   "source": [
    "# Recursive equations of BCH 5th order "
   ]
  },
  {
   "cell_type": "markdown",
   "metadata": {},
   "source": [
    "Import all necessary libraries."
   ]
  },
  {
   "cell_type": "code",
   "execution_count": 1,
   "metadata": {
    "collapsed": false,
    "jupyter": {
     "outputs_hidden": false
    }
   },
   "outputs": [],
   "source": [
    "import numpy as np\n",
    "import sympy as sp\n",
    "from IPython.display import display, Markdown, Latex\n",
    "from bchpy import *\n",
    "import relations as rl"
   ]
  },
  {
   "cell_type": "markdown",
   "metadata": {},
   "source": [
    "Declare x, y symbols and a variable for bch order"
   ]
  },
  {
   "cell_type": "code",
   "execution_count": 2,
   "metadata": {
    "collapsed": false,
    "jupyter": {
     "outputs_hidden": false
    }
   },
   "outputs": [],
   "source": [
    "x, y = sp.symbols(\"x y\")\n",
    "ord_bch = 5"
   ]
  },
  {
   "cell_type": "markdown",
   "metadata": {},
   "source": [
    "## First case"
   ]
  },
  {
   "cell_type": "markdown",
   "metadata": {},
   "source": [
    "In this case we do the BCH of a general expression $C$ with the element of the basis $E_{12}$:\n",
    "$$\n",
    "e^{D}=e^{xE_{12}}e^{C}\n",
    "$$\n",
    "where $C$:\n",
    "$$\n",
    "C=\\sum_i \\sum_j \\alpha_{ij}E_{ij}\n",
    "$$"
   ]
  },
  {
   "cell_type": "markdown",
   "metadata": {
    "jupyter": {
     "outputs_hidden": false
    }
   },
   "source": [
    "Initialize a scheme variable `esq` and construct the matrix `alp[i,j]` for $\\alpha_{ij}$"
   ]
  },
  {
   "cell_type": "code",
   "execution_count": 3,
   "metadata": {},
   "outputs": [],
   "source": [
    "esq = sp.S(0)\n",
    "alp = sp.MatrixSymbol(\"\\\\alpha\", ord_bch + 1, rl.tamE[ord_bch - 1] + 1)\n",
    "for i in range(ord_bch):\n",
    "    for j in range(rl.tamE[i]):\n",
    "        esq += alp[i + 1, j + 1]*Eel(i + 1, j + 1)"
   ]
  },
  {
   "cell_type": "markdown",
   "metadata": {},
   "source": [
    "Do the bch for the equation $e^{D}=e^{xE_{12}}e^{C}$ until 5th order"
   ]
  },
  {
   "cell_type": "code",
   "execution_count": 4,
   "metadata": {},
   "outputs": [],
   "source": [
    "esq = bch6(x*Eel(1,2), esq, depth = ord_bch)"
   ]
  },
  {
   "cell_type": "markdown",
   "metadata": {},
   "source": [
    "Convert this scheme to `Metode` object"
   ]
  },
  {
   "cell_type": "code",
   "execution_count": 5,
   "metadata": {},
   "outputs": [],
   "source": [
    "metBD = Metode(ord_bch)\n",
    "metBD.importFromExpr(esq)"
   ]
  },
  {
   "cell_type": "markdown",
   "metadata": {},
   "source": [
    "Print the recursive equations. $D=\\sum_i \\sum_j \\omega_{ij}E_{ij}$, where $\\omega_{ij}=f(x,\\alpha_{ij})$"
   ]
  },
  {
   "cell_type": "code",
   "execution_count": 6,
   "metadata": {},
   "outputs": [
    {
     "data": {
      "text/latex": [
       "$$\n",
       "\\begin{align}\n",
       "\\omega_{1,1} &= \\alpha_{1, 1}\\\\ \n",
       "\\omega_{1,2} &= x + \\alpha_{1, 2}\\\\ \n",
       "\\omega_{2,1} &= - \\frac{x \\alpha_{1, 1}}{2} + \\alpha_{2, 1}\\\\ \n",
       "\\omega_{3,1} &= \\frac{x \\alpha_{1, 1}^{2}}{12} + \\alpha_{3, 1}\\\\ \n",
       "\\omega_{3,2} &= - \\frac{x^{2} \\alpha_{1, 1}}{12} + \\frac{x \\alpha_{1, 1} \\alpha_{1, 2}}{12} + \\frac{x \\alpha_{2, 1}}{2} + \\alpha_{3, 2}\\\\ \n",
       "\\omega_{4,1} &= \\alpha_{4, 1}\\\\ \n",
       "\\omega_{4,2} &= \\frac{x^{2} \\alpha_{1, 1}^{2}}{24} - \\frac{x \\alpha_{1, 1} \\alpha_{2, 1}}{12} + \\frac{x \\alpha_{3, 1}}{2} + \\alpha_{4, 2}\\\\ \n",
       "\\omega_{4,3} &= - \\frac{x^{2} \\alpha_{1, 1} \\alpha_{1, 2}}{24} - \\frac{x^{2} \\alpha_{2, 1}}{12} + \\frac{x \\alpha_{1, 2} \\alpha_{2, 1}}{12} - \\frac{x \\alpha_{3, 2}}{2} + \\alpha_{4, 3}\\\\ \n",
       "\\omega_{5,1} &= - \\frac{x \\alpha_{1, 1}^{4}}{720} + \\alpha_{5, 1}\\\\ \n",
       "\\omega_{5,2} &= \\frac{x^{2} \\alpha_{1, 1}^{3}}{360} - \\frac{x \\alpha_{1, 1}^{3} \\alpha_{1, 2}}{720} + \\frac{x \\alpha_{1, 1} \\alpha_{3, 1}}{12} + \\frac{x \\alpha_{4, 1}}{2} + \\alpha_{5, 2}\\\\ \n",
       "\\omega_{5,3} &= \\frac{x^{2} \\alpha_{1, 1}^{3}}{120} + \\frac{x \\alpha_{1, 1}^{3} \\alpha_{1, 2}}{360} + \\frac{x \\alpha_{1, 1} \\alpha_{3, 1}}{6} + \\alpha_{5, 3}\\\\ \n",
       "\\omega_{5,4} &= \\frac{x^{3} \\alpha_{1, 1}^{2}}{120} - \\frac{x^{2} \\alpha_{1, 1}^{2} \\alpha_{1, 2}}{360} - \\frac{x^{2} \\alpha_{1, 1} \\alpha_{2, 1}}{24} + \\frac{x^{2} \\alpha_{3, 1}}{12} - \\frac{x \\alpha_{1, 1}^{2} \\alpha_{1, 2}^{2}}{360} + \\frac{x \\alpha_{1, 1} \\alpha_{3, 2}}{12} - \\frac{x \\alpha_{1, 2} \\alpha_{3, 1}}{12} + \\frac{x \\alpha_{2, 1}^{2}}{12} + \\frac{x \\alpha_{4, 2}}{2} + \\alpha_{5, 4}\\\\ \n",
       "\\omega_{5,5} &= \\frac{x^{3} \\alpha_{1, 1}^{2}}{360} + \\frac{x^{2} \\alpha_{1, 1}^{2} \\alpha_{1, 2}}{120} + \\frac{x \\alpha_{1, 1}^{2} \\alpha_{1, 2}^{2}}{720} + \\frac{x \\alpha_{1, 1} \\alpha_{3, 2}}{6} + \\frac{x \\alpha_{2, 1}^{2}}{12} + \\alpha_{5, 5}\\\\ \n",
       "\\omega_{5,6} &= - \\frac{x^{4} \\alpha_{1, 1}}{720} - \\frac{x^{3} \\alpha_{1, 1} \\alpha_{1, 2}}{180} + \\frac{x^{2} \\alpha_{1, 1} \\alpha_{1, 2}^{2}}{180} + \\frac{x^{2} \\alpha_{1, 2} \\alpha_{2, 1}}{24} - \\frac{x^{2} \\alpha_{3, 2}}{12} + \\frac{x \\alpha_{1, 1} \\alpha_{1, 2}^{3}}{720} + \\frac{x \\alpha_{1, 2} \\alpha_{3, 2}}{12} + \\frac{x \\alpha_{4, 3}}{2} + \\alpha_{5, 6}\\\\ \n",
       "\\end{align}\n",
       "$$"
      ],
      "text/plain": [
       "<IPython.core.display.Latex object>"
      ]
     },
     "metadata": {},
     "output_type": "display_data"
    }
   ],
   "source": [
    "display(Latex(\"$$\\n\" + metBD.latex_str() + \"\\n$$\"))"
   ]
  },
  {
   "cell_type": "markdown",
   "metadata": {},
   "source": [
    "## Second case"
   ]
  },
  {
   "cell_type": "markdown",
   "metadata": {},
   "source": [
    "In this case we do the BCH of a general expression $C$ with the element of the basis $E_{11}$:\n",
    "$$\n",
    "e^{D}=e^{yE_{11}}e^{C}\n",
    "$$\n",
    "where $C$:\n",
    "$$\n",
    "C=\\sum_i \\sum_j \\alpha_{ij}E_{ij}\n",
    "$$"
   ]
  },
  {
   "cell_type": "markdown",
   "metadata": {
    "jupyter": {
     "outputs_hidden": false
    }
   },
   "source": [
    "Reinitialize a scheme variable `esq` using the symbolic matrix `alp[i,j]` of the first case"
   ]
  },
  {
   "cell_type": "code",
   "execution_count": 7,
   "metadata": {},
   "outputs": [],
   "source": [
    "esq = sp.S(0)\n",
    "for i in range(ord_bch):\n",
    "    for j in range(rl.tamE[i]):\n",
    "        esq += alp[i + 1, j + 1]*Eel(i + 1, j + 1)"
   ]
  },
  {
   "cell_type": "markdown",
   "metadata": {},
   "source": [
    "Do the bch for the equation $e^{D}=e^{yE_{11}}e^{C}$ until 5th order"
   ]
  },
  {
   "cell_type": "code",
   "execution_count": 8,
   "metadata": {},
   "outputs": [],
   "source": [
    "esq = bch6(y*Eel(1,1), esq, depth = ord_bch)"
   ]
  },
  {
   "cell_type": "markdown",
   "metadata": {},
   "source": [
    "Convert this scheme to `Metode` object"
   ]
  },
  {
   "cell_type": "code",
   "execution_count": 9,
   "metadata": {},
   "outputs": [],
   "source": [
    "metAD = Metode(ord_bch)\n",
    "metAD.importFromExpr(esq)"
   ]
  },
  {
   "cell_type": "markdown",
   "metadata": {},
   "source": [
    "Print the recursive equations. $D=\\sum_i \\sum_j \\omega_{ij}E_{ij}$, where $\\omega_{ij}=f(x,\\alpha_{ij})$"
   ]
  },
  {
   "cell_type": "code",
   "execution_count": 10,
   "metadata": {},
   "outputs": [
    {
     "data": {
      "text/latex": [
       "$$\n",
       "\\begin{align}\n",
       "\\omega_{1,1} &= y + \\alpha_{1, 1}\\\\ \n",
       "\\omega_{1,2} &= \\alpha_{1, 2}\\\\ \n",
       "\\omega_{2,1} &= \\frac{y \\alpha_{1, 2}}{2} + \\alpha_{2, 1}\\\\ \n",
       "\\omega_{3,1} &= \\frac{y^{2} \\alpha_{1, 2}}{12} - \\frac{y \\alpha_{1, 1} \\alpha_{1, 2}}{12} + \\frac{y \\alpha_{2, 1}}{2} + \\alpha_{3, 1}\\\\ \n",
       "\\omega_{3,2} &= - \\frac{y \\alpha_{1, 2}^{2}}{12} + \\alpha_{3, 2}\\\\ \n",
       "\\omega_{4,1} &= - \\frac{y^{2} \\alpha_{1, 1} \\alpha_{1, 2}}{24} + \\frac{y^{2} \\alpha_{2, 1}}{12} - \\frac{y \\alpha_{1, 1} \\alpha_{2, 1}}{12} + \\frac{y \\alpha_{3, 1}}{2} + \\alpha_{4, 1}\\\\ \n",
       "\\omega_{4,2} &= - \\frac{y^{2} \\alpha_{1, 2}^{2}}{24} - \\frac{y \\alpha_{1, 2} \\alpha_{2, 1}}{12} + \\frac{y \\alpha_{3, 2}}{2} + \\alpha_{4, 2}\\\\ \n",
       "\\omega_{4,3} &= \\alpha_{4, 3}\\\\ \n",
       "\\omega_{5,1} &= - \\frac{y^{4} \\alpha_{1, 2}}{720} - \\frac{y^{3} \\alpha_{1, 1} \\alpha_{1, 2}}{180} + \\frac{y^{2} \\alpha_{1, 1}^{2} \\alpha_{1, 2}}{180} - \\frac{y^{2} \\alpha_{1, 1} \\alpha_{2, 1}}{24} + \\frac{y^{2} \\alpha_{3, 1}}{12} + \\frac{y \\alpha_{1, 1}^{3} \\alpha_{1, 2}}{720} - \\frac{y \\alpha_{1, 1} \\alpha_{3, 1}}{12} + \\frac{y \\alpha_{4, 1}}{2} + \\alpha_{5, 1}\\\\ \n",
       "\\omega_{5,2} &= \\frac{y^{3} \\alpha_{1, 2}^{2}}{360} + \\frac{y^{2} \\alpha_{1, 1} \\alpha_{1, 2}^{2}}{120} + \\frac{y \\alpha_{1, 1}^{2} \\alpha_{1, 2}^{2}}{720} - \\frac{y \\alpha_{1, 2} \\alpha_{3, 1}}{6} + \\frac{y \\alpha_{2, 1}^{2}}{12} + \\alpha_{5, 2}\\\\ \n",
       "\\omega_{5,3} &= \\frac{y^{3} \\alpha_{1, 2}^{2}}{120} - \\frac{y^{2} \\alpha_{1, 1} \\alpha_{1, 2}^{2}}{360} + \\frac{y^{2} \\alpha_{1, 2} \\alpha_{2, 1}}{24} - \\frac{y^{2} \\alpha_{3, 2}}{12} - \\frac{y \\alpha_{1, 1}^{2} \\alpha_{1, 2}^{2}}{360} + \\frac{y \\alpha_{1, 1} \\alpha_{3, 2}}{12} - \\frac{y \\alpha_{1, 2} \\alpha_{3, 1}}{12} + \\frac{y \\alpha_{2, 1}^{2}}{12} - \\frac{y \\alpha_{4, 2}}{2} + \\alpha_{5, 3}\\\\ \n",
       "\\omega_{5,4} &= \\frac{y^{2} \\alpha_{1, 2}^{3}}{120} + \\frac{y \\alpha_{1, 1} \\alpha_{1, 2}^{3}}{360} - \\frac{y \\alpha_{1, 2} \\alpha_{3, 2}}{6} + \\alpha_{5, 4}\\\\ \n",
       "\\omega_{5,5} &= \\frac{y^{2} \\alpha_{1, 2}^{3}}{360} - \\frac{y \\alpha_{1, 1} \\alpha_{1, 2}^{3}}{720} - \\frac{y \\alpha_{1, 2} \\alpha_{3, 2}}{12} + \\frac{y \\alpha_{4, 3}}{2} + \\alpha_{5, 5}\\\\ \n",
       "\\omega_{5,6} &= - \\frac{y \\alpha_{1, 2}^{4}}{720} + \\alpha_{5, 6}\\\\ \n",
       "\\end{align}\n",
       "$$"
      ],
      "text/plain": [
       "<IPython.core.display.Latex object>"
      ]
     },
     "metadata": {},
     "output_type": "display_data"
    }
   ],
   "source": [
    "display(Latex(\"$$\\n\" + metAD.latex_str() + \"\\n$$\"))"
   ]
  }
 ],
 "metadata": {
  "kernelspec": {
   "display_name": "Python 3",
   "language": "python",
   "name": "python3"
  },
  "language_info": {
   "codemirror_mode": {
    "name": "ipython",
    "version": 3
   },
   "file_extension": ".py",
   "mimetype": "text/x-python",
   "name": "python",
   "nbconvert_exporter": "python",
   "pygments_lexer": "ipython3",
   "version": "3.7.3"
  },
  "name": "Untitled.ipynb"
 },
 "nbformat": 4,
 "nbformat_minor": 4
}
