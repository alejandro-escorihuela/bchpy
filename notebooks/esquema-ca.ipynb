{
 "cells": [
  {
   "cell_type": "markdown",
   "metadata": {},
   "source": [
    "# Construcció d'un esquema simplèctic d'ordre 4"
   ]
  },
  {
   "cell_type": "markdown",
   "metadata": {},
   "source": [
    "Importem totes les llibreries necessàries"
   ]
  },
  {
   "cell_type": "code",
   "execution_count": 1,
   "metadata": {
    "collapsed": false,
    "jupyter": {
     "outputs_hidden": false
    }
   },
   "outputs": [],
   "source": [
    "import numpy as np\n",
    "import sympy as sp\n",
    "from IPython.display import display, Markdown, Latex\n",
    "from bchpy import *\n",
    "import relations as rl"
   ]
  },
  {
   "cell_type": "markdown",
   "metadata": {},
   "source": [
    "Volem construir un mètode d'escissió d'ordre 4 amb el seguent esquema:\n",
    "$$\n",
    "\\Psi = \\varphi_{a_0} \\circ \\varphi_{b_0} \\circ \\varphi_{a_1} \\circ \\varphi_{b_1} \\circ \\varphi_{a_1}\\circ \\varphi_{b_0} \\circ \\varphi_{a_0}\n",
    "$$"
   ]
  },
  {
   "cell_type": "markdown",
   "metadata": {},
   "source": [
    "Declarem els vectors de variables simbòliques a i b per als coeficients $a_i$ i $b_i$"
   ]
  },
  {
   "cell_type": "code",
   "execution_count": 2,
   "metadata": {
    "collapsed": false,
    "jupyter": {
     "outputs_hidden": false
    }
   },
   "outputs": [],
   "source": [
    "a = sp.symbols(\"a0:2\")\n",
    "b = sp.symbols(\"b0:2\")"
   ]
  },
  {
   "cell_type": "markdown",
   "metadata": {},
   "source": [
    "Creem un mètode amb la classe `Metode` indicant que l'ordre màxim de càlcul dels coeficientes serà 4 i construïm l'esquema ABA"
   ]
  },
  {
   "cell_type": "code",
   "execution_count": 3,
   "metadata": {},
   "outputs": [],
   "source": [
    "met = Metode(4)\n",
    "met.setABA(a[0], b[0], a[1], b[1], a[1], b[0], a[0])"
   ]
  },
  {
   "cell_type": "markdown",
   "metadata": {},
   "source": [
    "Imprimim les equacions d'ordre. $\\Psi\\equiv e^{\\sum_i \\sum_j \\omega_{ij}E_{ij}}$, on $\\omega_{ij}=f(a,b)$"
   ]
  },
  {
   "cell_type": "code",
   "execution_count": 4,
   "metadata": {},
   "outputs": [
    {
     "data": {
      "text/latex": [
       "$$\n",
       "\\begin{align}\n",
       "\\omega_{1,1} &= 2 a_{0} + 2 a_{1}\\\\ \n",
       "\\omega_{1,2} &= 2 b_{0} + b_{1}\\\\ \n",
       "\\omega_{2,1} &= 0\\\\ \n",
       "\\omega_{3,1} &= - \\frac{a_{0}^{2} b_{0}}{3} - \\frac{a_{0}^{2} b_{1}}{6} - \\frac{2 a_{0} a_{1} b_{0}}{3} - \\frac{a_{0} a_{1} b_{1}}{3} + \\frac{2 a_{1}^{2} b_{0}}{3} - \\frac{a_{1}^{2} b_{1}}{6}\\\\ \n",
       "\\omega_{3,2} &= - \\frac{2 a_{0} b_{0}^{2}}{3} - \\frac{2 a_{0} b_{0} b_{1}}{3} - \\frac{a_{0} b_{1}^{2}}{6} + \\frac{a_{1} b_{0}^{2}}{3} + \\frac{a_{1} b_{0} b_{1}}{3} - \\frac{a_{1} b_{1}^{2}}{6}\\\\ \n",
       "\\omega_{4,1} &= 0\\\\ \n",
       "\\omega_{4,2} &= 0\\\\ \n",
       "\\omega_{4,3} &= 0\\\\ \n",
       "\\end{align}\n",
       "$$"
      ],
      "text/plain": [
       "<IPython.core.display.Latex object>"
      ]
     },
     "metadata": {},
     "output_type": "display_data"
    }
   ],
   "source": [
    "display(Latex(\"$$\\n\" + met.latex_str() + \"\\n$$\"))"
   ]
  },
  {
   "cell_type": "markdown",
   "metadata": {},
   "source": [
    "Com que el mètode ha de ser d'ordre 4 hem d'imposar: $\\omega_{1,1}=\\omega_{1,2}=1$ i $\\omega_{3,1}=\\omega_{3,2}=0$. Fem-ho utilitzant la funció `solve` de sympy:"
   ]
  },
  {
   "cell_type": "code",
   "execution_count": 5,
   "metadata": {},
   "outputs": [],
   "source": [
    "sol_matrix = sp.solve((met.w[1][1] - 1, met.w[1][2] - 1, met.w[3][1], met.w[3][2]), (a[0], a[1], b[0], b[1]))"
   ]
  },
  {
   "cell_type": "markdown",
   "metadata": {},
   "source": [
    "Imprimim la matriu de solucions."
   ]
  },
  {
   "cell_type": "code",
   "execution_count": 6,
   "metadata": {},
   "outputs": [
    {
     "data": {
      "text/latex": [
       "$$\n",
       "\\left [ \\left ( \\frac{2^{\\frac{2}{3}}}{12} + \\frac{\\sqrt[3]{2}}{6} + \\frac{1}{3}, \\quad - \\frac{\\sqrt[3]{2}}{6} - \\frac{2^{\\frac{2}{3}}}{12} + \\frac{1}{6}, \\quad \\frac{2^{\\frac{2}{3}}}{6} + \\frac{\\sqrt[3]{2}}{3} + \\frac{2}{3}, \\quad - \\frac{2 \\sqrt[3]{2}}{3} - \\frac{2^{\\frac{2}{3}}}{3} - \\frac{1}{3}\\right ), \\quad \\left ( - \\frac{\\sqrt[3]{2}}{12} - \\frac{2^{\\frac{2}{3}}}{24} + \\frac{1}{3} - \\frac{\\sqrt[3]{2} \\sqrt{3} i}{12} + \\frac{2^{\\frac{2}{3}} \\sqrt{3} i}{24}, \\quad \\frac{2^{\\frac{2}{3}}}{24} + \\frac{\\sqrt[3]{2}}{12} + \\frac{1}{6} - \\frac{2^{\\frac{2}{3}} \\sqrt{3} i}{24} + \\frac{\\sqrt[3]{2} \\sqrt{3} i}{12}, \\quad - \\frac{\\sqrt[3]{2}}{6} - \\frac{2^{\\frac{2}{3}}}{12} + \\frac{2}{3} - \\frac{\\sqrt[3]{2} \\sqrt{3} i}{6} + \\frac{2^{\\frac{2}{3}} \\sqrt{3} i}{12}, \\quad - \\frac{1}{3} - \\frac{2^{\\frac{2}{3}}}{3 \\left(- \\frac{1}{2} - \\frac{\\sqrt{3} i}{2}\\right)} - \\frac{2 \\sqrt[3]{2} \\left(- \\frac{1}{2} - \\frac{\\sqrt{3} i}{2}\\right)}{3}\\right ), \\quad \\left ( - \\frac{\\sqrt[3]{2}}{12} - \\frac{2^{\\frac{2}{3}}}{24} + \\frac{1}{3} - \\frac{2^{\\frac{2}{3}} \\sqrt{3} i}{24} + \\frac{\\sqrt[3]{2} \\sqrt{3} i}{12}, \\quad \\frac{2^{\\frac{2}{3}}}{24} + \\frac{\\sqrt[3]{2}}{12} + \\frac{1}{6} - \\frac{\\sqrt[3]{2} \\sqrt{3} i}{12} + \\frac{2^{\\frac{2}{3}} \\sqrt{3} i}{24}, \\quad - \\frac{\\sqrt[3]{2}}{6} - \\frac{2^{\\frac{2}{3}}}{12} + \\frac{2}{3} - \\frac{2^{\\frac{2}{3}} \\sqrt{3} i}{12} + \\frac{\\sqrt[3]{2} \\sqrt{3} i}{6}, \\quad - \\frac{1}{3} - \\frac{2 \\sqrt[3]{2} \\left(- \\frac{1}{2} + \\frac{\\sqrt{3} i}{2}\\right)}{3} - \\frac{2^{\\frac{2}{3}}}{3 \\left(- \\frac{1}{2} + \\frac{\\sqrt{3} i}{2}\\right)}\\right )\\right ]\n",
       "$$"
      ],
      "text/plain": [
       "<IPython.core.display.Latex object>"
      ]
     },
     "metadata": {},
     "output_type": "display_data"
    }
   ],
   "source": [
    "display(Latex(\"$$\\n\" + sp.latex(sol_matrix) + \"\\n$$\"))"
   ]
  },
  {
   "cell_type": "markdown",
   "metadata": {},
   "source": [
    "D'aquestes solucions utilitzarem la primera:"
   ]
  },
  {
   "cell_type": "code",
   "execution_count": 7,
   "metadata": {},
   "outputs": [
    {
     "data": {
      "text/latex": [
       "$$\n",
       "\\left ( \\frac{2^{\\frac{2}{3}}}{12} + \\frac{\\sqrt[3]{2}}{6} + \\frac{1}{3}, \\quad - \\frac{\\sqrt[3]{2}}{6} - \\frac{2^{\\frac{2}{3}}}{12} + \\frac{1}{6}, \\quad \\frac{2^{\\frac{2}{3}}}{6} + \\frac{\\sqrt[3]{2}}{3} + \\frac{2}{3}, \\quad - \\frac{2 \\sqrt[3]{2}}{3} - \\frac{2^{\\frac{2}{3}}}{3} - \\frac{1}{3}\\right )\n",
       "$$"
      ],
      "text/plain": [
       "<IPython.core.display.Latex object>"
      ]
     },
     "metadata": {},
     "output_type": "display_data"
    }
   ],
   "source": [
    "sol = sol_matrix[0]\n",
    "display(Latex(\"$$\\n\" + sp.latex(sol) + \"\\n$$\"))"
   ]
  },
  {
   "cell_type": "markdown",
   "metadata": {},
   "source": [
    "On els valors respectivament son $(a_0, a_1, b_0, b_1)$. Per comprovar les solucions podem crear un nou mètode utilitzant aquests resultats com a coeficients."
   ]
  },
  {
   "cell_type": "code",
   "execution_count": 8,
   "metadata": {},
   "outputs": [],
   "source": [
    "metSol = Metode(4)\n",
    "metSol.setABA(sol[0], sol[2], sol[1], sol[3], sol[1], sol[2], sol[0])"
   ]
  },
  {
   "cell_type": "markdown",
   "metadata": {},
   "source": [
    "$\\Psi\\equiv e^{\\sum_i \\sum_j \\omega_{ij}E_{ij}}$, on $\\omega_{ij}=f(a,b)$"
   ]
  },
  {
   "cell_type": "code",
   "execution_count": 9,
   "metadata": {},
   "outputs": [
    {
     "data": {
      "text/latex": [
       "$$\n",
       "\\begin{align}\n",
       "\\omega_{1,1} &= 1\\\\ \n",
       "\\omega_{1,2} &= 1\\\\ \n",
       "\\omega_{2,1} &= 0\\\\ \n",
       "\\omega_{3,1} &= 0\\\\ \n",
       "\\omega_{3,2} &= 0\\\\ \n",
       "\\omega_{4,1} &= 0\\\\ \n",
       "\\omega_{4,2} &= 0\\\\ \n",
       "\\omega_{4,3} &= 0\\\\ \n",
       "\\end{align}\n",
       "$$"
      ],
      "text/plain": [
       "<IPython.core.display.Latex object>"
      ]
     },
     "metadata": {},
     "output_type": "display_data"
    }
   ],
   "source": [
    "display(Latex(\"$$\\n\" + metSol.latex_str() + \"\\n$$\"))"
   ]
  }
 ],
 "metadata": {
  "kernelspec": {
   "display_name": "Python 3",
   "language": "python",
   "name": "python3"
  },
  "language_info": {
   "codemirror_mode": {
    "name": "ipython",
    "version": 3
   },
   "file_extension": ".py",
   "mimetype": "text/x-python",
   "name": "python",
   "nbconvert_exporter": "python",
   "pygments_lexer": "ipython3",
   "version": "3.7.3"
  },
  "name": "Untitled.ipynb"
 },
 "nbformat": 4,
 "nbformat_minor": 4
}
