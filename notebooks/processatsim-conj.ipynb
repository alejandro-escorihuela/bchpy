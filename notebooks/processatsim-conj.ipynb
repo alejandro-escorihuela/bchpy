{
 "cells": [
  {
   "cell_type": "markdown",
   "metadata": {
    "jupyter": {
     "outputs_hidden": false
    }
   },
   "source": [
    "Importem llibreries"
   ]
  },
  {
   "cell_type": "code",
   "execution_count": 1,
   "metadata": {
    "jupyter": {
     "outputs_hidden": false
    }
   },
   "outputs": [],
   "source": [
    "import numpy as np\n",
    "import sympy as sp\n",
    "from sympy import re, im, I\n",
    "from IPython.display import display, Markdown, Latex\n",
    "import sys\n",
    "sys.path.insert(0, '../')\n",
    "from bchpy import *\n",
    "import relations as rl"
   ]
  },
  {
   "cell_type": "markdown",
   "metadata": {},
   "source": [
    "Configurem la base i l'ordre del mètode"
   ]
  },
  {
   "cell_type": "code",
   "execution_count": 7,
   "metadata": {},
   "outputs": [],
   "source": [
    "ord_bch = 5\n",
    "base = \"E\""
   ]
  },
  {
   "cell_type": "markdown",
   "metadata": {},
   "source": [
    "Definim simbòlicament els factors $k_{i,j}$ i $p_{i,j}$ i els desenvolupaments de $K$ i $P$:\n",
    "$$\n",
    "K=\\sum_i \\sum_j k_{i,j}Z_{ij}\n",
    "$$\n",
    "$$\n",
    "P=\\sum_i \\sum_j p_{i,j}Z_{ij}\n",
    "$$"
   ]
  },
  {
   "cell_type": "code",
   "execution_count": 3,
   "metadata": {},
   "outputs": [],
   "source": [
    "tams = rl.tamZ\n",
    "if base == \"E\":\n",
    "    tams = rl.tamE\n",
    "P=sp.S(0)\n",
    "K=sp.S(0)\n",
    "p = sp.MatrixSymbol(\"p\", ord_bch + 1, tams[ord_bch - 1] + 1)\n",
    "k = sp.MatrixSymbol(\"k\", ord_bch + 1, tams[ord_bch - 1] + 1)"
   ]
  },
  {
   "cell_type": "markdown",
   "metadata": {},
   "source": [
    "Calculem $W$, utilitzant:\n",
    "$$\n",
    "W = e^{\\#P\\#}K=K+[P,K]+\\frac{1}{2!}[P,P,K]+\\frac{1}{3!}[P,P,P,K]+\\cdots\n",
    "$$"
   ]
  },
  {
   "cell_type": "markdown",
   "metadata": {},
   "source": [
    "Processat imaginari pur i palindromic per a un nucli simètric-conjugat"
   ]
  },
  {
   "cell_type": "code",
   "execution_count": 21,
   "metadata": {},
   "outputs": [
    {
     "name": "stdout",
     "output_type": "stream",
     "text": [
      "Desenvolupament del nucli\n"
     ]
    },
    {
     "data": {
      "text/latex": [
       "$$\n",
       " K=i k_{2, 1} E_{2,1} + k_{3, 1} E_{3,1} + k_{3, 2} E_{3,2} + i k_{4, 1} E_{4,1} + i k_{4, 2} E_{4,2} + i k_{4, 3} E_{4,3} + k_{5, 1} E_{5,1} + k_{5, 2} E_{5,2} + k_{5, 3} E_{5,3} + k_{5, 4} E_{5,4} + k_{5, 5} E_{5,5} + k_{5, 6} E_{5,6} + E_{1,1} + E_{1,2}\n",
       "$$"
      ],
      "text/plain": [
       "<IPython.core.display.Latex object>"
      ]
     },
     "metadata": {},
     "output_type": "display_data"
    },
    {
     "name": "stdout",
     "output_type": "stream",
     "text": [
      "Desenvolupament del processat\n"
     ]
    },
    {
     "data": {
      "text/latex": [
       "$$\n",
       " P=i p_{1, 1} E_{1,1} + i p_{1, 2} E_{1,2} + i p_{3, 1} E_{3,1} + i p_{3, 2} E_{3,2} + i p_{5, 1} E_{5,1} + i p_{5, 2} E_{5,2} + i p_{5, 3} E_{5,3} + i p_{5, 4} E_{5,4} + i p_{5, 5} E_{5,5} + i p_{5, 6} E_{5,6}\n",
       "$$"
      ],
      "text/plain": [
       "<IPython.core.display.Latex object>"
      ]
     },
     "metadata": {},
     "output_type": "display_data"
    },
    {
     "name": "stdout",
     "output_type": "stream",
     "text": [
      "Condicions d'ordre del mètode complet\n"
     ]
    },
    {
     "data": {
      "text/latex": [
       "$$\n",
       "\\begin{align}\n",
       "\\omega_{1,1} &= 1\\\\ \n",
       "\\omega_{1,2} &= 1\\\\ \n",
       "\\omega_{2,1} &= i \\left(k_{2, 1} + p_{1, 1} - p_{1, 2}\\right)\\\\ \n",
       "\\omega_{3,1} &= - k_{2, 1} p_{1, 1} + k_{3, 1} - \\frac{p_{1, 1}^{2}}{2} + \\frac{p_{1, 1} p_{1, 2}}{2}\\\\ \n",
       "\\omega_{3,2} &= - k_{2, 1} p_{1, 2} + k_{3, 2} - \\frac{p_{1, 1} p_{1, 2}}{2} + \\frac{p_{1, 2}^{2}}{2}\\\\ \n",
       "\\omega_{4,1} &= i \\left(- \\frac{k_{2, 1} p_{1, 1}^{2}}{2} + k_{3, 1} p_{1, 1} + k_{4, 1} - \\frac{p_{1, 1}^{3}}{6} + \\frac{p_{1, 1}^{2} p_{1, 2}}{6} - p_{3, 1}\\right)\\\\ \n",
       "\\omega_{4,2} &= i \\left(- k_{2, 1} p_{1, 1} p_{1, 2} + k_{3, 1} p_{1, 2} + k_{3, 2} p_{1, 1} + k_{4, 2} - \\frac{p_{1, 1}^{2} p_{1, 2}}{3} + \\frac{p_{1, 1} p_{1, 2}^{2}}{3} - p_{3, 1} - p_{3, 2}\\right)\\\\ \n",
       "\\omega_{4,3} &= i \\left(\\frac{k_{2, 1} p_{1, 2}^{2}}{2} - k_{3, 2} p_{1, 2} + k_{4, 3} + \\frac{p_{1, 1} p_{1, 2}^{2}}{6} - \\frac{p_{1, 2}^{3}}{6} + p_{3, 2}\\right)\\\\ \n",
       "\\omega_{5,1} &= \\frac{k_{2, 1} p_{1, 1}^{3}}{6} - \\frac{k_{3, 1} p_{1, 1}^{2}}{2} - k_{4, 1} p_{1, 1} + k_{5, 1} + \\frac{p_{1, 1}^{4}}{24} - \\frac{p_{1, 1}^{3} p_{1, 2}}{24} + \\frac{p_{1, 1} p_{3, 1}}{2}\\\\ \n",
       "\\omega_{5,2} &= \\frac{k_{2, 1} p_{1, 1}^{2} p_{1, 2}}{6} - k_{2, 1} p_{3, 1} - \\frac{k_{3, 1} p_{1, 1} p_{1, 2}}{2} - k_{4, 1} p_{1, 2} + k_{5, 2} + \\frac{p_{1, 1}^{3} p_{1, 2}}{24} - \\frac{p_{1, 1}^{2} p_{1, 2}^{2}}{24} - \\frac{p_{1, 1} p_{3, 1}}{2} + p_{1, 2} p_{3, 1}\\\\ \n",
       "\\omega_{5,3} &= - \\frac{k_{2, 1} p_{1, 1}^{2} p_{1, 2}}{3} - k_{2, 1} p_{3, 1} + \\frac{k_{3, 1} p_{1, 1} p_{1, 2}}{2} + \\frac{k_{3, 2} p_{1, 1}^{2}}{2} + k_{4, 2} p_{1, 1} + k_{5, 3} - \\frac{p_{1, 1}^{3} p_{1, 2}}{12} + \\frac{p_{1, 1}^{2} p_{1, 2}^{2}}{12} - p_{1, 1} p_{3, 1} - \\frac{p_{1, 1} p_{3, 2}}{2} + \\frac{p_{1, 2} p_{3, 1}}{2}\\\\ \n",
       "\\omega_{5,4} &= \\frac{k_{2, 1} p_{1, 1} p_{1, 2}^{2}}{3} - k_{2, 1} p_{3, 2} - \\frac{k_{3, 1} p_{1, 2}^{2}}{2} - \\frac{k_{3, 2} p_{1, 1} p_{1, 2}}{2} - k_{4, 2} p_{1, 2} + k_{5, 4} + \\frac{p_{1, 1}^{2} p_{1, 2}^{2}}{12} - \\frac{p_{1, 1} p_{1, 2}^{3}}{12} - \\frac{p_{1, 1} p_{3, 2}}{2} + \\frac{p_{1, 2} p_{3, 1}}{2} + p_{1, 2} p_{3, 2}\\\\ \n",
       "\\omega_{5,5} &= - \\frac{k_{2, 1} p_{1, 1} p_{1, 2}^{2}}{6} - k_{2, 1} p_{3, 2} + \\frac{k_{3, 2} p_{1, 1} p_{1, 2}}{2} - k_{4, 3} p_{1, 1} + k_{5, 5} - \\frac{p_{1, 1}^{2} p_{1, 2}^{2}}{24} + \\frac{p_{1, 1} p_{1, 2}^{3}}{24} - p_{1, 1} p_{3, 2} + \\frac{p_{1, 2} p_{3, 2}}{2}\\\\ \n",
       "\\omega_{5,6} &= - \\frac{k_{2, 1} p_{1, 2}^{3}}{6} + \\frac{k_{3, 2} p_{1, 2}^{2}}{2} - k_{4, 3} p_{1, 2} + k_{5, 6} - \\frac{p_{1, 1} p_{1, 2}^{3}}{24} + \\frac{p_{1, 2}^{4}}{24} - \\frac{p_{1, 2} p_{3, 2}}{2}\\\\ \n",
       "\\end{align}\n",
       "$$"
      ],
      "text/plain": [
       "<IPython.core.display.Latex object>"
      ]
     },
     "metadata": {},
     "output_type": "display_data"
    }
   ],
   "source": [
    "P=I*p[1,1]*Eel(1, 1, base)\n",
    "K=Eel(1, 1, base)\n",
    "if base == \"E\":\n",
    "    K += Eel(1, 2, base)\n",
    "    P += I*p[1,2]*Eel(1, 2, base)\n",
    "for i in range(1, ord_bch):\n",
    "    for j in range(tams[i]):\n",
    "        if i % 2 != 0: # parells\n",
    "            #P += p[i + 1, j + 1]*Eel(i + 1, j + 1, base)\n",
    "            K += I*k[i + 1, j + 1]*Eel(i + 1, j + 1, base)\n",
    "        if i % 2 == 0: # senars\n",
    "            K += k[i + 1, j + 1]*Eel(i + 1, j + 1, base)\n",
    "            P += I*p[i + 1, j + 1]*Eel(i + 1, j + 1, base)\n",
    "C = K\n",
    "esq = K\n",
    "fact = 1\n",
    "print(\"Desenvolupament del nucli\")\n",
    "display(Latex(\"$$\\n K=\" + sp.latex(K) + \"\\n$$\"))\n",
    "print(\"Desenvolupament del processat\")\n",
    "display(Latex(\"$$\\n P=\" + sp.latex(P) + \"\\n$$\"))\n",
    "for i in range(1, ord_bch + 1):\n",
    "    fact = fact * i\n",
    "    C = Corxet(P, C)\n",
    "    esq += C/fact\n",
    "metPr5 = Metode(ord_bch, base)\n",
    "metPr5.importFromExpr(esq)\n",
    "metPr5.collectI()\n",
    "print(\"Condicions d'ordre del mètode complet\")\n",
    "display(Latex(\"$$\\n\" + sp.latex(metPr5) + \"\\n$$\"))"
   ]
  }
 ],
 "metadata": {
  "kernelspec": {
   "display_name": "Python 3",
   "language": "python",
   "name": "python3"
  },
  "language_info": {
   "codemirror_mode": {
    "name": "ipython",
    "version": 3
   },
   "file_extension": ".py",
   "mimetype": "text/x-python",
   "name": "python",
   "nbconvert_exporter": "python",
   "pygments_lexer": "ipython3",
   "version": "3.7.3"
  }
 },
 "nbformat": 4,
 "nbformat_minor": 4
}
