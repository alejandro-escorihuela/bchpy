{
 "cells": [
  {
   "cell_type": "markdown",
   "metadata": {
    "jupyter": {
     "outputs_hidden": false
    }
   },
   "source": [
    "Importem llibreries"
   ]
  },
  {
   "cell_type": "code",
   "execution_count": 1,
   "metadata": {
    "jupyter": {
     "outputs_hidden": false
    }
   },
   "outputs": [],
   "source": [
    "import numpy as np\n",
    "import sympy as sp\n",
    "from sympy import re, im, I\n",
    "from IPython.display import display, Markdown, Latex\n",
    "import sys\n",
    "sys.path.insert(0, '../')\n",
    "from bchpy import *\n",
    "import relations as rl"
   ]
  },
  {
   "cell_type": "markdown",
   "metadata": {},
   "source": [
    "Configurem la base i l'ordre del mètode"
   ]
  },
  {
   "cell_type": "code",
   "execution_count": 2,
   "metadata": {},
   "outputs": [],
   "source": [
    "ord_bch = 4\n",
    "base = \"E\""
   ]
  },
  {
   "cell_type": "markdown",
   "metadata": {},
   "source": [
    "Definim simbòlicament els factors $k_{i,j}$ i $p_{i,j}$ i els desenvolupaments de $K$ i $P$:\n",
    "$$\n",
    "K=\\sum_i \\sum_j k_{i,j}Z_{ij}\n",
    "$$\n",
    "$$\n",
    "P=\\sum_i \\sum_j p_{i,j}Z_{ij}\n",
    "$$"
   ]
  },
  {
   "cell_type": "code",
   "execution_count": 3,
   "metadata": {},
   "outputs": [],
   "source": [
    "tams = rl.tamZ\n",
    "if base == \"E\":\n",
    "    tams = rl.tamE\n",
    "P=sp.S(0)\n",
    "K=sp.S(0)\n",
    "p = sp.MatrixSymbol(\"p\", ord_bch + 1, tams[ord_bch - 1] + 1)\n",
    "r = sp.MatrixSymbol(\"r\", ord_bch + 1, tams[ord_bch - 1] + 1)\n",
    "q = sp.MatrixSymbol(\"q\", ord_bch + 1, tams[ord_bch - 1] + 1)\n",
    "k = sp.MatrixSymbol(\"k\", ord_bch + 1, tams[ord_bch - 1] + 1)"
   ]
  },
  {
   "cell_type": "markdown",
   "metadata": {},
   "source": [
    "Calculem $W$, utilitzant:\n",
    "$$\n",
    "W = e^{\\#P\\#}K=K+[P,K]+\\frac{1}{2!}[P,P,K]+\\frac{1}{3!}[P,P,P,K]+\\cdots\n",
    "$$"
   ]
  },
  {
   "cell_type": "markdown",
   "metadata": {},
   "source": [
    " ## Cas 1. Nucli sim-conj d'ordre 1. Processat imaginari pur i palindròmic."
   ]
  },
  {
   "cell_type": "code",
   "execution_count": 4,
   "metadata": {
    "scrolled": true
   },
   "outputs": [
    {
     "name": "stdout",
     "output_type": "stream",
     "text": [
      "Desenvolupament del nucli\n"
     ]
    },
    {
     "data": {
      "text/latex": [
       "$$\n",
       " K=i k_{2, 1} E_{2,1} + k_{3, 1} E_{3,1} + k_{3, 2} E_{3,2} + i k_{4, 1} E_{4,1} + i k_{4, 2} E_{4,2} + i k_{4, 3} E_{4,3} + E_{1,1} + E_{1,2}\n",
       "$$"
      ],
      "text/plain": [
       "<IPython.core.display.Latex object>"
      ]
     },
     "metadata": {},
     "output_type": "display_data"
    },
    {
     "name": "stdout",
     "output_type": "stream",
     "text": [
      "Desenvolupament del processat\n"
     ]
    },
    {
     "data": {
      "text/latex": [
       "$$\n",
       " P=i \\left(k_{2, 1} + p_{1, 1}\\right) E_{1,2} + i \\left(- \\frac{k_{2, 1} p_{1, 1}^{2}}{3} + k_{3, 1} p_{1, 1} + k_{4, 1}\\right) E_{3,1} + i \\left(- \\frac{2 k_{2, 1}^{2} p_{1, 1}}{3} + k_{2, 1} k_{3, 1} - \\frac{k_{2, 1} p_{1, 1}^{2}}{3} + k_{3, 2} p_{1, 1} - k_{4, 1} + k_{4, 2}\\right) E_{3,2} + i p_{1, 1} E_{1,1}\n",
       "$$"
      ],
      "text/plain": [
       "<IPython.core.display.Latex object>"
      ]
     },
     "metadata": {},
     "output_type": "display_data"
    },
    {
     "name": "stdout",
     "output_type": "stream",
     "text": [
      "Condicions d'ordre del mètode complet\n"
     ]
    },
    {
     "data": {
      "text/latex": [
       "$$\n",
       "\\begin{align}\n",
       "\\omega_{1,1} &= 1\\\\ \n",
       "\\omega_{1,2} &= 1\\\\ \n",
       "\\omega_{2,1} &= 0\\\\ \n",
       "\\omega_{3,1} &= - \\frac{k_{2, 1} p_{1, 1}}{2} + k_{3, 1}\\\\ \n",
       "\\omega_{3,2} &= - \\frac{k_{2, 1}^{2}}{2} - \\frac{k_{2, 1} p_{1, 1}}{2} + k_{3, 2}\\\\ \n",
       "\\omega_{4,1} &= 0\\\\ \n",
       "\\omega_{4,2} &= 0\\\\ \n",
       "\\omega_{4,3} &= i \\left(\\frac{k_{2, 1}^{3}}{3} + k_{2, 1} k_{3, 1} - k_{2, 1} k_{3, 2} - k_{4, 1} + k_{4, 2} + k_{4, 3}\\right)\\\\ \n",
       "\\end{align}\n",
       "$$"
      ],
      "text/plain": [
       "<IPython.core.display.Latex object>"
      ]
     },
     "metadata": {},
     "output_type": "display_data"
    }
   ],
   "source": [
    "P=I*p[1,1]*Eel(1, 1, base)\n",
    "K=Eel(1, 1, base)\n",
    "if base == \"E\":\n",
    "    K += Eel(1, 2, base)\n",
    "    P += I*p[1,2]*Eel(1, 2, base)\n",
    "for i in range(1, ord_bch):\n",
    "    for j in range(tams[i]):\n",
    "        if i % 2 != 0: # parells\n",
    "            #P += p[i + 1, j + 1]*Eel(i + 1, j + 1, base)\n",
    "            K += I*k[i + 1, j + 1]*Eel(i + 1, j + 1, base)\n",
    "        if i % 2 == 0: # senars\n",
    "            K += k[i + 1, j + 1]*Eel(i + 1, j + 1, base)\n",
    "            P += I*p[i + 1, j + 1]*Eel(i + 1, j + 1, base)\n",
    "P += -I*p[1,2]*Eel(1, 2, base) + I*(k[2, 1] + p[1, 1])*Eel(1, 2, base)\n",
    "P += -I*p[3,1]*Eel(3, 1, base) + I*(-k[2, 1]*p[1, 1]**2/3 + k[3, 1]*p[1, 1] + k[4, 1])*Eel(3, 1, base)\n",
    "P += -I*p[3,2]*Eel(3, 2, base) + I*(-2*k[2, 1]**2*p[1, 1]/3 + k[2, 1]*k[3, 1] - k[2, 1]*p[1, 1]**2/3 + k[3, 2]*p[1, 1] - k[4, 1] + k[4, 2])*Eel(3, 2, base)\n",
    "C = K\n",
    "esq = K\n",
    "fact = 1\n",
    "print(\"Desenvolupament del nucli\")\n",
    "display(Latex(\"$$\\n K=\" + sp.latex(K) + \"\\n$$\"))\n",
    "print(\"Desenvolupament del processat\")\n",
    "display(Latex(\"$$\\n P=\" + sp.latex(P) + \"\\n$$\"))\n",
    "for i in range(1, ord_bch + 1):\n",
    "    fact = fact * i\n",
    "    C = Claudator(P, C)\n",
    "    esq += C/fact\n",
    "metA = Metode(ord_bch, base)\n",
    "metA.importFromExpr(esq)\n",
    "metA.collectI()\n",
    "print(\"Condicions d'ordre del mètode complet\")\n",
    "display(Latex(\"$$\\n\" + sp.latex(metA) + \"\\n$$\"))"
   ]
  },
  {
   "cell_type": "markdown",
   "metadata": {},
   "source": [
    " ## Cas 2. Nucli sim-conj d'ordre 1. Processat imaginari pur"
   ]
  },
  {
   "cell_type": "code",
   "execution_count": 5,
   "metadata": {},
   "outputs": [
    {
     "name": "stdout",
     "output_type": "stream",
     "text": [
      "Desenvolupament del nucli\n"
     ]
    },
    {
     "data": {
      "text/latex": [
       "$$\n",
       " K=i k_{2, 1} E_{2,1} + k_{3, 1} E_{3,1} + k_{3, 2} E_{3,2} + i k_{4, 1} E_{4,1} + i k_{4, 2} E_{4,2} + i k_{4, 3} E_{4,3} + E_{1,1} + E_{1,2}\n",
       "$$"
      ],
      "text/plain": [
       "<IPython.core.display.Latex object>"
      ]
     },
     "metadata": {},
     "output_type": "display_data"
    },
    {
     "name": "stdout",
     "output_type": "stream",
     "text": [
      "Desenvolupament del processat\n"
     ]
    },
    {
     "data": {
      "text/latex": [
       "$$\n",
       " P=\\left(- \\frac{k_{2, 1} p_{1, 1}}{2} + k_{3, 1}\\right) E_{2,1} + i \\left(k_{2, 1} + p_{1, 1}\\right) E_{1,2} + i \\left(- \\frac{k_{2, 1} p_{1, 1}^{2}}{12} + \\frac{k_{3, 1} p_{1, 1}}{2} + k_{4, 1}\\right) E_{3,1} + i \\left(- \\frac{5 k_{2, 1}^{2} p_{1, 1}}{12} + \\frac{k_{2, 1} k_{3, 1}}{2} - \\frac{k_{2, 1} p_{1, 1}^{2}}{12} - \\frac{k_{3, 1} p_{1, 1}}{2} + k_{3, 2} p_{1, 1} - k_{4, 1} + k_{4, 2}\\right) E_{3,2} + i p_{1, 1} E_{1,1} + p_{4, 1} E_{4,1} + p_{4, 2} E_{4,2} + p_{4, 3} E_{4,3}\n",
       "$$"
      ],
      "text/plain": [
       "<IPython.core.display.Latex object>"
      ]
     },
     "metadata": {},
     "output_type": "display_data"
    },
    {
     "name": "stdout",
     "output_type": "stream",
     "text": [
      "Condicions d'ordre del mètode complet\n"
     ]
    },
    {
     "data": {
      "text/latex": [
       "$$\n",
       "\\begin{align}\n",
       "\\omega_{1,1} &= 1\\\\ \n",
       "\\omega_{1,2} &= 1\\\\ \n",
       "\\omega_{2,1} &= 0\\\\ \n",
       "\\omega_{3,1} &= 0\\\\ \n",
       "\\omega_{3,2} &= - \\frac{k_{2, 1}^{2}}{2} - k_{3, 1} + k_{3, 2}\\\\ \n",
       "\\omega_{4,1} &= 0\\\\ \n",
       "\\omega_{4,2} &= 0\\\\ \n",
       "\\omega_{4,3} &= i \\left(\\frac{k_{2, 1}^{3}}{3} + k_{2, 1} k_{3, 1} - k_{2, 1} k_{3, 2} - k_{4, 1} + k_{4, 2} + k_{4, 3}\\right)\\\\ \n",
       "\\end{align}\n",
       "$$"
      ],
      "text/plain": [
       "<IPython.core.display.Latex object>"
      ]
     },
     "metadata": {},
     "output_type": "display_data"
    }
   ],
   "source": [
    "P=I*p[1,1]*Eel(1, 1, base)\n",
    "K=Eel(1, 1, base)\n",
    "if base == \"E\":\n",
    "    K += Eel(1, 2, base)\n",
    "    P += I*p[1,2]*Eel(1, 2, base)\n",
    "for i in range(1, ord_bch):\n",
    "    for j in range(tams[i]):\n",
    "        if i % 2 != 0: # parells\n",
    "            P += p[i + 1, j + 1]*Eel(i + 1, j + 1, base)\n",
    "            K += I*k[i + 1, j + 1]*Eel(i + 1, j + 1, base)\n",
    "        if i % 2 == 0: # senars\n",
    "            K += k[i + 1, j + 1]*Eel(i + 1, j + 1, base)\n",
    "            P += I*p[i + 1, j + 1]*Eel(i + 1, j + 1, base)\n",
    "P += -I*p[1,2]*Eel(1, 2, base) + I*(k[2, 1] + p[1, 1])*Eel(1, 2, base)\n",
    "P += -p[2,1]*Eel(2, 1, base) + (-k[2, 1]*p[1, 1]/2 + k[3, 1])*Eel(2, 1, base)\n",
    "P += -I*p[3,1]*Eel(3, 1, base) + I*(-k[2, 1]*p[1, 1]**2/12 + k[3, 1]*p[1, 1]/2 + k[4, 1])*Eel(3, 1, base)\n",
    "P += -I*p[3,2]*Eel(3, 2, base) + I*(-5*k[2, 1]**2*p[1, 1]/12 + k[2, 1]*k[3, 1]/2 - k[2, 1]*p[1, 1]**2/12 - k[3, 1]*p[1, 1]/2 + k[3, 2]*p[1, 1] - k[4, 1] + k[4, 2])*Eel(3, 2, base)\n",
    "C = K\n",
    "esq = K\n",
    "fact = 1\n",
    "print(\"Desenvolupament del nucli\")\n",
    "display(Latex(\"$$\\n K=\" + sp.latex(K) + \"\\n$$\"))\n",
    "print(\"Desenvolupament del processat\")\n",
    "display(Latex(\"$$\\n P=\" + sp.latex(P) + \"\\n$$\"))\n",
    "for i in range(1, ord_bch + 1):\n",
    "    fact = fact * i\n",
    "    C = Claudator(P, C)\n",
    "    esq += C/fact\n",
    "metA = Metode(ord_bch, base)\n",
    "metA.importFromExpr(esq)\n",
    "metA.collectI()\n",
    "print(\"Condicions d'ordre del mètode complet\")\n",
    "display(Latex(\"$$\\n\" + sp.latex(metA) + \"\\n$$\"))"
   ]
  },
  {
   "cell_type": "markdown",
   "metadata": {},
   "source": [
    " ## Cas 3. Nucli sim-conj d'ordre 1. Processat general"
   ]
  },
  {
   "cell_type": "code",
   "execution_count": 6,
   "metadata": {},
   "outputs": [
    {
     "name": "stdout",
     "output_type": "stream",
     "text": [
      "Desenvolupament del nucli\n"
     ]
    },
    {
     "data": {
      "text/latex": [
       "$$\n",
       " K=i k_{2, 1} E_{2,1} + k_{3, 1} E_{3,1} + k_{3, 2} E_{3,2} + i k_{4, 1} E_{4,1} + i k_{4, 2} E_{4,2} + i k_{4, 3} E_{4,3} + E_{1,1} + E_{1,2}\n",
       "$$"
      ],
      "text/plain": [
       "<IPython.core.display.Latex object>"
      ]
     },
     "metadata": {},
     "output_type": "display_data"
    },
    {
     "name": "stdout",
     "output_type": "stream",
     "text": [
      "Desenvolupament del processat\n"
     ]
    },
    {
     "data": {
      "text/latex": [
       "$$\n",
       " P=\\left(i q_{1, 1} + r_{1, 1}\\right) E_{1,1} + \\left(i q_{1, 2} + r_{1, 2}\\right) E_{1,2} + \\left(i q_{2, 1} + r_{2, 1}\\right) E_{2,1} + \\left(i q_{3, 1} + r_{3, 1}\\right) E_{3,1} + \\left(i q_{3, 2} + r_{3, 2}\\right) E_{3,2} + \\left(i q_{4, 1} + r_{4, 1}\\right) E_{4,1} + \\left(i q_{4, 2} + r_{4, 2}\\right) E_{4,2} + \\left(i q_{4, 3} + r_{4, 3}\\right) E_{4,3}\n",
       "$$"
      ],
      "text/plain": [
       "<IPython.core.display.Latex object>"
      ]
     },
     "metadata": {},
     "output_type": "display_data"
    },
    {
     "ename": "KeyboardInterrupt",
     "evalue": "",
     "output_type": "error",
     "traceback": [
      "\u001b[0;31m---------------------------------------------------------------------------\u001b[0m",
      "\u001b[0;31mKeyboardInterrupt\u001b[0m                         Traceback (most recent call last)",
      "\u001b[0;32m<ipython-input-6-41fdb3b01f51>\u001b[0m in \u001b[0;36m<module>\u001b[0;34m()\u001b[0m\n\u001b[1;32m     24\u001b[0m     \u001b[0mesq\u001b[0m \u001b[0;34m+=\u001b[0m \u001b[0mC\u001b[0m\u001b[0;34m/\u001b[0m\u001b[0mfact\u001b[0m\u001b[0;34m\u001b[0m\u001b[0;34m\u001b[0m\u001b[0m\n\u001b[1;32m     25\u001b[0m \u001b[0mmetA\u001b[0m \u001b[0;34m=\u001b[0m \u001b[0mMetode\u001b[0m\u001b[0;34m(\u001b[0m\u001b[0mord_bch\u001b[0m\u001b[0;34m,\u001b[0m \u001b[0mbase\u001b[0m\u001b[0;34m)\u001b[0m\u001b[0;34m\u001b[0m\u001b[0;34m\u001b[0m\u001b[0m\n\u001b[0;32m---> 26\u001b[0;31m \u001b[0mmetA\u001b[0m\u001b[0;34m.\u001b[0m\u001b[0mimportFromExpr\u001b[0m\u001b[0;34m(\u001b[0m\u001b[0mesq\u001b[0m\u001b[0;34m)\u001b[0m\u001b[0;34m\u001b[0m\u001b[0;34m\u001b[0m\u001b[0m\n\u001b[0m\u001b[1;32m     27\u001b[0m \u001b[0mmetA\u001b[0m\u001b[0;34m.\u001b[0m\u001b[0mcollectI\u001b[0m\u001b[0;34m(\u001b[0m\u001b[0;34m)\u001b[0m\u001b[0;34m\u001b[0m\u001b[0;34m\u001b[0m\u001b[0m\n\u001b[1;32m     28\u001b[0m \u001b[0mprint\u001b[0m\u001b[0;34m(\u001b[0m\u001b[0;34m\"Condicions d'ordre del mètode complet\"\u001b[0m\u001b[0;34m)\u001b[0m\u001b[0;34m\u001b[0m\u001b[0;34m\u001b[0m\u001b[0m\n",
      "\u001b[0;32m/home/alex/Escriptori/bchpy/bchpy.py\u001b[0m in \u001b[0;36mimportFromExpr\u001b[0;34m(self, esq, debug)\u001b[0m\n\u001b[1;32m    235\u001b[0m         \u001b[0;32mfor\u001b[0m \u001b[0mi\u001b[0m \u001b[0;32min\u001b[0m \u001b[0mrange\u001b[0m\u001b[0;34m(\u001b[0m\u001b[0mself\u001b[0m\u001b[0;34m.\u001b[0m\u001b[0mdepth\u001b[0m\u001b[0;34m)\u001b[0m\u001b[0;34m:\u001b[0m\u001b[0;34m\u001b[0m\u001b[0;34m\u001b[0m\u001b[0m\n\u001b[1;32m    236\u001b[0m             \u001b[0;32mfor\u001b[0m \u001b[0mj\u001b[0m \u001b[0;32min\u001b[0m \u001b[0mrange\u001b[0m\u001b[0;34m(\u001b[0m\u001b[0mtams\u001b[0m\u001b[0;34m[\u001b[0m\u001b[0mi\u001b[0m\u001b[0;34m]\u001b[0m\u001b[0;34m)\u001b[0m\u001b[0;34m:\u001b[0m\u001b[0;34m\u001b[0m\u001b[0;34m\u001b[0m\u001b[0m\n\u001b[0;32m--> 237\u001b[0;31m                 \u001b[0mself\u001b[0m\u001b[0;34m.\u001b[0m\u001b[0mw\u001b[0m\u001b[0;34m[\u001b[0m\u001b[0mi\u001b[0m \u001b[0;34m+\u001b[0m \u001b[0;36m1\u001b[0m\u001b[0;34m]\u001b[0m\u001b[0;34m[\u001b[0m\u001b[0mj\u001b[0m \u001b[0;34m+\u001b[0m \u001b[0;36m1\u001b[0m\u001b[0;34m]\u001b[0m \u001b[0;34m=\u001b[0m \u001b[0msp\u001b[0m\u001b[0;34m.\u001b[0m\u001b[0mdiff\u001b[0m\u001b[0;34m(\u001b[0m\u001b[0mesq_e\u001b[0m\u001b[0;34m.\u001b[0m\u001b[0msubs\u001b[0m\u001b[0;34m(\u001b[0m\u001b[0mEel\u001b[0m\u001b[0;34m(\u001b[0m\u001b[0mi\u001b[0m \u001b[0;34m+\u001b[0m \u001b[0;36m1\u001b[0m\u001b[0;34m,\u001b[0m \u001b[0mj\u001b[0m \u001b[0;34m+\u001b[0m \u001b[0;36m1\u001b[0m\u001b[0;34m,\u001b[0m \u001b[0mself\u001b[0m\u001b[0;34m.\u001b[0m\u001b[0mt\u001b[0m\u001b[0;34m)\u001b[0m\u001b[0;34m,\u001b[0m \u001b[0m_x_diff_var\u001b[0m\u001b[0;34m)\u001b[0m\u001b[0;34m,\u001b[0m \u001b[0m_x_diff_var\u001b[0m\u001b[0;34m)\u001b[0m\u001b[0;34m\u001b[0m\u001b[0;34m\u001b[0m\u001b[0m\n\u001b[0m\u001b[1;32m    238\u001b[0m         \u001b[0mself\u001b[0m\u001b[0;34m.\u001b[0m\u001b[0msetw\u001b[0m \u001b[0;34m=\u001b[0m \u001b[0;32mTrue\u001b[0m\u001b[0;34m\u001b[0m\u001b[0;34m\u001b[0m\u001b[0m\n\u001b[1;32m    239\u001b[0m \u001b[0;34m\u001b[0m\u001b[0m\n",
      "\u001b[0;32m/usr/lib/python3/dist-packages/sympy/core/basic.py\u001b[0m in \u001b[0;36msubs\u001b[0;34m(self, *args, **kwargs)\u001b[0m\n\u001b[1;32m    928\u001b[0m             \u001b[0mrv\u001b[0m \u001b[0;34m=\u001b[0m \u001b[0mself\u001b[0m\u001b[0;34m\u001b[0m\u001b[0;34m\u001b[0m\u001b[0m\n\u001b[1;32m    929\u001b[0m             \u001b[0;32mfor\u001b[0m \u001b[0mold\u001b[0m\u001b[0;34m,\u001b[0m \u001b[0mnew\u001b[0m \u001b[0;32min\u001b[0m \u001b[0msequence\u001b[0m\u001b[0;34m:\u001b[0m\u001b[0;34m\u001b[0m\u001b[0;34m\u001b[0m\u001b[0m\n\u001b[0;32m--> 930\u001b[0;31m                 \u001b[0mrv\u001b[0m \u001b[0;34m=\u001b[0m \u001b[0mrv\u001b[0m\u001b[0;34m.\u001b[0m\u001b[0m_subs\u001b[0m\u001b[0;34m(\u001b[0m\u001b[0mold\u001b[0m\u001b[0;34m,\u001b[0m \u001b[0mnew\u001b[0m\u001b[0;34m,\u001b[0m \u001b[0;34m**\u001b[0m\u001b[0mkwargs\u001b[0m\u001b[0;34m)\u001b[0m\u001b[0;34m\u001b[0m\u001b[0;34m\u001b[0m\u001b[0m\n\u001b[0m\u001b[1;32m    931\u001b[0m                 \u001b[0;32mif\u001b[0m \u001b[0;32mnot\u001b[0m \u001b[0misinstance\u001b[0m\u001b[0;34m(\u001b[0m\u001b[0mrv\u001b[0m\u001b[0;34m,\u001b[0m \u001b[0mBasic\u001b[0m\u001b[0;34m)\u001b[0m\u001b[0;34m:\u001b[0m\u001b[0;34m\u001b[0m\u001b[0;34m\u001b[0m\u001b[0m\n\u001b[1;32m    932\u001b[0m                     \u001b[0;32mbreak\u001b[0m\u001b[0;34m\u001b[0m\u001b[0;34m\u001b[0m\u001b[0m\n",
      "\u001b[0;32m/usr/lib/python3/dist-packages/sympy/core/cache.py\u001b[0m in \u001b[0;36mwrapper\u001b[0;34m(*args, **kwargs)\u001b[0m\n\u001b[1;32m     91\u001b[0m             \u001b[0;32mdef\u001b[0m \u001b[0mwrapper\u001b[0m\u001b[0;34m(\u001b[0m\u001b[0;34m*\u001b[0m\u001b[0margs\u001b[0m\u001b[0;34m,\u001b[0m \u001b[0;34m**\u001b[0m\u001b[0mkwargs\u001b[0m\u001b[0;34m)\u001b[0m\u001b[0;34m:\u001b[0m\u001b[0;34m\u001b[0m\u001b[0;34m\u001b[0m\u001b[0m\n\u001b[1;32m     92\u001b[0m                 \u001b[0;32mtry\u001b[0m\u001b[0;34m:\u001b[0m\u001b[0;34m\u001b[0m\u001b[0;34m\u001b[0m\u001b[0m\n\u001b[0;32m---> 93\u001b[0;31m                     \u001b[0mretval\u001b[0m \u001b[0;34m=\u001b[0m \u001b[0mcfunc\u001b[0m\u001b[0;34m(\u001b[0m\u001b[0;34m*\u001b[0m\u001b[0margs\u001b[0m\u001b[0;34m,\u001b[0m \u001b[0;34m**\u001b[0m\u001b[0mkwargs\u001b[0m\u001b[0;34m)\u001b[0m\u001b[0;34m\u001b[0m\u001b[0;34m\u001b[0m\u001b[0m\n\u001b[0m\u001b[1;32m     94\u001b[0m                 \u001b[0;32mexcept\u001b[0m \u001b[0mTypeError\u001b[0m\u001b[0;34m:\u001b[0m\u001b[0;34m\u001b[0m\u001b[0;34m\u001b[0m\u001b[0m\n\u001b[1;32m     95\u001b[0m                     \u001b[0mretval\u001b[0m \u001b[0;34m=\u001b[0m \u001b[0mfunc\u001b[0m\u001b[0;34m(\u001b[0m\u001b[0;34m*\u001b[0m\u001b[0margs\u001b[0m\u001b[0;34m,\u001b[0m \u001b[0;34m**\u001b[0m\u001b[0mkwargs\u001b[0m\u001b[0;34m)\u001b[0m\u001b[0;34m\u001b[0m\u001b[0;34m\u001b[0m\u001b[0m\n",
      "\u001b[0;32m/usr/lib/python3/dist-packages/sympy/core/basic.py\u001b[0m in \u001b[0;36m_subs\u001b[0;34m(self, old, new, **hints)\u001b[0m\n\u001b[1;32m   1042\u001b[0m         \u001b[0mrv\u001b[0m \u001b[0;34m=\u001b[0m \u001b[0mself\u001b[0m\u001b[0;34m.\u001b[0m\u001b[0m_eval_subs\u001b[0m\u001b[0;34m(\u001b[0m\u001b[0mold\u001b[0m\u001b[0;34m,\u001b[0m \u001b[0mnew\u001b[0m\u001b[0;34m)\u001b[0m\u001b[0;34m\u001b[0m\u001b[0;34m\u001b[0m\u001b[0m\n\u001b[1;32m   1043\u001b[0m         \u001b[0;32mif\u001b[0m \u001b[0mrv\u001b[0m \u001b[0;32mis\u001b[0m \u001b[0;32mNone\u001b[0m\u001b[0;34m:\u001b[0m\u001b[0;34m\u001b[0m\u001b[0;34m\u001b[0m\u001b[0m\n\u001b[0;32m-> 1044\u001b[0;31m             \u001b[0mrv\u001b[0m \u001b[0;34m=\u001b[0m \u001b[0mfallback\u001b[0m\u001b[0;34m(\u001b[0m\u001b[0mself\u001b[0m\u001b[0;34m,\u001b[0m \u001b[0mold\u001b[0m\u001b[0;34m,\u001b[0m \u001b[0mnew\u001b[0m\u001b[0;34m)\u001b[0m\u001b[0;34m\u001b[0m\u001b[0;34m\u001b[0m\u001b[0m\n\u001b[0m\u001b[1;32m   1045\u001b[0m         \u001b[0;32mreturn\u001b[0m \u001b[0mrv\u001b[0m\u001b[0;34m\u001b[0m\u001b[0;34m\u001b[0m\u001b[0m\n\u001b[1;32m   1046\u001b[0m \u001b[0;34m\u001b[0m\u001b[0m\n",
      "\u001b[0;32m/usr/lib/python3/dist-packages/sympy/core/basic.py\u001b[0m in \u001b[0;36mfallback\u001b[0;34m(self, old, new)\u001b[0m\n\u001b[1;32m   1014\u001b[0m                 \u001b[0;32mif\u001b[0m \u001b[0;32mnot\u001b[0m \u001b[0mhasattr\u001b[0m\u001b[0;34m(\u001b[0m\u001b[0marg\u001b[0m\u001b[0;34m,\u001b[0m \u001b[0;34m'_eval_subs'\u001b[0m\u001b[0;34m)\u001b[0m\u001b[0;34m:\u001b[0m\u001b[0;34m\u001b[0m\u001b[0;34m\u001b[0m\u001b[0m\n\u001b[1;32m   1015\u001b[0m                     \u001b[0;32mcontinue\u001b[0m\u001b[0;34m\u001b[0m\u001b[0;34m\u001b[0m\u001b[0m\n\u001b[0;32m-> 1016\u001b[0;31m                 \u001b[0marg\u001b[0m \u001b[0;34m=\u001b[0m \u001b[0marg\u001b[0m\u001b[0;34m.\u001b[0m\u001b[0m_subs\u001b[0m\u001b[0;34m(\u001b[0m\u001b[0mold\u001b[0m\u001b[0;34m,\u001b[0m \u001b[0mnew\u001b[0m\u001b[0;34m,\u001b[0m \u001b[0;34m**\u001b[0m\u001b[0mhints\u001b[0m\u001b[0;34m)\u001b[0m\u001b[0;34m\u001b[0m\u001b[0;34m\u001b[0m\u001b[0m\n\u001b[0m\u001b[1;32m   1017\u001b[0m                 \u001b[0;32mif\u001b[0m \u001b[0;32mnot\u001b[0m \u001b[0m_aresame\u001b[0m\u001b[0;34m(\u001b[0m\u001b[0marg\u001b[0m\u001b[0;34m,\u001b[0m \u001b[0margs\u001b[0m\u001b[0;34m[\u001b[0m\u001b[0mi\u001b[0m\u001b[0;34m]\u001b[0m\u001b[0;34m)\u001b[0m\u001b[0;34m:\u001b[0m\u001b[0;34m\u001b[0m\u001b[0;34m\u001b[0m\u001b[0m\n\u001b[1;32m   1018\u001b[0m                     \u001b[0mhit\u001b[0m \u001b[0;34m=\u001b[0m \u001b[0;32mTrue\u001b[0m\u001b[0;34m\u001b[0m\u001b[0;34m\u001b[0m\u001b[0m\n",
      "\u001b[0;32m/usr/lib/python3/dist-packages/sympy/core/cache.py\u001b[0m in \u001b[0;36mwrapper\u001b[0;34m(*args, **kwargs)\u001b[0m\n\u001b[1;32m     91\u001b[0m             \u001b[0;32mdef\u001b[0m \u001b[0mwrapper\u001b[0m\u001b[0;34m(\u001b[0m\u001b[0;34m*\u001b[0m\u001b[0margs\u001b[0m\u001b[0;34m,\u001b[0m \u001b[0;34m**\u001b[0m\u001b[0mkwargs\u001b[0m\u001b[0;34m)\u001b[0m\u001b[0;34m:\u001b[0m\u001b[0;34m\u001b[0m\u001b[0;34m\u001b[0m\u001b[0m\n\u001b[1;32m     92\u001b[0m                 \u001b[0;32mtry\u001b[0m\u001b[0;34m:\u001b[0m\u001b[0;34m\u001b[0m\u001b[0;34m\u001b[0m\u001b[0m\n\u001b[0;32m---> 93\u001b[0;31m                     \u001b[0mretval\u001b[0m \u001b[0;34m=\u001b[0m \u001b[0mcfunc\u001b[0m\u001b[0;34m(\u001b[0m\u001b[0;34m*\u001b[0m\u001b[0margs\u001b[0m\u001b[0;34m,\u001b[0m \u001b[0;34m**\u001b[0m\u001b[0mkwargs\u001b[0m\u001b[0;34m)\u001b[0m\u001b[0;34m\u001b[0m\u001b[0;34m\u001b[0m\u001b[0m\n\u001b[0m\u001b[1;32m     94\u001b[0m                 \u001b[0;32mexcept\u001b[0m \u001b[0mTypeError\u001b[0m\u001b[0;34m:\u001b[0m\u001b[0;34m\u001b[0m\u001b[0;34m\u001b[0m\u001b[0m\n\u001b[1;32m     95\u001b[0m                     \u001b[0mretval\u001b[0m \u001b[0;34m=\u001b[0m \u001b[0mfunc\u001b[0m\u001b[0;34m(\u001b[0m\u001b[0;34m*\u001b[0m\u001b[0margs\u001b[0m\u001b[0;34m,\u001b[0m \u001b[0;34m**\u001b[0m\u001b[0mkwargs\u001b[0m\u001b[0;34m)\u001b[0m\u001b[0;34m\u001b[0m\u001b[0;34m\u001b[0m\u001b[0m\n",
      "\u001b[0;32m/usr/lib/python3/dist-packages/sympy/core/basic.py\u001b[0m in \u001b[0;36m_subs\u001b[0;34m(self, old, new, **hints)\u001b[0m\n\u001b[1;32m   1042\u001b[0m         \u001b[0mrv\u001b[0m \u001b[0;34m=\u001b[0m \u001b[0mself\u001b[0m\u001b[0;34m.\u001b[0m\u001b[0m_eval_subs\u001b[0m\u001b[0;34m(\u001b[0m\u001b[0mold\u001b[0m\u001b[0;34m,\u001b[0m \u001b[0mnew\u001b[0m\u001b[0;34m)\u001b[0m\u001b[0;34m\u001b[0m\u001b[0;34m\u001b[0m\u001b[0m\n\u001b[1;32m   1043\u001b[0m         \u001b[0;32mif\u001b[0m \u001b[0mrv\u001b[0m \u001b[0;32mis\u001b[0m \u001b[0;32mNone\u001b[0m\u001b[0;34m:\u001b[0m\u001b[0;34m\u001b[0m\u001b[0;34m\u001b[0m\u001b[0m\n\u001b[0;32m-> 1044\u001b[0;31m             \u001b[0mrv\u001b[0m \u001b[0;34m=\u001b[0m \u001b[0mfallback\u001b[0m\u001b[0;34m(\u001b[0m\u001b[0mself\u001b[0m\u001b[0;34m,\u001b[0m \u001b[0mold\u001b[0m\u001b[0;34m,\u001b[0m \u001b[0mnew\u001b[0m\u001b[0;34m)\u001b[0m\u001b[0;34m\u001b[0m\u001b[0;34m\u001b[0m\u001b[0m\n\u001b[0m\u001b[1;32m   1045\u001b[0m         \u001b[0;32mreturn\u001b[0m \u001b[0mrv\u001b[0m\u001b[0;34m\u001b[0m\u001b[0;34m\u001b[0m\u001b[0m\n\u001b[1;32m   1046\u001b[0m \u001b[0;34m\u001b[0m\u001b[0m\n",
      "\u001b[0;32m/usr/lib/python3/dist-packages/sympy/core/basic.py\u001b[0m in \u001b[0;36mfallback\u001b[0;34m(self, old, new)\u001b[0m\n\u001b[1;32m   1015\u001b[0m                     \u001b[0;32mcontinue\u001b[0m\u001b[0;34m\u001b[0m\u001b[0;34m\u001b[0m\u001b[0m\n\u001b[1;32m   1016\u001b[0m                 \u001b[0marg\u001b[0m \u001b[0;34m=\u001b[0m \u001b[0marg\u001b[0m\u001b[0;34m.\u001b[0m\u001b[0m_subs\u001b[0m\u001b[0;34m(\u001b[0m\u001b[0mold\u001b[0m\u001b[0;34m,\u001b[0m \u001b[0mnew\u001b[0m\u001b[0;34m,\u001b[0m \u001b[0;34m**\u001b[0m\u001b[0mhints\u001b[0m\u001b[0;34m)\u001b[0m\u001b[0;34m\u001b[0m\u001b[0;34m\u001b[0m\u001b[0m\n\u001b[0;32m-> 1017\u001b[0;31m                 \u001b[0;32mif\u001b[0m \u001b[0;32mnot\u001b[0m \u001b[0m_aresame\u001b[0m\u001b[0;34m(\u001b[0m\u001b[0marg\u001b[0m\u001b[0;34m,\u001b[0m \u001b[0margs\u001b[0m\u001b[0;34m[\u001b[0m\u001b[0mi\u001b[0m\u001b[0;34m]\u001b[0m\u001b[0;34m)\u001b[0m\u001b[0;34m:\u001b[0m\u001b[0;34m\u001b[0m\u001b[0;34m\u001b[0m\u001b[0m\n\u001b[0m\u001b[1;32m   1018\u001b[0m                     \u001b[0mhit\u001b[0m \u001b[0;34m=\u001b[0m \u001b[0;32mTrue\u001b[0m\u001b[0;34m\u001b[0m\u001b[0;34m\u001b[0m\u001b[0m\n\u001b[1;32m   1019\u001b[0m                     \u001b[0margs\u001b[0m\u001b[0;34m[\u001b[0m\u001b[0mi\u001b[0m\u001b[0;34m]\u001b[0m \u001b[0;34m=\u001b[0m \u001b[0marg\u001b[0m\u001b[0;34m\u001b[0m\u001b[0;34m\u001b[0m\u001b[0m\n",
      "\u001b[0;32m/usr/lib/python3/dist-packages/sympy/core/basic.py\u001b[0m in \u001b[0;36m_aresame\u001b[0;34m(a, b)\u001b[0m\n\u001b[1;32m   1796\u001b[0m     \"\"\"\n\u001b[1;32m   1797\u001b[0m     \u001b[0;32mfrom\u001b[0m \u001b[0;34m.\u001b[0m\u001b[0mfunction\u001b[0m \u001b[0;32mimport\u001b[0m \u001b[0mAppliedUndef\u001b[0m\u001b[0;34m,\u001b[0m \u001b[0mUndefinedFunction\u001b[0m \u001b[0;32mas\u001b[0m \u001b[0mUndefFunc\u001b[0m\u001b[0;34m\u001b[0m\u001b[0;34m\u001b[0m\u001b[0m\n\u001b[0;32m-> 1798\u001b[0;31m     \u001b[0;32mfor\u001b[0m \u001b[0mi\u001b[0m\u001b[0;34m,\u001b[0m \u001b[0mj\u001b[0m \u001b[0;32min\u001b[0m \u001b[0mzip_longest\u001b[0m\u001b[0;34m(\u001b[0m\u001b[0mpreorder_traversal\u001b[0m\u001b[0;34m(\u001b[0m\u001b[0ma\u001b[0m\u001b[0;34m)\u001b[0m\u001b[0;34m,\u001b[0m \u001b[0mpreorder_traversal\u001b[0m\u001b[0;34m(\u001b[0m\u001b[0mb\u001b[0m\u001b[0;34m)\u001b[0m\u001b[0;34m)\u001b[0m\u001b[0;34m:\u001b[0m\u001b[0;34m\u001b[0m\u001b[0;34m\u001b[0m\u001b[0m\n\u001b[0m\u001b[1;32m   1799\u001b[0m         \u001b[0;32mif\u001b[0m \u001b[0mi\u001b[0m \u001b[0;34m!=\u001b[0m \u001b[0mj\u001b[0m \u001b[0;32mor\u001b[0m \u001b[0mtype\u001b[0m\u001b[0;34m(\u001b[0m\u001b[0mi\u001b[0m\u001b[0;34m)\u001b[0m \u001b[0;34m!=\u001b[0m \u001b[0mtype\u001b[0m\u001b[0;34m(\u001b[0m\u001b[0mj\u001b[0m\u001b[0;34m)\u001b[0m\u001b[0;34m:\u001b[0m\u001b[0;34m\u001b[0m\u001b[0;34m\u001b[0m\u001b[0m\n\u001b[1;32m   1800\u001b[0m             if ((isinstance(i, UndefFunc) and isinstance(j, UndefFunc)) or\n",
      "\u001b[0;32m/usr/lib/python3/dist-packages/sympy/core/basic.py\u001b[0m in \u001b[0;36m__next__\u001b[0;34m(self)\u001b[0m\n\u001b[1;32m   1947\u001b[0m \u001b[0;34m\u001b[0m\u001b[0m\n\u001b[1;32m   1948\u001b[0m     \u001b[0;32mdef\u001b[0m \u001b[0m__next__\u001b[0m\u001b[0;34m(\u001b[0m\u001b[0mself\u001b[0m\u001b[0;34m)\u001b[0m\u001b[0;34m:\u001b[0m\u001b[0;34m\u001b[0m\u001b[0;34m\u001b[0m\u001b[0m\n\u001b[0;32m-> 1949\u001b[0;31m         \u001b[0;32mreturn\u001b[0m \u001b[0mnext\u001b[0m\u001b[0;34m(\u001b[0m\u001b[0mself\u001b[0m\u001b[0;34m.\u001b[0m\u001b[0m_pt\u001b[0m\u001b[0;34m)\u001b[0m\u001b[0;34m\u001b[0m\u001b[0;34m\u001b[0m\u001b[0m\n\u001b[0m\u001b[1;32m   1950\u001b[0m \u001b[0;34m\u001b[0m\u001b[0m\n\u001b[1;32m   1951\u001b[0m     \u001b[0;32mdef\u001b[0m \u001b[0m__iter__\u001b[0m\u001b[0;34m(\u001b[0m\u001b[0mself\u001b[0m\u001b[0;34m)\u001b[0m\u001b[0;34m:\u001b[0m\u001b[0;34m\u001b[0m\u001b[0;34m\u001b[0m\u001b[0m\n",
      "\u001b[0;32m/usr/lib/python3/dist-packages/sympy/core/basic.py\u001b[0m in \u001b[0;36m_preorder_traversal\u001b[0;34m(self, node, keys)\u001b[0m\n\u001b[1;32m   1918\u001b[0m                     \u001b[0margs\u001b[0m \u001b[0;34m=\u001b[0m \u001b[0mordered\u001b[0m\u001b[0;34m(\u001b[0m\u001b[0margs\u001b[0m\u001b[0;34m)\u001b[0m\u001b[0;34m\u001b[0m\u001b[0;34m\u001b[0m\u001b[0m\n\u001b[1;32m   1919\u001b[0m             \u001b[0;32mfor\u001b[0m \u001b[0marg\u001b[0m \u001b[0;32min\u001b[0m \u001b[0margs\u001b[0m\u001b[0;34m:\u001b[0m\u001b[0;34m\u001b[0m\u001b[0;34m\u001b[0m\u001b[0m\n\u001b[0;32m-> 1920\u001b[0;31m                 \u001b[0;32mfor\u001b[0m \u001b[0msubtree\u001b[0m \u001b[0;32min\u001b[0m \u001b[0mself\u001b[0m\u001b[0;34m.\u001b[0m\u001b[0m_preorder_traversal\u001b[0m\u001b[0;34m(\u001b[0m\u001b[0marg\u001b[0m\u001b[0;34m,\u001b[0m \u001b[0mkeys\u001b[0m\u001b[0;34m)\u001b[0m\u001b[0;34m:\u001b[0m\u001b[0;34m\u001b[0m\u001b[0;34m\u001b[0m\u001b[0m\n\u001b[0m\u001b[1;32m   1921\u001b[0m                     \u001b[0;32myield\u001b[0m \u001b[0msubtree\u001b[0m\u001b[0;34m\u001b[0m\u001b[0;34m\u001b[0m\u001b[0m\n\u001b[1;32m   1922\u001b[0m         \u001b[0;32melif\u001b[0m \u001b[0miterable\u001b[0m\u001b[0;34m(\u001b[0m\u001b[0mnode\u001b[0m\u001b[0;34m)\u001b[0m\u001b[0;34m:\u001b[0m\u001b[0;34m\u001b[0m\u001b[0;34m\u001b[0m\u001b[0m\n",
      "\u001b[0;32m/usr/lib/python3/dist-packages/sympy/core/basic.py\u001b[0m in \u001b[0;36m_preorder_traversal\u001b[0;34m(self, node, keys)\u001b[0m\n\u001b[1;32m   1918\u001b[0m                     \u001b[0margs\u001b[0m \u001b[0;34m=\u001b[0m \u001b[0mordered\u001b[0m\u001b[0;34m(\u001b[0m\u001b[0margs\u001b[0m\u001b[0;34m)\u001b[0m\u001b[0;34m\u001b[0m\u001b[0;34m\u001b[0m\u001b[0m\n\u001b[1;32m   1919\u001b[0m             \u001b[0;32mfor\u001b[0m \u001b[0marg\u001b[0m \u001b[0;32min\u001b[0m \u001b[0margs\u001b[0m\u001b[0;34m:\u001b[0m\u001b[0;34m\u001b[0m\u001b[0;34m\u001b[0m\u001b[0m\n\u001b[0;32m-> 1920\u001b[0;31m                 \u001b[0;32mfor\u001b[0m \u001b[0msubtree\u001b[0m \u001b[0;32min\u001b[0m \u001b[0mself\u001b[0m\u001b[0;34m.\u001b[0m\u001b[0m_preorder_traversal\u001b[0m\u001b[0;34m(\u001b[0m\u001b[0marg\u001b[0m\u001b[0;34m,\u001b[0m \u001b[0mkeys\u001b[0m\u001b[0;34m)\u001b[0m\u001b[0;34m:\u001b[0m\u001b[0;34m\u001b[0m\u001b[0;34m\u001b[0m\u001b[0m\n\u001b[0m\u001b[1;32m   1921\u001b[0m                     \u001b[0;32myield\u001b[0m \u001b[0msubtree\u001b[0m\u001b[0;34m\u001b[0m\u001b[0;34m\u001b[0m\u001b[0m\n\u001b[1;32m   1922\u001b[0m         \u001b[0;32melif\u001b[0m \u001b[0miterable\u001b[0m\u001b[0;34m(\u001b[0m\u001b[0mnode\u001b[0m\u001b[0;34m)\u001b[0m\u001b[0;34m:\u001b[0m\u001b[0;34m\u001b[0m\u001b[0;34m\u001b[0m\u001b[0m\n",
      "\u001b[0;32m/usr/lib/python3/dist-packages/sympy/core/basic.py\u001b[0m in \u001b[0;36m_preorder_traversal\u001b[0;34m(self, node, keys)\u001b[0m\n\u001b[1;32m   1906\u001b[0m             \u001b[0;32mreturn\u001b[0m\u001b[0;34m\u001b[0m\u001b[0;34m\u001b[0m\u001b[0m\n\u001b[1;32m   1907\u001b[0m         \u001b[0;32mif\u001b[0m \u001b[0misinstance\u001b[0m\u001b[0;34m(\u001b[0m\u001b[0mnode\u001b[0m\u001b[0;34m,\u001b[0m \u001b[0mBasic\u001b[0m\u001b[0;34m)\u001b[0m\u001b[0;34m:\u001b[0m\u001b[0;34m\u001b[0m\u001b[0;34m\u001b[0m\u001b[0m\n\u001b[0;32m-> 1908\u001b[0;31m             \u001b[0;32mif\u001b[0m \u001b[0;32mnot\u001b[0m \u001b[0mkeys\u001b[0m \u001b[0;32mand\u001b[0m \u001b[0mhasattr\u001b[0m\u001b[0;34m(\u001b[0m\u001b[0mnode\u001b[0m\u001b[0;34m,\u001b[0m \u001b[0;34m'_argset'\u001b[0m\u001b[0;34m)\u001b[0m\u001b[0;34m:\u001b[0m\u001b[0;34m\u001b[0m\u001b[0;34m\u001b[0m\u001b[0m\n\u001b[0m\u001b[1;32m   1909\u001b[0m                 \u001b[0;31m# LatticeOp keeps args as a set. We should use this if we\u001b[0m\u001b[0;34m\u001b[0m\u001b[0;34m\u001b[0m\u001b[0;34m\u001b[0m\u001b[0m\n\u001b[1;32m   1910\u001b[0m                 \u001b[0;31m# don't care about the order, to prevent unnecessary sorting.\u001b[0m\u001b[0;34m\u001b[0m\u001b[0;34m\u001b[0m\u001b[0;34m\u001b[0m\u001b[0m\n",
      "\u001b[0;31mKeyboardInterrupt\u001b[0m: "
     ]
    }
   ],
   "source": [
    "P=(r[1,1]+I*q[1,1])*Eel(1, 1, base)\n",
    "K=Eel(1, 1, base)\n",
    "if base == \"E\":\n",
    "    K += Eel(1, 2, base)\n",
    "    P += (r[1,2]+I*q[1,2])*Eel(1, 2, base)\n",
    "for i in range(1, ord_bch):\n",
    "    for j in range(tams[i]):\n",
    "        if i % 2 != 0: # parells\n",
    "            P += (r[i + 1, j + 1]+I*q[i + 1, j + 1])*Eel(i + 1, j + 1, base)\n",
    "            K += I*k[i + 1, j + 1]*Eel(i + 1, j + 1, base)\n",
    "        if i % 2 == 0: # senars\n",
    "            K += k[i + 1, j + 1]*Eel(i + 1, j + 1, base)\n",
    "            P += (r[i + 1, j + 1]+I*q[i + 1, j + 1])*Eel(i + 1, j + 1, base)\n",
    "C = K\n",
    "esq = K\n",
    "fact = 1\n",
    "print(\"Desenvolupament del nucli\")\n",
    "display(Latex(\"$$\\n K=\" + sp.latex(K) + \"\\n$$\"))\n",
    "print(\"Desenvolupament del processat\")\n",
    "display(Latex(\"$$\\n P=\" + sp.latex(P) + \"\\n$$\"))\n",
    "for i in range(1, ord_bch + 1):\n",
    "    fact = fact * i\n",
    "    C = Claudator(P, C)\n",
    "    esq += C/fact\n",
    "metA = Metode(ord_bch, base)\n",
    "metA.importFromExpr(esq)\n",
    "metA.collectI()\n",
    "print(\"Condicions d'ordre del mètode complet\")\n",
    "display(Latex(\"$$\\n\" + sp.latex(metA) + \"\\n$$\"))"
   ]
  },
  {
   "cell_type": "markdown",
   "metadata": {},
   "source": [
    " ### omega2,1 real"
   ]
  },
  {
   "cell_type": "code",
   "execution_count": null,
   "metadata": {},
   "outputs": [],
   "source": [
    "P=(r[1,1]+I*q[1,1])*Eel(1, 1, base)\n",
    "K=Eel(1, 1, base)\n",
    "if base == \"E\":\n",
    "    K += Eel(1, 2, base)\n",
    "    P += (r[1,2]+I*q[1,2])*Eel(1, 2, base)\n",
    "# nucli\n",
    "for i in range(1, ord_bch):\n",
    "    for j in range(tams[i]):\n",
    "        if i % 2 != 0: # parells\n",
    "            K += I*k[i + 1, j + 1]*Eel(i + 1, j + 1, base)\n",
    "        if i % 2 == 0: # senars\n",
    "            K += k[i + 1, j + 1]*Eel(i + 1, j + 1, base)\n",
    "# processat\n",
    "for i in range(1, ord_bch):\n",
    "    for j in range(tams[i]):\n",
    "        if i % 2 != 0: # parells\n",
    "            P += (r[i + 1, j + 1]+I*q[i + 1, j + 1])*Eel(i + 1, j + 1, base)\n",
    "        if i % 2 == 0: # senars\n",
    "            P += (r[i + 1, j + 1]+I*q[i + 1, j + 1])*Eel(i + 1, j + 1, base)\n",
    "P += I*(k[2,1]+q[1,1]-q[1,2])*Eel(1, 2, base)\n",
    "#P += -r[1, 1]*Eel(1, 1, base) - r[1, 2]*Eel(1, 2, base) \n",
    "#P += -I*q[2, 1]*Eel(2, 1, base)\n",
    "#P += I*(-k[2, 1]*q[1, 1]**2/3 + k[3, 1]*q[1, 1] + k[4, 1] - q[1, 1]*r[2, 1]/2 - q[3, 1])*Eel(3,1,base)\n",
    "#P += I*(-2*k[2, 1]**2*q[1, 1]/3 + k[2, 1]*k[3, 1] - k[2, 1]*q[1, 1]**2/3 - k[2, 1]*r[2, 1]/2 + k[3, 2]*q[1, 1] - k[4, 1] + k[4, 2] - q[1, 1]*r[2, 1]/2 - q[3, 2])*Eel(3,2,base)\n",
    "C = K\n",
    "esq = K\n",
    "fact = 1\n",
    "print(\"Desenvolupament del nucli\")\n",
    "display(Latex(\"$$\\n K=\" + sp.latex(K) + \"\\n$$\"))\n",
    "print(\"Desenvolupament del processat\")\n",
    "display(Latex(\"$$\\n P=\" + sp.latex(P) + \"\\n$$\"))\n",
    "for i in range(1, ord_bch + 1):\n",
    "    fact = fact * i\n",
    "    C = Claudator(P, C)\n",
    "    esq += C/fact\n",
    "metA = Metode(ord_bch, base)\n",
    "metA.importFromExpr(esq)\n",
    "metA.collectI()\n",
    "print(\"Condicions d'ordre del mètode complet\")\n",
    "display(Latex(\"$$\\n\" + sp.latex(metA) + \"\\n$$\"))"
   ]
  },
  {
   "cell_type": "markdown",
   "metadata": {},
   "source": [
    " ### omega3,i reals"
   ]
  },
  {
   "cell_type": "code",
   "execution_count": null,
   "metadata": {},
   "outputs": [],
   "source": [
    "P=(r[1,1]+I*q[1,1])*Eel(1, 1, base)\n",
    "K=Eel(1, 1, base)\n",
    "if base == \"E\":\n",
    "    K += Eel(1, 2, base)\n",
    "    P += (r[1,2]+I*q[1,2])*Eel(1, 2, base)\n",
    "# nucli\n",
    "for i in range(1, ord_bch):\n",
    "    for j in range(tams[i]):\n",
    "        if i % 2 != 0: # parells\n",
    "            K += I*k[i + 1, j + 1]*Eel(i + 1, j + 1, base)\n",
    "        if i % 2 == 0: # senars\n",
    "            K += k[i + 1, j + 1]*Eel(i + 1, j + 1, base)\n",
    "# processat\n",
    "for i in range(1, ord_bch):\n",
    "    for j in range(tams[i]):\n",
    "        if i % 2 != 0: # parells\n",
    "            P += (r[i + 1, j + 1]+I*q[i + 1, j + 1])*Eel(i + 1, j + 1, base)\n",
    "        if i % 2 == 0: # senars\n",
    "            P += (r[i + 1, j + 1]+I*q[i + 1, j + 1])*Eel(i + 1, j + 1, base)\n",
    "P += I*(k[2,1]+q[1,1]-q[1,2])*Eel(1, 2, base)\n",
    "P += -r[1, 1]*Eel(1, 1, base) - r[1, 2]*Eel(1, 2, base) \n",
    "P += -I*q[2, 1]*Eel(2, 1, base)\n",
    "#P += I*(-k[2, 1]*q[1, 1]**2/3 + k[3, 1]*q[1, 1] + k[4, 1] - q[1, 1]*r[2, 1]/2 - q[3, 1])*Eel(3,1,base)\n",
    "#P += I*(-2*k[2, 1]**2*q[1, 1]/3 + k[2, 1]*k[3, 1] - k[2, 1]*q[1, 1]**2/3 - k[2, 1]*r[2, 1]/2 + k[3, 2]*q[1, 1] - k[4, 1] + k[4, 2] - q[1, 1]*r[2, 1]/2 - q[3, 2])*Eel(3,2,base)\n",
    "C = K\n",
    "esq = K\n",
    "fact = 1\n",
    "print(\"Desenvolupament del nucli\")\n",
    "display(Latex(\"$$\\n K=\" + sp.latex(K) + \"\\n$$\"))\n",
    "print(\"Desenvolupament del processat\")\n",
    "display(Latex(\"$$\\n P=\" + sp.latex(P) + \"\\n$$\"))\n",
    "for i in range(1, ord_bch + 1):\n",
    "    fact = fact * i\n",
    "    C = Claudator(P, C)\n",
    "    esq += C/fact\n",
    "metA = Metode(ord_bch, base)\n",
    "metA.importFromExpr(esq)\n",
    "metA.collectI()\n",
    "print(\"Condicions d'ordre del mètode complet\")\n",
    "display(Latex(\"$$\\n\" + sp.latex(metA) + \"\\n$$\"))"
   ]
  },
  {
   "cell_type": "markdown",
   "metadata": {},
   "source": [
    " ### omega4,1 real"
   ]
  },
  {
   "cell_type": "code",
   "execution_count": null,
   "metadata": {},
   "outputs": [],
   "source": [
    "P=(r[1,1]+I*q[1,1])*Eel(1, 1, base)\n",
    "K=Eel(1, 1, base)\n",
    "if base == \"E\":\n",
    "    K += Eel(1, 2, base)\n",
    "    P += (r[1,2]+I*q[1,2])*Eel(1, 2, base)\n",
    "# nucli\n",
    "for i in range(1, ord_bch):\n",
    "    for j in range(tams[i]):\n",
    "        if i % 2 != 0: # parells\n",
    "            K += I*k[i + 1, j + 1]*Eel(i + 1, j + 1, base)\n",
    "        if i % 2 == 0: # senars\n",
    "            K += k[i + 1, j + 1]*Eel(i + 1, j + 1, base)\n",
    "# processat\n",
    "for i in range(1, ord_bch):\n",
    "    for j in range(tams[i]):\n",
    "        if i % 2 != 0: # parells\n",
    "            P += (r[i + 1, j + 1]+I*q[i + 1, j + 1])*Eel(i + 1, j + 1, base)\n",
    "        if i % 2 == 0: # senars\n",
    "            P += (r[i + 1, j + 1]+I*q[i + 1, j + 1])*Eel(i + 1, j + 1, base)\n",
    "P += I*(k[2,1]+q[1,1]-q[1,2])*Eel(1, 2, base)\n",
    "P += -r[1, 1]*Eel(1, 1, base) - r[1, 2]*Eel(1, 2, base) \n",
    "P += -I*q[2, 1]*Eel(2, 1, base)\n",
    "P += I*(-k[2, 1]*q[1, 1]**2/3 + k[3, 1]*q[1, 1] + k[4, 1] - q[1, 1]*r[2, 1]/2 - q[3, 1])*Eel(3,1,base)\n",
    "#P += I*(-2*k[2, 1]**2*q[1, 1]/3 + k[2, 1]*k[3, 1] - k[2, 1]*q[1, 1]**2/3 - k[2, 1]*r[2, 1]/2 + k[3, 2]*q[1, 1] - k[4, 1] + k[4, 2] - q[1, 1]*r[2, 1]/2 - q[3, 2])*Eel(3,2,base)\n",
    "C = K\n",
    "esq = K\n",
    "fact = 1\n",
    "print(\"Desenvolupament del nucli\")\n",
    "display(Latex(\"$$\\n K=\" + sp.latex(K) + \"\\n$$\"))\n",
    "print(\"Desenvolupament del processat\")\n",
    "display(Latex(\"$$\\n P=\" + sp.latex(P) + \"\\n$$\"))\n",
    "for i in range(1, ord_bch + 1):\n",
    "    fact = fact * i\n",
    "    C = Claudator(P, C)\n",
    "    esq += C/fact\n",
    "metA = Metode(ord_bch, base)\n",
    "metA.importFromExpr(esq)\n",
    "metA.collectI()\n",
    "print(\"Condicions d'ordre del mètode complet\")\n",
    "display(Latex(\"$$\\n\" + sp.latex(metA) + \"\\n$$\"))"
   ]
  },
  {
   "cell_type": "markdown",
   "metadata": {},
   "source": [
    " ### omega4,2 real"
   ]
  },
  {
   "cell_type": "code",
   "execution_count": null,
   "metadata": {},
   "outputs": [],
   "source": [
    "P=(r[1,1]+I*q[1,1])*Eel(1, 1, base)\n",
    "K=Eel(1, 1, base)\n",
    "if base == \"E\":\n",
    "    K += Eel(1, 2, base)\n",
    "    P += (r[1,2]+I*q[1,2])*Eel(1, 2, base)\n",
    "# nucli\n",
    "for i in range(1, ord_bch):\n",
    "    for j in range(tams[i]):\n",
    "        if i % 2 != 0: # parells\n",
    "            K += I*k[i + 1, j + 1]*Eel(i + 1, j + 1, base)\n",
    "        if i % 2 == 0: # senars\n",
    "            K += k[i + 1, j + 1]*Eel(i + 1, j + 1, base)\n",
    "# processat\n",
    "for i in range(1, ord_bch):\n",
    "    for j in range(tams[i]):\n",
    "        if i % 2 != 0: # parells\n",
    "            P += (r[i + 1, j + 1]+I*q[i + 1, j + 1])*Eel(i + 1, j + 1, base)\n",
    "        if i % 2 == 0: # senars\n",
    "            P += (r[i + 1, j + 1]+I*q[i + 1, j + 1])*Eel(i + 1, j + 1, base)\n",
    "P += I*(k[2,1]+q[1,1]-q[1,2])*Eel(1, 2, base)\n",
    "P += -r[1, 1]*Eel(1, 1, base) - r[1, 2]*Eel(1, 2, base) \n",
    "P += -I*q[2, 1]*Eel(2, 1, base)\n",
    "P += I*(-k[2, 1]*q[1, 1]**2/3 + k[3, 1]*q[1, 1] + k[4, 1] - q[1, 1]*r[2, 1]/2 - q[3, 1])*Eel(3,1,base)\n",
    "P += I*(-2*k[2, 1]**2*q[1, 1]/3 + k[2, 1]*k[3, 1] - k[2, 1]*q[1, 1]**2/3 - k[2, 1]*r[2, 1]/2 + k[3, 2]*q[1, 1] - k[4, 1] + k[4, 2] - q[1, 1]*r[2, 1]/2 - q[3, 2])*Eel(3,2,base)\n",
    "C = K\n",
    "esq = K\n",
    "fact = 1\n",
    "print(\"Desenvolupament del nucli\")\n",
    "display(Latex(\"$$\\n K=\" + sp.latex(K) + \"\\n$$\"))\n",
    "print(\"Desenvolupament del processat\")\n",
    "display(Latex(\"$$\\n P=\" + sp.latex(P) + \"\\n$$\"))\n",
    "for i in range(1, ord_bch + 1):\n",
    "    fact = fact * i\n",
    "    C = Claudator(P, C)\n",
    "    esq += C/fact\n",
    "metA = Metode(ord_bch, base)\n",
    "metA.importFromExpr(esq)\n",
    "metA.collectI()\n",
    "print(\"Condicions d'ordre del mètode complet\")\n",
    "display(Latex(\"$$\\n\" + sp.latex(metA) + \"\\n$$\"))"
   ]
  },
  {
   "cell_type": "code",
   "execution_count": null,
   "metadata": {},
   "outputs": [],
   "source": []
  }
 ],
 "metadata": {
  "kernelspec": {
   "display_name": "Python 3",
   "language": "python",
   "name": "python3"
  },
  "language_info": {
   "codemirror_mode": {
    "name": "ipython",
    "version": 3
   },
   "file_extension": ".py",
   "mimetype": "text/x-python",
   "name": "python",
   "nbconvert_exporter": "python",
   "pygments_lexer": "ipython3",
   "version": "3.7.3"
  }
 },
 "nbformat": 4,
 "nbformat_minor": 4
}
