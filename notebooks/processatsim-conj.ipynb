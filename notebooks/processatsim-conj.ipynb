{
 "cells": [
  {
   "cell_type": "markdown",
   "metadata": {
    "jupyter": {
     "outputs_hidden": false
    }
   },
   "source": [
    "Importem llibreries"
   ]
  },
  {
   "cell_type": "code",
   "execution_count": 4,
   "metadata": {
    "jupyter": {
     "outputs_hidden": false
    }
   },
   "outputs": [],
   "source": [
    "import numpy as np\n",
    "import sympy as sp\n",
    "from sympy import re, im, I\n",
    "from IPython.display import display, Markdown, Latex\n",
    "import sys\n",
    "sys.path.insert(0, '../')\n",
    "from bchpy import *\n",
    "import relations as rl"
   ]
  },
  {
   "cell_type": "markdown",
   "metadata": {},
   "source": [
    "Configurem la base i l'ordre del mètode"
   ]
  },
  {
   "cell_type": "code",
   "execution_count": 2,
   "metadata": {},
   "outputs": [],
   "source": [
    "ord_bch = 7\n",
    "base = \"E\""
   ]
  },
  {
   "cell_type": "markdown",
   "metadata": {},
   "source": [
    "Definim simbòlicament els factors $k_{i,j}$ i $p_{i,j}$ i els desenvolupaments de $K$ i $P$:\n",
    "$$\n",
    "K=\\sum_i \\sum_j k_{i,j}Z_{ij}\n",
    "$$\n",
    "$$\n",
    "P=\\sum_i \\sum_j p_{i,j}Z_{ij}\n",
    "$$"
   ]
  },
  {
   "cell_type": "code",
   "execution_count": 8,
   "metadata": {},
   "outputs": [],
   "source": [
    "tams = rl.tamZ\n",
    "if base == \"E\":\n",
    "    tams = rl.tamE\n",
    "P=sp.S(0)\n",
    "K=sp.S(0)\n",
    "p = sp.MatrixSymbol(\"p\", ord_bch + 1, tams[ord_bch - 1] + 1)\n",
    "k = sp.MatrixSymbol(\"k\", ord_bch + 1, tams[ord_bch - 1] + 1)"
   ]
  },
  {
   "cell_type": "markdown",
   "metadata": {},
   "source": [
    "Calculem $W$, utilitzant:\n",
    "$$\n",
    "W = e^{\\#P\\#}K=K+[P,K]+\\frac{1}{2!}[P,P,K]+\\frac{1}{3!}[P,P,P,K]+\\cdots\n",
    "$$"
   ]
  },
  {
   "cell_type": "markdown",
   "metadata": {},
   "source": [
    "Càlcul sabent que el mètode final serà temps-simètric"
   ]
  },
  {
   "cell_type": "code",
   "execution_count": 10,
   "metadata": {},
   "outputs": [
    {
     "data": {
      "text/latex": [
       "$$\n",
       "\\begin{align}\n",
       "\\omega_{1,1} &= 1\\\\ \n",
       "\\omega_{1,2} &= 1\\\\ \n",
       "\\omega_{2,1} &= i k_{2, 1}\\\\ \n",
       "\\omega_{3,1} &= k_{3, 1} - i p_{2, 1}\\\\ \n",
       "\\omega_{3,2} &= k_{3, 2} - i p_{2, 1}\\\\ \n",
       "\\omega_{4,1} &= i k_{4, 1} - p_{3, 1}\\\\ \n",
       "\\omega_{4,2} &= i k_{4, 2} - p_{3, 1} - p_{3, 2}\\\\ \n",
       "\\omega_{4,3} &= i k_{4, 3} + p_{3, 2}\\\\ \n",
       "\\omega_{5,1} &= k_{5, 1} - i p_{4, 1}\\\\ \n",
       "\\omega_{5,2} &= i k_{2, 1} p_{3, 1} - i k_{3, 1} p_{2, 1} + k_{5, 2} - \\frac{p_{2, 1}^{2}}{2} - i p_{4, 1}\\\\ \n",
       "\\omega_{5,3} &= i k_{2, 1} p_{3, 1} - i k_{3, 1} p_{2, 1} + k_{5, 3} - \\frac{p_{2, 1}^{2}}{2} + i p_{4, 2}\\\\ \n",
       "\\omega_{5,4} &= i k_{2, 1} p_{3, 2} - i k_{3, 2} p_{2, 1} + k_{5, 4} - \\frac{p_{2, 1}^{2}}{2} - i p_{4, 2}\\\\ \n",
       "\\omega_{5,5} &= i k_{2, 1} p_{3, 2} - i k_{3, 2} p_{2, 1} + k_{5, 5} - \\frac{p_{2, 1}^{2}}{2} - i p_{4, 3}\\\\ \n",
       "\\omega_{5,6} &= k_{5, 6} - i p_{4, 3}\\\\ \n",
       "\\omega_{6,1} &= i k_{6, 1} - p_{5, 1}\\\\ \n",
       "\\omega_{6,2} &= - k_{2, 1} p_{4, 1} + k_{4, 1} p_{2, 1} + i k_{6, 2} + \\frac{i p_{2, 1} p_{3, 1}}{2} - p_{5, 1} - p_{5, 3}\\\\ \n",
       "\\omega_{6,3} &= k_{2, 1} p_{4, 1} - k_{4, 1} p_{2, 1} + i k_{6, 3} - \\frac{i p_{2, 1} p_{3, 1}}{2} - p_{5, 2} + 2 p_{5, 3}\\\\ \n",
       "\\omega_{6,4} &= k_{3, 1} p_{3, 2} - k_{3, 2} p_{3, 1} + i k_{6, 4} + \\frac{i p_{2, 1} p_{3, 1}}{2} - \\frac{i p_{2, 1} p_{3, 2}}{2} + p_{5, 3} - p_{5, 4}\\\\ \n",
       "\\omega_{6,5} &= - \\frac{k_{2, 1} p_{4, 2}}{3} - \\frac{k_{3, 1} p_{3, 2}}{3} + \\frac{k_{3, 2} p_{3, 1}}{3} + \\frac{k_{4, 2} p_{2, 1}}{3} + i k_{6, 5} + \\frac{i p_{2, 1} p_{3, 2}}{3} - p_{5, 2} + \\frac{p_{5, 3}}{3}\\\\ \n",
       "\\omega_{6,6} &= - \\frac{k_{2, 1} p_{4, 2}}{3} + \\frac{2 k_{3, 1} p_{3, 2}}{3} - \\frac{2 k_{3, 2} p_{3, 1}}{3} + \\frac{k_{4, 2} p_{2, 1}}{3} + i k_{6, 6} + \\frac{i p_{2, 1} p_{3, 1}}{2} - \\frac{i p_{2, 1} p_{3, 2}}{6} + \\frac{p_{5, 3}}{3} - p_{5, 5}\\\\ \n",
       "\\omega_{6,7} &= - k_{2, 1} p_{4, 3} + k_{4, 3} p_{2, 1} + i k_{6, 7} - \\frac{i p_{2, 1} p_{3, 2}}{2} + 2 p_{5, 4} - p_{5, 5}\\\\ \n",
       "\\omega_{6,8} &= k_{2, 1} p_{4, 3} - k_{4, 3} p_{2, 1} + i k_{6, 8} + \\frac{i p_{2, 1} p_{3, 2}}{2} - p_{5, 4} - p_{5, 6}\\\\ \n",
       "\\omega_{6,9} &= i k_{6, 9} - p_{5, 6}\\\\ \n",
       "\\omega_{7,1} &= k_{7, 1} - i p_{6, 1}\\\\ \n",
       "\\omega_{7,2} &= i k_{2, 1} p_{5, 1} - i k_{3, 1} p_{4, 1} + i k_{4, 1} p_{3, 1} - i k_{5, 1} p_{2, 1} + k_{7, 2} - p_{2, 1} p_{4, 1} - \\frac{p_{3, 1}^{2}}{2} - i p_{6, 1}\\\\ \n",
       "\\omega_{7,3} &= - i k_{2, 1} p_{5, 1} + 2 i k_{3, 1} p_{4, 1} - 2 i k_{4, 1} p_{3, 1} + i k_{5, 1} p_{2, 1} + k_{7, 3} + \\frac{3 p_{2, 1} p_{4, 1}}{2} + p_{3, 1}^{2} - i p_{6, 2}\\\\ \n",
       "\\omega_{7,4} &= \\frac{k_{2, 1} p_{2, 1} p_{3, 1}}{2} + i k_{2, 1} p_{5, 3} - \\frac{k_{3, 1} p_{2, 1}^{2}}{2} + i k_{3, 1} p_{4, 2} + i k_{3, 2} p_{4, 1} - i k_{4, 1} p_{3, 2} - i k_{4, 2} p_{3, 1} - i k_{5, 3} p_{2, 1} + k_{7, 4} + \\frac{i p_{2, 1}^{3}}{6} + \\frac{p_{2, 1} p_{4, 1}}{2} + p_{2, 1} p_{4, 2} + \\frac{p_{3, 1}^{2}}{2} + p_{3, 1} p_{3, 2} - i p_{6, 2}\\\\ \n",
       "\\omega_{7,5} &= - i k_{3, 1} p_{4, 1} + i k_{4, 1} p_{3, 1} + k_{7, 5} - \\frac{p_{2, 1} p_{4, 1}}{2} - \\frac{p_{3, 1}^{2}}{2} - i p_{6, 3}\\\\ \n",
       "\\omega_{7,6} &= - \\frac{k_{2, 1} p_{2, 1} p_{3, 1}}{2} + i k_{2, 1} p_{5, 2} - 2 i k_{2, 1} p_{5, 3} + \\frac{k_{3, 1} p_{2, 1}^{2}}{2} - 2 i k_{3, 1} p_{4, 2} - 2 i k_{3, 2} p_{4, 1} + 2 i k_{4, 1} p_{3, 2} + 2 i k_{4, 2} p_{3, 1} - i k_{5, 2} p_{2, 1} + 2 i k_{5, 3} p_{2, 1} + k_{7, 6} - \\frac{i p_{2, 1}^{3}}{6} - \\frac{3 p_{2, 1} p_{4, 1}}{2} - 2 p_{2, 1} p_{4, 2} - p_{3, 1}^{2} - 2 p_{3, 1} p_{3, 2} - i p_{6, 3}\\\\ \n",
       "\\omega_{7,7} &= \\frac{k_{2, 1} p_{2, 1} p_{3, 1}}{2} + i k_{2, 1} p_{5, 3} - \\frac{k_{3, 1} p_{2, 1}^{2}}{2} + i k_{3, 1} p_{4, 2} - i k_{4, 2} p_{3, 1} - i k_{5, 3} p_{2, 1} + k_{7, 7} + \\frac{i p_{2, 1}^{3}}{6} + p_{2, 1} p_{4, 2} + \\frac{p_{3, 1}^{2}}{2} + \\frac{p_{3, 1} p_{3, 2}}{2} - i p_{6, 4}\\\\ \n",
       "\\omega_{7,8} &= \\frac{k_{2, 1} p_{2, 1} p_{3, 2}}{2} + i k_{2, 1} p_{5, 4} - \\frac{k_{3, 2} p_{2, 1}^{2}}{2} - i k_{3, 2} p_{4, 2} + i k_{4, 2} p_{3, 2} - i k_{5, 4} p_{2, 1} + k_{7, 8} + \\frac{i p_{2, 1}^{3}}{6} - p_{2, 1} p_{4, 2} - \\frac{p_{3, 1} p_{3, 2}}{2} - \\frac{p_{3, 2}^{2}}{2} - i p_{6, 4}\\\\ \n",
       "\\omega_{7,9} &= - \\frac{k_{2, 1} p_{2, 1} p_{3, 1}}{3} - i k_{2, 1} p_{5, 2} + \\frac{i k_{2, 1} p_{5, 3}}{3} + \\frac{k_{3, 1} p_{2, 1}^{2}}{3} + \\frac{2 i k_{3, 1} p_{4, 2}}{3} + i k_{3, 2} p_{4, 1} - i k_{4, 1} p_{3, 2} - \\frac{2 i k_{4, 2} p_{3, 1}}{3} + i k_{5, 2} p_{2, 1} - \\frac{i k_{5, 3} p_{2, 1}}{3} + k_{7, 9} - \\frac{i p_{2, 1}^{3}}{9} + p_{2, 1} p_{4, 1} + \\frac{p_{2, 1} p_{4, 2}}{2} + \\frac{p_{3, 1}^{2}}{3} + \\frac{5 p_{3, 1} p_{3, 2}}{6} - i p_{6, 5}\\\\ \n",
       "\\omega_{7,10} &= \\frac{i k_{3, 2} p_{4, 2}}{3} - \\frac{i k_{4, 2} p_{3, 2}}{3} + k_{7, 10} + \\frac{p_{2, 1} p_{4, 2}}{6} + \\frac{p_{3, 1} p_{3, 2}}{6} + \\frac{p_{3, 2}^{2}}{6} - i p_{6, 5}\\\\ \n",
       "\\omega_{7,11} &= \\frac{k_{2, 1} p_{2, 1} p_{3, 1}}{6} + \\frac{i k_{2, 1} p_{5, 3}}{3} - \\frac{k_{3, 1} p_{2, 1}^{2}}{6} + \\frac{2 i k_{3, 1} p_{4, 2}}{3} - \\frac{2 i k_{4, 2} p_{3, 1}}{3} - \\frac{i k_{5, 3} p_{2, 1}}{3} + k_{7, 11} + \\frac{i p_{2, 1}^{3}}{18} + \\frac{p_{2, 1} p_{4, 2}}{2} + \\frac{p_{3, 1}^{2}}{3} + \\frac{p_{3, 1} p_{3, 2}}{3} - i p_{6, 6}\\\\ \n",
       "\\omega_{7,12} &= \\frac{k_{2, 1} p_{2, 1} p_{3, 2}}{2} + i k_{2, 1} p_{5, 5} - i k_{3, 1} p_{4, 3} - \\frac{k_{3, 2} p_{2, 1}^{2}}{2} + \\frac{i k_{3, 2} p_{4, 2}}{3} - \\frac{i k_{4, 2} p_{3, 2}}{3} + i k_{4, 3} p_{3, 1} - i k_{5, 5} p_{2, 1} + k_{7, 12} + \\frac{i p_{2, 1}^{3}}{6} + \\frac{p_{2, 1} p_{4, 2}}{6} - p_{2, 1} p_{4, 3} + \\frac{2 p_{3, 1} p_{3, 2}}{3} + \\frac{p_{3, 2}^{2}}{6} - i p_{6, 6}\\\\ \n",
       "\\omega_{7,13} &= \\frac{k_{2, 1} p_{2, 1} p_{3, 2}}{2} + 2 i k_{2, 1} p_{5, 4} - i k_{2, 1} p_{5, 5} + 2 i k_{3, 1} p_{4, 3} - \\frac{k_{3, 2} p_{2, 1}^{2}}{2} - 2 i k_{3, 2} p_{4, 2} + 2 i k_{4, 2} p_{3, 2} - 2 i k_{4, 3} p_{3, 1} - 2 i k_{5, 4} p_{2, 1} + i k_{5, 5} p_{2, 1} + k_{7, 13} + \\frac{i p_{2, 1}^{3}}{6} - 2 p_{2, 1} p_{4, 2} + \\frac{3 p_{2, 1} p_{4, 3}}{2} - 2 p_{3, 1} p_{3, 2} - p_{3, 2}^{2} - i p_{6, 7}\\\\ \n",
       "\\omega_{7,14} &= i k_{3, 2} p_{4, 3} - i k_{4, 3} p_{3, 2} + k_{7, 14} + \\frac{p_{2, 1} p_{4, 3}}{2} - \\frac{p_{3, 2}^{2}}{2} - i p_{6, 7}\\\\ \n",
       "\\omega_{7,15} &= - \\frac{k_{2, 1} p_{2, 1} p_{3, 2}}{2} - i k_{2, 1} p_{5, 4} - i k_{3, 1} p_{4, 3} + \\frac{k_{3, 2} p_{2, 1}^{2}}{2} + i k_{3, 2} p_{4, 2} - i k_{4, 2} p_{3, 2} + i k_{4, 3} p_{3, 1} + i k_{5, 4} p_{2, 1} + k_{7, 15} - \\frac{i p_{2, 1}^{3}}{6} + p_{2, 1} p_{4, 2} - \\frac{p_{2, 1} p_{4, 3}}{2} + p_{3, 1} p_{3, 2} + \\frac{p_{3, 2}^{2}}{2} - i p_{6, 8}\\\\ \n",
       "\\omega_{7,16} &= i k_{2, 1} p_{5, 6} - 2 i k_{3, 2} p_{4, 3} + 2 i k_{4, 3} p_{3, 2} - i k_{5, 6} p_{2, 1} + k_{7, 16} - \\frac{3 p_{2, 1} p_{4, 3}}{2} + p_{3, 2}^{2} - i p_{6, 8}\\\\ \n",
       "\\omega_{7,17} &= - i k_{2, 1} p_{5, 6} + i k_{3, 2} p_{4, 3} - i k_{4, 3} p_{3, 2} + i k_{5, 6} p_{2, 1} + k_{7, 17} + p_{2, 1} p_{4, 3} - \\frac{p_{3, 2}^{2}}{2} - i p_{6, 9}\\\\ \n",
       "\\omega_{7,18} &= k_{7, 18} - i p_{6, 9}\\\\ \n",
       "\\end{align}\n",
       "$$"
      ],
      "text/plain": [
       "<IPython.core.display.Latex object>"
      ]
     },
     "metadata": {},
     "output_type": "display_data"
    }
   ],
   "source": [
    "P=sp.S(0)\n",
    "K=Eel(1, 1, base)\n",
    "if base == \"E\":\n",
    "    K += Eel(1, 2, base)\n",
    "for i in range(1, ord_bch):\n",
    "    for j in range(tams[i]):\n",
    "        if i % 2 != 0:\n",
    "            P += I*p[i + 1, j + 1]*Eel(i + 1, j + 1, base)\n",
    "            K += I*k[i + 1, j + 1]*Eel(i + 1, j + 1, base)\n",
    "        if i % 2 == 0:\n",
    "            K += k[i + 1, j + 1]*Eel(i + 1, j + 1, base)\n",
    "            P += p[i + 1, j + 1]*Eel(i + 1, j + 1, base)\n",
    "C = K\n",
    "esq = K\n",
    "fact = 1\n",
    "for i in range(1, ord_bch + 1):\n",
    "    fact = fact * i\n",
    "    C = Corxet(P, C)\n",
    "    esq += C/fact\n",
    "metPr5 = Metode(ord_bch, base)\n",
    "metPr5.importFromExpr(esq)\n",
    "display(Latex(\"$$\\n\" + sp.latex(metPr5) + \"\\n$$\"))"
   ]
  },
  {
   "cell_type": "markdown",
   "metadata": {},
   "source": [
    "Igual que en el darrer cas, però per processat tipus \"starter\""
   ]
  },
  {
   "cell_type": "code",
   "execution_count": 15,
   "metadata": {},
   "outputs": [
    {
     "data": {
      "text/latex": [
       "$$\n",
       "2 k_{3, 1} p_{4, 3} + \\frac{k_{3, 2} p_{2, 1}^{2}}{2} - 2 k_{3, 2} p_{4, 2} - k_{3, 2} p_{4, 3} - 2 k_{5, 4} p_{2, 1} + k_{5, 5} p_{2, 1} + k_{7, 13} - k_{7, 14} - \\frac{p_{2, 1}^{3}}{6} + 2 p_{2, 1} p_{4, 2} - p_{2, 1} p_{4, 3}\n",
       "$$"
      ],
      "text/plain": [
       "<IPython.core.display.Latex object>"
      ]
     },
     "metadata": {},
     "output_type": "display_data"
    }
   ],
   "source": [
    "expr=(metPr5.w[7][13]-metPr5.w[7][14]).simplify()\n",
    "display(Latex(\"$$\\n\" + sp.latex(expr) + \"\\n$$\"))"
   ]
  },
  {
   "cell_type": "code",
   "execution_count": null,
   "metadata": {},
   "outputs": [],
   "source": []
  }
 ],
 "metadata": {
  "kernelspec": {
   "display_name": "Python 3",
   "language": "python",
   "name": "python3"
  },
  "language_info": {
   "codemirror_mode": {
    "name": "ipython",
    "version": 3
   },
   "file_extension": ".py",
   "mimetype": "text/x-python",
   "name": "python",
   "nbconvert_exporter": "python",
   "pygments_lexer": "ipython3",
   "version": "3.7.3"
  }
 },
 "nbformat": 4,
 "nbformat_minor": 4
}
