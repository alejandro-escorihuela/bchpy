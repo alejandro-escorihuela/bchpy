{
 "cells": [
  {
   "cell_type": "markdown",
   "metadata": {
    "jupyter": {
     "outputs_hidden": false
    }
   },
   "source": [
    "Importem llibreries"
   ]
  },
  {
   "cell_type": "code",
   "execution_count": 1,
   "metadata": {
    "jupyter": {
     "outputs_hidden": false
    }
   },
   "outputs": [],
   "source": [
    "import numpy as np\n",
    "import sympy as sp\n",
    "from sympy import re, im, I\n",
    "from IPython.display import display, Markdown, Latex\n",
    "import sys\n",
    "sys.path.insert(0, '../')\n",
    "from bchpy import *\n",
    "import relations as rl"
   ]
  },
  {
   "cell_type": "markdown",
   "metadata": {},
   "source": [
    "Configurem la base i l'ordre del mètode"
   ]
  },
  {
   "cell_type": "code",
   "execution_count": 2,
   "metadata": {},
   "outputs": [],
   "source": [
    "ord_bch = 4\n",
    "base = \"E\""
   ]
  },
  {
   "cell_type": "markdown",
   "metadata": {},
   "source": [
    "Definim simbòlicament els factors $k_{i,j}$ i $p_{i,j}$ i els desenvolupaments de $K$ i $P$:\n",
    "$$\n",
    "K=\\sum_i \\sum_j k_{i,j}Z_{ij}\n",
    "$$\n",
    "$$\n",
    "P=\\sum_i \\sum_j p_{i,j}Z_{ij}\n",
    "$$"
   ]
  },
  {
   "cell_type": "code",
   "execution_count": 3,
   "metadata": {},
   "outputs": [],
   "source": [
    "tams = rl.tamZ\n",
    "if base == \"E\":\n",
    "    tams = rl.tamE\n",
    "P=sp.S(0)\n",
    "K=sp.S(0)\n",
    "p = sp.MatrixSymbol(\"p\", ord_bch + 1, tams[ord_bch - 1] + 1)\n",
    "r = sp.MatrixSymbol(\"r\", ord_bch + 1, tams[ord_bch - 1] + 1)\n",
    "q = sp.MatrixSymbol(\"q\", ord_bch + 1, tams[ord_bch - 1] + 1)\n",
    "k = sp.MatrixSymbol(\"k\", ord_bch + 1, tams[ord_bch - 1] + 1)"
   ]
  },
  {
   "cell_type": "markdown",
   "metadata": {},
   "source": [
    "Calculem $W$, utilitzant:\n",
    "$$\n",
    "W = e^{\\#P\\#}K=K+[P,K]+\\frac{1}{2!}[P,P,K]+\\frac{1}{3!}[P,P,P,K]+\\cdots\n",
    "$$"
   ]
  },
  {
   "cell_type": "markdown",
   "metadata": {},
   "source": [
    " ## Cas 1. Nucli sim-conj d'ordre 1. Processat imaginari pur i palindròmic."
   ]
  },
  {
   "cell_type": "code",
   "execution_count": 4,
   "metadata": {
    "scrolled": false
   },
   "outputs": [
    {
     "name": "stdout",
     "output_type": "stream",
     "text": [
      "Desenvolupament del nucli\n"
     ]
    },
    {
     "data": {
      "text/latex": [
       "$$\n",
       " K=i k_{2, 1} E_{2,1} + k_{3, 1} E_{3,1} + k_{3, 2} E_{3,2} + i k_{4, 1} E_{4,1} + i k_{4, 2} E_{4,2} + i k_{4, 3} E_{4,3} + E_{1,1} + E_{1,2}\n",
       "$$"
      ],
      "text/plain": [
       "<IPython.core.display.Latex object>"
      ]
     },
     "metadata": {},
     "output_type": "display_data"
    },
    {
     "name": "stdout",
     "output_type": "stream",
     "text": [
      "Desenvolupament del processat\n"
     ]
    },
    {
     "data": {
      "text/latex": [
       "$$\n",
       " P=i \\left(k_{2, 1} + p_{1, 1}\\right) E_{1,2} + i \\left(- \\frac{k_{2, 1} p_{1, 1}^{2}}{3} + k_{3, 1} p_{1, 1} + k_{4, 1}\\right) E_{3,1} + i \\left(- \\frac{2 k_{2, 1}^{2} p_{1, 1}}{3} + k_{2, 1} k_{3, 1} - \\frac{k_{2, 1} p_{1, 1}^{2}}{3} + k_{3, 2} p_{1, 1} - k_{4, 1} + k_{4, 2}\\right) E_{3,2} + i p_{1, 1} E_{1,1}\n",
       "$$"
      ],
      "text/plain": [
       "<IPython.core.display.Latex object>"
      ]
     },
     "metadata": {},
     "output_type": "display_data"
    },
    {
     "name": "stdout",
     "output_type": "stream",
     "text": [
      "Condicions d'ordre del mètode complet\n"
     ]
    },
    {
     "data": {
      "text/latex": [
       "$$\n",
       "\\begin{align}\n",
       "\\omega_{1,1} &= 1\\\\ \n",
       "\\omega_{1,2} &= 1\\\\ \n",
       "\\omega_{2,1} &= 0\\\\ \n",
       "\\omega_{3,1} &= - \\frac{k_{2, 1} p_{1, 1}}{2} + k_{3, 1}\\\\ \n",
       "\\omega_{3,2} &= - \\frac{k_{2, 1}^{2}}{2} - \\frac{k_{2, 1} p_{1, 1}}{2} + k_{3, 2}\\\\ \n",
       "\\omega_{4,1} &= 0\\\\ \n",
       "\\omega_{4,2} &= 0\\\\ \n",
       "\\omega_{4,3} &= i \\left(\\frac{k_{2, 1}^{3}}{3} + k_{2, 1} k_{3, 1} - k_{2, 1} k_{3, 2} - k_{4, 1} + k_{4, 2} + k_{4, 3}\\right)\\\\ \n",
       "\\end{align}\n",
       "$$"
      ],
      "text/plain": [
       "<IPython.core.display.Latex object>"
      ]
     },
     "metadata": {},
     "output_type": "display_data"
    }
   ],
   "source": [
    "P=I*p[1,1]*Eel(1, 1, base)\n",
    "K=Eel(1, 1, base)\n",
    "if base == \"E\":\n",
    "    K += Eel(1, 2, base)\n",
    "    P += I*p[1,2]*Eel(1, 2, base)\n",
    "for i in range(1, ord_bch):\n",
    "    for j in range(tams[i]):\n",
    "        if i % 2 != 0: # parells\n",
    "            #P += p[i + 1, j + 1]*Eel(i + 1, j + 1, base)\n",
    "            K += I*k[i + 1, j + 1]*Eel(i + 1, j + 1, base)\n",
    "        if i % 2 == 0: # senars\n",
    "            K += k[i + 1, j + 1]*Eel(i + 1, j + 1, base)\n",
    "            P += I*p[i + 1, j + 1]*Eel(i + 1, j + 1, base)\n",
    "P += -I*p[1,2]*Eel(1, 2, base) + I*(k[2, 1] + p[1, 1])*Eel(1, 2, base)\n",
    "P += -I*p[3,1]*Eel(3, 1, base) + I*(-k[2, 1]*p[1, 1]**2/3 + k[3, 1]*p[1, 1] + k[4, 1])*Eel(3, 1, base)\n",
    "P += -I*p[3,2]*Eel(3, 2, base) + I*(-2*k[2, 1]**2*p[1, 1]/3 + k[2, 1]*k[3, 1] - k[2, 1]*p[1, 1]**2/3 + k[3, 2]*p[1, 1] - k[4, 1] + k[4, 2])*Eel(3, 2, base)\n",
    "C = K\n",
    "esq = K\n",
    "fact = 1\n",
    "print(\"Desenvolupament del nucli\")\n",
    "display(Latex(\"$$\\n K=\" + sp.latex(K) + \"\\n$$\"))\n",
    "print(\"Desenvolupament del processat\")\n",
    "display(Latex(\"$$\\n P=\" + sp.latex(P) + \"\\n$$\"))\n",
    "for i in range(1, ord_bch + 1):\n",
    "    fact = fact * i\n",
    "    C = Corxet(P, C)\n",
    "    esq += C/fact\n",
    "metA = Metode(ord_bch, base)\n",
    "metA.importFromExpr(esq)\n",
    "metA.collectI()\n",
    "print(\"Condicions d'ordre del mètode complet\")\n",
    "display(Latex(\"$$\\n\" + sp.latex(metA) + \"\\n$$\"))"
   ]
  },
  {
   "cell_type": "markdown",
   "metadata": {},
   "source": [
    " ## Cas 2. Nucli sim-conj d'ordre 1. Processat imaginari pur"
   ]
  },
  {
   "cell_type": "code",
   "execution_count": 5,
   "metadata": {},
   "outputs": [
    {
     "name": "stdout",
     "output_type": "stream",
     "text": [
      "Desenvolupament del nucli\n"
     ]
    },
    {
     "data": {
      "text/latex": [
       "$$\n",
       " K=i k_{2, 1} E_{2,1} + k_{3, 1} E_{3,1} + k_{3, 2} E_{3,2} + i k_{4, 1} E_{4,1} + i k_{4, 2} E_{4,2} + i k_{4, 3} E_{4,3} + E_{1,1} + E_{1,2}\n",
       "$$"
      ],
      "text/plain": [
       "<IPython.core.display.Latex object>"
      ]
     },
     "metadata": {},
     "output_type": "display_data"
    },
    {
     "name": "stdout",
     "output_type": "stream",
     "text": [
      "Desenvolupament del processat\n"
     ]
    },
    {
     "data": {
      "text/latex": [
       "$$\n",
       " P=\\left(- \\frac{k_{2, 1} p_{1, 1}}{2} + k_{3, 1}\\right) E_{2,1} + i \\left(k_{2, 1} + p_{1, 1}\\right) E_{1,2} + i \\left(- \\frac{k_{2, 1} p_{1, 1}^{2}}{12} + \\frac{k_{3, 1} p_{1, 1}}{2} + k_{4, 1}\\right) E_{3,1} + i \\left(- \\frac{5 k_{2, 1}^{2} p_{1, 1}}{12} + \\frac{k_{2, 1} k_{3, 1}}{2} - \\frac{k_{2, 1} p_{1, 1}^{2}}{12} - \\frac{k_{3, 1} p_{1, 1}}{2} + k_{3, 2} p_{1, 1} - k_{4, 1} + k_{4, 2}\\right) E_{3,2} + i p_{1, 1} E_{1,1} + p_{4, 1} E_{4,1} + p_{4, 2} E_{4,2} + p_{4, 3} E_{4,3}\n",
       "$$"
      ],
      "text/plain": [
       "<IPython.core.display.Latex object>"
      ]
     },
     "metadata": {},
     "output_type": "display_data"
    },
    {
     "name": "stdout",
     "output_type": "stream",
     "text": [
      "Condicions d'ordre del mètode complet\n"
     ]
    },
    {
     "data": {
      "text/latex": [
       "$$\n",
       "\\begin{align}\n",
       "\\omega_{1,1} &= 1\\\\ \n",
       "\\omega_{1,2} &= 1\\\\ \n",
       "\\omega_{2,1} &= 0\\\\ \n",
       "\\omega_{3,1} &= 0\\\\ \n",
       "\\omega_{3,2} &= - \\frac{k_{2, 1}^{2}}{2} - k_{3, 1} + k_{3, 2}\\\\ \n",
       "\\omega_{4,1} &= 0\\\\ \n",
       "\\omega_{4,2} &= 0\\\\ \n",
       "\\omega_{4,3} &= i \\left(\\frac{k_{2, 1}^{3}}{3} + k_{2, 1} k_{3, 1} - k_{2, 1} k_{3, 2} - k_{4, 1} + k_{4, 2} + k_{4, 3}\\right)\\\\ \n",
       "\\end{align}\n",
       "$$"
      ],
      "text/plain": [
       "<IPython.core.display.Latex object>"
      ]
     },
     "metadata": {},
     "output_type": "display_data"
    }
   ],
   "source": [
    "P=I*p[1,1]*Eel(1, 1, base)\n",
    "K=Eel(1, 1, base)\n",
    "if base == \"E\":\n",
    "    K += Eel(1, 2, base)\n",
    "    P += I*p[1,2]*Eel(1, 2, base)\n",
    "for i in range(1, ord_bch):\n",
    "    for j in range(tams[i]):\n",
    "        if i % 2 != 0: # parells\n",
    "            P += p[i + 1, j + 1]*Eel(i + 1, j + 1, base)\n",
    "            K += I*k[i + 1, j + 1]*Eel(i + 1, j + 1, base)\n",
    "        if i % 2 == 0: # senars\n",
    "            K += k[i + 1, j + 1]*Eel(i + 1, j + 1, base)\n",
    "            P += I*p[i + 1, j + 1]*Eel(i + 1, j + 1, base)\n",
    "P += -I*p[1,2]*Eel(1, 2, base) + I*(k[2, 1] + p[1, 1])*Eel(1, 2, base)\n",
    "P += -p[2,1]*Eel(2, 1, base) + (-k[2, 1]*p[1, 1]/2 + k[3, 1])*Eel(2, 1, base)\n",
    "P += -I*p[3,1]*Eel(3, 1, base) + I*(-k[2, 1]*p[1, 1]**2/12 + k[3, 1]*p[1, 1]/2 + k[4, 1])*Eel(3, 1, base)\n",
    "P += -I*p[3,2]*Eel(3, 2, base) + I*(-5*k[2, 1]**2*p[1, 1]/12 + k[2, 1]*k[3, 1]/2 - k[2, 1]*p[1, 1]**2/12 - k[3, 1]*p[1, 1]/2 + k[3, 2]*p[1, 1] - k[4, 1] + k[4, 2])*Eel(3, 2, base)\n",
    "C = K\n",
    "esq = K\n",
    "fact = 1\n",
    "print(\"Desenvolupament del nucli\")\n",
    "display(Latex(\"$$\\n K=\" + sp.latex(K) + \"\\n$$\"))\n",
    "print(\"Desenvolupament del processat\")\n",
    "display(Latex(\"$$\\n P=\" + sp.latex(P) + \"\\n$$\"))\n",
    "for i in range(1, ord_bch + 1):\n",
    "    fact = fact * i\n",
    "    C = Corxet(P, C)\n",
    "    esq += C/fact\n",
    "metA = Metode(ord_bch, base)\n",
    "metA.importFromExpr(esq)\n",
    "metA.collectI()\n",
    "print(\"Condicions d'ordre del mètode complet\")\n",
    "display(Latex(\"$$\\n\" + sp.latex(metA) + \"\\n$$\"))"
   ]
  },
  {
   "cell_type": "markdown",
   "metadata": {},
   "source": [
    " ## Cas 3. Nucli sim-conj d'ordre 1. Processat general"
   ]
  },
  {
   "cell_type": "code",
   "execution_count": 7,
   "metadata": {},
   "outputs": [
    {
     "name": "stdout",
     "output_type": "stream",
     "text": [
      "Desenvolupament del nucli\n"
     ]
    },
    {
     "data": {
      "text/latex": [
       "$$\n",
       " K=i k_{2, 1} E_{2,1} + k_{3, 1} E_{3,1} + k_{3, 2} E_{3,2} + i k_{4, 1} E_{4,1} + i k_{4, 2} E_{4,2} + i k_{4, 3} E_{4,3} + E_{1,1} + E_{1,2}\n",
       "$$"
      ],
      "text/plain": [
       "<IPython.core.display.Latex object>"
      ]
     },
     "metadata": {},
     "output_type": "display_data"
    },
    {
     "name": "stdout",
     "output_type": "stream",
     "text": [
      "Desenvolupament del processat\n"
     ]
    },
    {
     "data": {
      "text/latex": [
       "$$\n",
       " P=\\left(i q_{1, 1} + r_{1, 1}\\right) E_{1,1} + \\left(i q_{1, 2} + r_{1, 2}\\right) E_{1,2} + \\left(i q_{2, 1} + r_{2, 1}\\right) E_{2,1} + \\left(i q_{3, 1} + r_{3, 1}\\right) E_{3,1} + \\left(i q_{3, 2} + r_{3, 2}\\right) E_{3,2} + \\left(i q_{4, 1} + r_{4, 1}\\right) E_{4,1} + \\left(i q_{4, 2} + r_{4, 2}\\right) E_{4,2} + \\left(i q_{4, 3} + r_{4, 3}\\right) E_{4,3}\n",
       "$$"
      ],
      "text/plain": [
       "<IPython.core.display.Latex object>"
      ]
     },
     "metadata": {},
     "output_type": "display_data"
    },
    {
     "name": "stdout",
     "output_type": "stream",
     "text": [
      "Condicions d'ordre del mètode complet\n"
     ]
    },
    {
     "data": {
      "text/latex": [
       "$$\n",
       "\\begin{align}\n",
       "\\omega_{1,1} &= 1\\\\ \n",
       "\\omega_{1,2} &= 1\\\\ \n",
       "\\omega_{2,1} &= i \\left(k_{2, 1} + q_{1, 1} - q_{1, 2}\\right) + r_{1, 1} - r_{1, 2}\\\\ \n",
       "\\omega_{3,1} &= - k_{2, 1} q_{1, 1} + i k_{2, 1} r_{1, 1} + k_{3, 1} - \\frac{q_{1, 1}^{2}}{2} + \\frac{q_{1, 1} q_{1, 2}}{2} + i q_{1, 1} r_{1, 1} - \\frac{i q_{1, 1} r_{1, 2}}{2} - \\frac{i q_{1, 2} r_{1, 1}}{2} - i q_{2, 1} + \\frac{r_{1, 1}^{2}}{2} - \\frac{r_{1, 1} r_{1, 2}}{2} - r_{2, 1}\\\\ \n",
       "\\omega_{3,2} &= - k_{2, 1} q_{1, 2} + i k_{2, 1} r_{1, 2} + k_{3, 2} - \\frac{q_{1, 1} q_{1, 2}}{2} + \\frac{i q_{1, 1} r_{1, 2}}{2} + \\frac{q_{1, 2}^{2}}{2} + \\frac{i q_{1, 2} r_{1, 1}}{2} - i q_{1, 2} r_{1, 2} - i q_{2, 1} + \\frac{r_{1, 1} r_{1, 2}}{2} - \\frac{r_{1, 2}^{2}}{2} - r_{2, 1}\\\\ \n",
       "\\omega_{4,1} &= i \\left(- \\frac{k_{2, 1} q_{1, 1}^{2}}{2} + \\frac{k_{2, 1} r_{1, 1}^{2}}{2} + k_{3, 1} q_{1, 1} + k_{4, 1} - \\frac{q_{1, 1}^{3}}{6} + \\frac{q_{1, 1}^{2} q_{1, 2}}{6} + \\frac{q_{1, 1} r_{1, 1}^{2}}{2} - \\frac{q_{1, 1} r_{1, 1} r_{1, 2}}{3} - \\frac{q_{1, 1} r_{2, 1}}{2} - \\frac{q_{1, 2} r_{1, 1}^{2}}{6} - \\frac{q_{2, 1} r_{1, 1}}{2} - q_{3, 1}\\right) - k_{2, 1} q_{1, 1} r_{1, 1} + k_{3, 1} r_{1, 1} - \\frac{q_{1, 1}^{2} r_{1, 1}}{2} + \\frac{q_{1, 1}^{2} r_{1, 2}}{6} + \\frac{q_{1, 1} q_{1, 2} r_{1, 1}}{3} + \\frac{q_{1, 1} q_{2, 1}}{2} + \\frac{r_{1, 1}^{3}}{6} - \\frac{r_{1, 1}^{2} r_{1, 2}}{6} - \\frac{r_{1, 1} r_{2, 1}}{2} - r_{3, 1}\\\\ \n",
       "\\omega_{4,2} &= i \\left(- k_{2, 1} q_{1, 1} q_{1, 2} + k_{2, 1} r_{1, 1} r_{1, 2} + k_{3, 1} q_{1, 2} + k_{3, 2} q_{1, 1} + k_{4, 2} - \\frac{q_{1, 1}^{2} q_{1, 2}}{3} + \\frac{q_{1, 1} q_{1, 2}^{2}}{3} + \\frac{2 q_{1, 1} r_{1, 1} r_{1, 2}}{3} - \\frac{q_{1, 1} r_{1, 2}^{2}}{3} - \\frac{q_{1, 1} r_{2, 1}}{2} + \\frac{q_{1, 2} r_{1, 1}^{2}}{3} - \\frac{2 q_{1, 2} r_{1, 1} r_{1, 2}}{3} - \\frac{q_{1, 2} r_{2, 1}}{2} - \\frac{q_{2, 1} r_{1, 1}}{2} - \\frac{q_{2, 1} r_{1, 2}}{2} - q_{3, 1} - q_{3, 2}\\right) - k_{2, 1} q_{1, 1} r_{1, 2} - k_{2, 1} q_{1, 2} r_{1, 1} + k_{3, 1} r_{1, 2} + k_{3, 2} r_{1, 1} - \\frac{q_{1, 1}^{2} r_{1, 2}}{3} - \\frac{2 q_{1, 1} q_{1, 2} r_{1, 1}}{3} + \\frac{2 q_{1, 1} q_{1, 2} r_{1, 2}}{3} + \\frac{q_{1, 1} q_{2, 1}}{2} + \\frac{q_{1, 2}^{2} r_{1, 1}}{3} + \\frac{q_{1, 2} q_{2, 1}}{2} + \\frac{r_{1, 1}^{2} r_{1, 2}}{3} - \\frac{r_{1, 1} r_{1, 2}^{2}}{3} - \\frac{r_{1, 1} r_{2, 1}}{2} - \\frac{r_{1, 2} r_{2, 1}}{2} - r_{3, 1} - r_{3, 2}\\\\ \n",
       "\\omega_{4,3} &= i \\left(\\frac{k_{2, 1} q_{1, 2}^{2}}{2} - \\frac{k_{2, 1} r_{1, 2}^{2}}{2} - k_{3, 2} q_{1, 2} + k_{4, 3} + \\frac{q_{1, 1} q_{1, 2}^{2}}{6} - \\frac{q_{1, 1} r_{1, 2}^{2}}{6} - \\frac{q_{1, 2}^{3}}{6} - \\frac{q_{1, 2} r_{1, 1} r_{1, 2}}{3} + \\frac{q_{1, 2} r_{1, 2}^{2}}{2} + \\frac{q_{1, 2} r_{2, 1}}{2} + \\frac{q_{2, 1} r_{1, 2}}{2} + q_{3, 2}\\right) + k_{2, 1} q_{1, 2} r_{1, 2} - k_{3, 2} r_{1, 2} + \\frac{q_{1, 1} q_{1, 2} r_{1, 2}}{3} + \\frac{q_{1, 2}^{2} r_{1, 1}}{6} - \\frac{q_{1, 2}^{2} r_{1, 2}}{2} - \\frac{q_{1, 2} q_{2, 1}}{2} - \\frac{r_{1, 1} r_{1, 2}^{2}}{6} + \\frac{r_{1, 2}^{3}}{6} + \\frac{r_{1, 2} r_{2, 1}}{2} + r_{3, 2}\\\\ \n",
       "\\end{align}\n",
       "$$"
      ],
      "text/plain": [
       "<IPython.core.display.Latex object>"
      ]
     },
     "metadata": {},
     "output_type": "display_data"
    }
   ],
   "source": [
    "P=(r[1,1]+I*q[1,1])*Eel(1, 1, base)\n",
    "K=Eel(1, 1, base)\n",
    "if base == \"E\":\n",
    "    K += Eel(1, 2, base)\n",
    "    P += (r[1,2]+I*q[1,2])*Eel(1, 2, base)\n",
    "for i in range(1, ord_bch):\n",
    "    for j in range(tams[i]):\n",
    "        if i % 2 != 0: # parells\n",
    "            P += (r[i + 1, j + 1]+I*q[i + 1, j + 1])*Eel(i + 1, j + 1, base)\n",
    "            K += I*k[i + 1, j + 1]*Eel(i + 1, j + 1, base)\n",
    "        if i % 2 == 0: # senars\n",
    "            K += k[i + 1, j + 1]*Eel(i + 1, j + 1, base)\n",
    "            P += (r[i + 1, j + 1]+I*q[i + 1, j + 1])*Eel(i + 1, j + 1, base)\n",
    "C = K\n",
    "esq = K\n",
    "fact = 1\n",
    "print(\"Desenvolupament del nucli\")\n",
    "display(Latex(\"$$\\n K=\" + sp.latex(K) + \"\\n$$\"))\n",
    "print(\"Desenvolupament del processat\")\n",
    "display(Latex(\"$$\\n P=\" + sp.latex(P) + \"\\n$$\"))\n",
    "for i in range(1, ord_bch + 1):\n",
    "    fact = fact * i\n",
    "    C = Corxet(P, C)\n",
    "    esq += C/fact\n",
    "metA = Metode(ord_bch, base)\n",
    "metA.importFromExpr(esq)\n",
    "metA.collectI()\n",
    "print(\"Condicions d'ordre del mètode complet\")\n",
    "display(Latex(\"$$\\n\" + sp.latex(metA) + \"\\n$$\"))"
   ]
  },
  {
   "cell_type": "markdown",
   "metadata": {},
   "source": [
    " ### omega2,1 real"
   ]
  },
  {
   "cell_type": "code",
   "execution_count": 25,
   "metadata": {},
   "outputs": [
    {
     "name": "stdout",
     "output_type": "stream",
     "text": [
      "Desenvolupament del nucli\n"
     ]
    },
    {
     "data": {
      "text/latex": [
       "$$\n",
       " K=i k_{2, 1} E_{2,1} + k_{3, 1} E_{3,1} + k_{3, 2} E_{3,2} + i k_{4, 1} E_{4,1} + i k_{4, 2} E_{4,2} + i k_{4, 3} E_{4,3} + E_{1,1} + E_{1,2}\n",
       "$$"
      ],
      "text/plain": [
       "<IPython.core.display.Latex object>"
      ]
     },
     "metadata": {},
     "output_type": "display_data"
    },
    {
     "name": "stdout",
     "output_type": "stream",
     "text": [
      "Desenvolupament del processat\n"
     ]
    },
    {
     "data": {
      "text/latex": [
       "$$\n",
       " P=\\left(i q_{1, 1} + r_{1, 1}\\right) E_{1,1} + \\left(i q_{1, 2} + r_{1, 2}\\right) E_{1,2} + \\left(i q_{2, 1} + r_{2, 1}\\right) E_{2,1} + \\left(i q_{3, 1} + r_{3, 1}\\right) E_{3,1} + \\left(i q_{3, 2} + r_{3, 2}\\right) E_{3,2} + \\left(i q_{4, 1} + r_{4, 1}\\right) E_{4,1} + \\left(i q_{4, 2} + r_{4, 2}\\right) E_{4,2} + \\left(i q_{4, 3} + r_{4, 3}\\right) E_{4,3} + i \\left(k_{2, 1} + q_{1, 1} - q_{1, 2}\\right) E_{1,2}\n",
       "$$"
      ],
      "text/plain": [
       "<IPython.core.display.Latex object>"
      ]
     },
     "metadata": {},
     "output_type": "display_data"
    },
    {
     "name": "stdout",
     "output_type": "stream",
     "text": [
      "Condicions d'ordre del mètode complet\n"
     ]
    },
    {
     "data": {
      "text/latex": [
       "$$\n",
       "\\begin{align}\n",
       "\\omega_{1,1} &= 1\\\\ \n",
       "\\omega_{1,2} &= 1\\\\ \n",
       "\\omega_{2,1} &= r_{1, 1} - r_{1, 2}\\\\ \n",
       "\\omega_{3,1} &= - \\frac{k_{2, 1} q_{1, 1}}{2} + \\frac{i k_{2, 1} r_{1, 1}}{2} + k_{3, 1} + \\frac{i q_{1, 1} r_{1, 1}}{2} - \\frac{i q_{1, 1} r_{1, 2}}{2} - i q_{2, 1} + \\frac{r_{1, 1}^{2}}{2} - \\frac{r_{1, 1} r_{1, 2}}{2} - r_{2, 1}\\\\ \n",
       "\\omega_{3,2} &= - \\frac{k_{2, 1}^{2}}{2} - \\frac{k_{2, 1} q_{1, 1}}{2} + \\frac{i k_{2, 1} r_{1, 1}}{2} + k_{3, 2} + \\frac{i q_{1, 1} r_{1, 1}}{2} - \\frac{i q_{1, 1} r_{1, 2}}{2} - i q_{2, 1} + \\frac{r_{1, 1} r_{1, 2}}{2} - \\frac{r_{1, 2}^{2}}{2} - r_{2, 1}\\\\ \n",
       "\\omega_{4,1} &= i \\left(- \\frac{k_{2, 1} q_{1, 1}^{2}}{3} + \\frac{k_{2, 1} r_{1, 1}^{2}}{3} + k_{3, 1} q_{1, 1} + k_{4, 1} + \\frac{q_{1, 1} r_{1, 1}^{2}}{3} - \\frac{q_{1, 1} r_{1, 1} r_{1, 2}}{3} - \\frac{q_{1, 1} r_{2, 1}}{2} - \\frac{q_{2, 1} r_{1, 1}}{2} - q_{3, 1}\\right) - \\frac{2 k_{2, 1} q_{1, 1} r_{1, 1}}{3} + k_{3, 1} r_{1, 1} - \\frac{q_{1, 1}^{2} r_{1, 1}}{6} + \\frac{q_{1, 1}^{2} r_{1, 2}}{6} + \\frac{q_{1, 1} q_{2, 1}}{2} + \\frac{r_{1, 1}^{3}}{6} - \\frac{r_{1, 1}^{2} r_{1, 2}}{6} - \\frac{r_{1, 1} r_{2, 1}}{2} - r_{3, 1}\\\\ \n",
       "\\omega_{4,2} &= i \\left(- \\frac{2 k_{2, 1}^{2} q_{1, 1}}{3} + k_{2, 1} k_{3, 1} - \\frac{2 k_{2, 1} q_{1, 1}^{2}}{3} + \\frac{k_{2, 1} r_{1, 1}^{2}}{3} + \\frac{k_{2, 1} r_{1, 1} r_{1, 2}}{3} - \\frac{k_{2, 1} r_{2, 1}}{2} + k_{3, 1} q_{1, 1} + k_{3, 2} q_{1, 1} + k_{4, 2} + \\frac{q_{1, 1} r_{1, 1}^{2}}{3} - \\frac{q_{1, 1} r_{1, 2}^{2}}{3} - q_{1, 1} r_{2, 1} - \\frac{q_{2, 1} r_{1, 1}}{2} - \\frac{q_{2, 1} r_{1, 2}}{2} - q_{3, 1} - q_{3, 2}\\right) - \\frac{2 k_{2, 1}^{2} r_{1, 1}}{3} - k_{2, 1} q_{1, 1} r_{1, 1} - \\frac{k_{2, 1} q_{1, 1} r_{1, 2}}{3} + \\frac{k_{2, 1} q_{2, 1}}{2} + k_{3, 1} r_{1, 2} + k_{3, 2} r_{1, 1} - \\frac{q_{1, 1}^{2} r_{1, 1}}{3} + \\frac{q_{1, 1}^{2} r_{1, 2}}{3} + q_{1, 1} q_{2, 1} + \\frac{r_{1, 1}^{2} r_{1, 2}}{3} - \\frac{r_{1, 1} r_{1, 2}^{2}}{3} - \\frac{r_{1, 1} r_{2, 1}}{2} - \\frac{r_{1, 2} r_{2, 1}}{2} - r_{3, 1} - r_{3, 2}\\\\ \n",
       "\\omega_{4,3} &= i \\left(\\frac{k_{2, 1}^{3}}{3} + \\frac{2 k_{2, 1}^{2} q_{1, 1}}{3} - k_{2, 1} k_{3, 2} + \\frac{k_{2, 1} q_{1, 1}^{2}}{3} - \\frac{k_{2, 1} r_{1, 1} r_{1, 2}}{3} + \\frac{k_{2, 1} r_{2, 1}}{2} - k_{3, 2} q_{1, 1} + k_{4, 3} - \\frac{q_{1, 1} r_{1, 1} r_{1, 2}}{3} + \\frac{q_{1, 1} r_{1, 2}^{2}}{3} + \\frac{q_{1, 1} r_{2, 1}}{2} + \\frac{q_{2, 1} r_{1, 2}}{2} + q_{3, 2}\\right) + \\frac{k_{2, 1}^{2} r_{1, 1}}{6} + \\frac{k_{2, 1}^{2} r_{1, 2}}{2} + \\frac{k_{2, 1} q_{1, 1} r_{1, 1}}{3} + \\frac{k_{2, 1} q_{1, 1} r_{1, 2}}{3} - \\frac{k_{2, 1} q_{2, 1}}{2} - k_{3, 2} r_{1, 2} + \\frac{q_{1, 1}^{2} r_{1, 1}}{6} - \\frac{q_{1, 1}^{2} r_{1, 2}}{6} - \\frac{q_{1, 1} q_{2, 1}}{2} - \\frac{r_{1, 1} r_{1, 2}^{2}}{6} + \\frac{r_{1, 2}^{3}}{6} + \\frac{r_{1, 2} r_{2, 1}}{2} + r_{3, 2}\\\\ \n",
       "\\end{align}\n",
       "$$"
      ],
      "text/plain": [
       "<IPython.core.display.Latex object>"
      ]
     },
     "metadata": {},
     "output_type": "display_data"
    }
   ],
   "source": [
    "P=(r[1,1]+I*q[1,1])*Eel(1, 1, base)\n",
    "K=Eel(1, 1, base)\n",
    "if base == \"E\":\n",
    "    K += Eel(1, 2, base)\n",
    "    P += (r[1,2]+I*q[1,2])*Eel(1, 2, base)\n",
    "# nucli\n",
    "for i in range(1, ord_bch):\n",
    "    for j in range(tams[i]):\n",
    "        if i % 2 != 0: # parells\n",
    "            K += I*k[i + 1, j + 1]*Eel(i + 1, j + 1, base)\n",
    "        if i % 2 == 0: # senars\n",
    "            K += k[i + 1, j + 1]*Eel(i + 1, j + 1, base)\n",
    "# processat\n",
    "for i in range(1, ord_bch):\n",
    "    for j in range(tams[i]):\n",
    "        if i % 2 != 0: # parells\n",
    "            P += (r[i + 1, j + 1]+I*q[i + 1, j + 1])*Eel(i + 1, j + 1, base)\n",
    "        if i % 2 == 0: # senars\n",
    "            P += (r[i + 1, j + 1]+I*q[i + 1, j + 1])*Eel(i + 1, j + 1, base)\n",
    "P += I*(k[2,1]+q[1,1]-q[1,2])*Eel(1, 2, base)\n",
    "#P += -r[1, 1]*Eel(1, 1, base) - r[1, 2]*Eel(1, 2, base) \n",
    "#P += -I*q[2, 1]*Eel(2, 1, base)\n",
    "#P += I*(-k[2, 1]*q[1, 1]**2/3 + k[3, 1]*q[1, 1] + k[4, 1] - q[1, 1]*r[2, 1]/2 - q[3, 1])*Eel(3,1,base)\n",
    "#P += I*(-2*k[2, 1]**2*q[1, 1]/3 + k[2, 1]*k[3, 1] - k[2, 1]*q[1, 1]**2/3 - k[2, 1]*r[2, 1]/2 + k[3, 2]*q[1, 1] - k[4, 1] + k[4, 2] - q[1, 1]*r[2, 1]/2 - q[3, 2])*Eel(3,2,base)\n",
    "C = K\n",
    "esq = K\n",
    "fact = 1\n",
    "print(\"Desenvolupament del nucli\")\n",
    "display(Latex(\"$$\\n K=\" + sp.latex(K) + \"\\n$$\"))\n",
    "print(\"Desenvolupament del processat\")\n",
    "display(Latex(\"$$\\n P=\" + sp.latex(P) + \"\\n$$\"))\n",
    "for i in range(1, ord_bch + 1):\n",
    "    fact = fact * i\n",
    "    C = Corxet(P, C)\n",
    "    esq += C/fact\n",
    "metA = Metode(ord_bch, base)\n",
    "metA.importFromExpr(esq)\n",
    "metA.collectI()\n",
    "print(\"Condicions d'ordre del mètode complet\")\n",
    "display(Latex(\"$$\\n\" + sp.latex(metA) + \"\\n$$\"))"
   ]
  },
  {
   "cell_type": "markdown",
   "metadata": {},
   "source": [
    " ### omega3,i reals"
   ]
  },
  {
   "cell_type": "code",
   "execution_count": 28,
   "metadata": {},
   "outputs": [
    {
     "name": "stdout",
     "output_type": "stream",
     "text": [
      "Desenvolupament del nucli\n"
     ]
    },
    {
     "data": {
      "text/latex": [
       "$$\n",
       " K=i k_{2, 1} E_{2,1} + k_{3, 1} E_{3,1} + k_{3, 2} E_{3,2} + i k_{4, 1} E_{4,1} + i k_{4, 2} E_{4,2} + i k_{4, 3} E_{4,3} + E_{1,1} + E_{1,2}\n",
       "$$"
      ],
      "text/plain": [
       "<IPython.core.display.Latex object>"
      ]
     },
     "metadata": {},
     "output_type": "display_data"
    },
    {
     "name": "stdout",
     "output_type": "stream",
     "text": [
      "Desenvolupament del processat\n"
     ]
    },
    {
     "data": {
      "text/latex": [
       "$$\n",
       " P=\\left(i q_{1, 1} + r_{1, 1}\\right) E_{1,1} + \\left(i q_{1, 2} + r_{1, 2}\\right) E_{1,2} + \\left(i q_{2, 1} + r_{2, 1}\\right) E_{2,1} + \\left(i q_{3, 1} + r_{3, 1}\\right) E_{3,1} + \\left(i q_{3, 2} + r_{3, 2}\\right) E_{3,2} + \\left(i q_{4, 1} + r_{4, 1}\\right) E_{4,1} + \\left(i q_{4, 2} + r_{4, 2}\\right) E_{4,2} + \\left(i q_{4, 3} + r_{4, 3}\\right) E_{4,3} + i \\left(k_{2, 1} + q_{1, 1} - q_{1, 2}\\right) E_{1,2} - i q_{2, 1} E_{2,1} - r_{1, 1} E_{1,1} - r_{1, 2} E_{1,2}\n",
       "$$"
      ],
      "text/plain": [
       "<IPython.core.display.Latex object>"
      ]
     },
     "metadata": {},
     "output_type": "display_data"
    },
    {
     "name": "stdout",
     "output_type": "stream",
     "text": [
      "Condicions d'ordre del mètode complet\n"
     ]
    },
    {
     "data": {
      "text/latex": [
       "$$\n",
       "\\begin{align}\n",
       "\\omega_{1,1} &= 1\\\\ \n",
       "\\omega_{1,2} &= 1\\\\ \n",
       "\\omega_{2,1} &= 0\\\\ \n",
       "\\omega_{3,1} &= - \\frac{k_{2, 1} q_{1, 1}}{2} + k_{3, 1} - r_{2, 1}\\\\ \n",
       "\\omega_{3,2} &= - \\frac{k_{2, 1}^{2}}{2} - \\frac{k_{2, 1} q_{1, 1}}{2} + k_{3, 2} - r_{2, 1}\\\\ \n",
       "\\omega_{4,1} &= i \\left(- \\frac{k_{2, 1} q_{1, 1}^{2}}{3} + k_{3, 1} q_{1, 1} + k_{4, 1} - \\frac{q_{1, 1} r_{2, 1}}{2} - q_{3, 1}\\right) - r_{3, 1}\\\\ \n",
       "\\omega_{4,2} &= i \\left(- \\frac{2 k_{2, 1}^{2} q_{1, 1}}{3} + k_{2, 1} k_{3, 1} - \\frac{2 k_{2, 1} q_{1, 1}^{2}}{3} - \\frac{k_{2, 1} r_{2, 1}}{2} + k_{3, 1} q_{1, 1} + k_{3, 2} q_{1, 1} + k_{4, 2} - q_{1, 1} r_{2, 1} - q_{3, 1} - q_{3, 2}\\right) - r_{3, 1} - r_{3, 2}\\\\ \n",
       "\\omega_{4,3} &= i \\left(\\frac{k_{2, 1}^{3}}{3} + \\frac{2 k_{2, 1}^{2} q_{1, 1}}{3} - k_{2, 1} k_{3, 2} + \\frac{k_{2, 1} q_{1, 1}^{2}}{3} + \\frac{k_{2, 1} r_{2, 1}}{2} - k_{3, 2} q_{1, 1} + k_{4, 3} + \\frac{q_{1, 1} r_{2, 1}}{2} + q_{3, 2}\\right) + r_{3, 2}\\\\ \n",
       "\\end{align}\n",
       "$$"
      ],
      "text/plain": [
       "<IPython.core.display.Latex object>"
      ]
     },
     "metadata": {},
     "output_type": "display_data"
    }
   ],
   "source": [
    "P=(r[1,1]+I*q[1,1])*Eel(1, 1, base)\n",
    "K=Eel(1, 1, base)\n",
    "if base == \"E\":\n",
    "    K += Eel(1, 2, base)\n",
    "    P += (r[1,2]+I*q[1,2])*Eel(1, 2, base)\n",
    "# nucli\n",
    "for i in range(1, ord_bch):\n",
    "    for j in range(tams[i]):\n",
    "        if i % 2 != 0: # parells\n",
    "            K += I*k[i + 1, j + 1]*Eel(i + 1, j + 1, base)\n",
    "        if i % 2 == 0: # senars\n",
    "            K += k[i + 1, j + 1]*Eel(i + 1, j + 1, base)\n",
    "# processat\n",
    "for i in range(1, ord_bch):\n",
    "    for j in range(tams[i]):\n",
    "        if i % 2 != 0: # parells\n",
    "            P += (r[i + 1, j + 1]+I*q[i + 1, j + 1])*Eel(i + 1, j + 1, base)\n",
    "        if i % 2 == 0: # senars\n",
    "            P += (r[i + 1, j + 1]+I*q[i + 1, j + 1])*Eel(i + 1, j + 1, base)\n",
    "P += I*(k[2,1]+q[1,1]-q[1,2])*Eel(1, 2, base)\n",
    "P += -r[1, 1]*Eel(1, 1, base) - r[1, 2]*Eel(1, 2, base) \n",
    "P += -I*q[2, 1]*Eel(2, 1, base)\n",
    "#P += I*(-k[2, 1]*q[1, 1]**2/3 + k[3, 1]*q[1, 1] + k[4, 1] - q[1, 1]*r[2, 1]/2 - q[3, 1])*Eel(3,1,base)\n",
    "#P += I*(-2*k[2, 1]**2*q[1, 1]/3 + k[2, 1]*k[3, 1] - k[2, 1]*q[1, 1]**2/3 - k[2, 1]*r[2, 1]/2 + k[3, 2]*q[1, 1] - k[4, 1] + k[4, 2] - q[1, 1]*r[2, 1]/2 - q[3, 2])*Eel(3,2,base)\n",
    "C = K\n",
    "esq = K\n",
    "fact = 1\n",
    "print(\"Desenvolupament del nucli\")\n",
    "display(Latex(\"$$\\n K=\" + sp.latex(K) + \"\\n$$\"))\n",
    "print(\"Desenvolupament del processat\")\n",
    "display(Latex(\"$$\\n P=\" + sp.latex(P) + \"\\n$$\"))\n",
    "for i in range(1, ord_bch + 1):\n",
    "    fact = fact * i\n",
    "    C = Corxet(P, C)\n",
    "    esq += C/fact\n",
    "metA = Metode(ord_bch, base)\n",
    "metA.importFromExpr(esq)\n",
    "metA.collectI()\n",
    "print(\"Condicions d'ordre del mètode complet\")\n",
    "display(Latex(\"$$\\n\" + sp.latex(metA) + \"\\n$$\"))"
   ]
  },
  {
   "cell_type": "markdown",
   "metadata": {},
   "source": [
    " ### omega4,1 real"
   ]
  },
  {
   "cell_type": "code",
   "execution_count": 29,
   "metadata": {},
   "outputs": [
    {
     "name": "stdout",
     "output_type": "stream",
     "text": [
      "Desenvolupament del nucli\n"
     ]
    },
    {
     "data": {
      "text/latex": [
       "$$\n",
       " K=i k_{2, 1} E_{2,1} + k_{3, 1} E_{3,1} + k_{3, 2} E_{3,2} + i k_{4, 1} E_{4,1} + i k_{4, 2} E_{4,2} + i k_{4, 3} E_{4,3} + E_{1,1} + E_{1,2}\n",
       "$$"
      ],
      "text/plain": [
       "<IPython.core.display.Latex object>"
      ]
     },
     "metadata": {},
     "output_type": "display_data"
    },
    {
     "name": "stdout",
     "output_type": "stream",
     "text": [
      "Desenvolupament del processat\n"
     ]
    },
    {
     "data": {
      "text/latex": [
       "$$\n",
       " P=\\left(i q_{1, 1} + r_{1, 1}\\right) E_{1,1} + \\left(i q_{1, 2} + r_{1, 2}\\right) E_{1,2} + \\left(i q_{2, 1} + r_{2, 1}\\right) E_{2,1} + \\left(i q_{3, 1} + r_{3, 1}\\right) E_{3,1} + \\left(i q_{3, 2} + r_{3, 2}\\right) E_{3,2} + \\left(i q_{4, 1} + r_{4, 1}\\right) E_{4,1} + \\left(i q_{4, 2} + r_{4, 2}\\right) E_{4,2} + \\left(i q_{4, 3} + r_{4, 3}\\right) E_{4,3} + i \\left(k_{2, 1} + q_{1, 1} - q_{1, 2}\\right) E_{1,2} + i \\left(- \\frac{k_{2, 1} q_{1, 1}^{2}}{3} + k_{3, 1} q_{1, 1} + k_{4, 1} - \\frac{q_{1, 1} r_{2, 1}}{2} - q_{3, 1}\\right) E_{3,1} - i q_{2, 1} E_{2,1} - r_{1, 1} E_{1,1} - r_{1, 2} E_{1,2}\n",
       "$$"
      ],
      "text/plain": [
       "<IPython.core.display.Latex object>"
      ]
     },
     "metadata": {},
     "output_type": "display_data"
    },
    {
     "name": "stdout",
     "output_type": "stream",
     "text": [
      "Condicions d'ordre del mètode complet\n"
     ]
    },
    {
     "data": {
      "text/latex": [
       "$$\n",
       "\\begin{align}\n",
       "\\omega_{1,1} &= 1\\\\ \n",
       "\\omega_{1,2} &= 1\\\\ \n",
       "\\omega_{2,1} &= 0\\\\ \n",
       "\\omega_{3,1} &= - \\frac{k_{2, 1} q_{1, 1}}{2} + k_{3, 1} - r_{2, 1}\\\\ \n",
       "\\omega_{3,2} &= - \\frac{k_{2, 1}^{2}}{2} - \\frac{k_{2, 1} q_{1, 1}}{2} + k_{3, 2} - r_{2, 1}\\\\ \n",
       "\\omega_{4,1} &= - r_{3, 1}\\\\ \n",
       "\\omega_{4,2} &= i \\left(- \\frac{2 k_{2, 1}^{2} q_{1, 1}}{3} + k_{2, 1} k_{3, 1} - \\frac{k_{2, 1} q_{1, 1}^{2}}{3} - \\frac{k_{2, 1} r_{2, 1}}{2} + k_{3, 2} q_{1, 1} - k_{4, 1} + k_{4, 2} - \\frac{q_{1, 1} r_{2, 1}}{2} - q_{3, 2}\\right) - r_{3, 1} - r_{3, 2}\\\\ \n",
       "\\omega_{4,3} &= i \\left(\\frac{k_{2, 1}^{3}}{3} + \\frac{2 k_{2, 1}^{2} q_{1, 1}}{3} - k_{2, 1} k_{3, 2} + \\frac{k_{2, 1} q_{1, 1}^{2}}{3} + \\frac{k_{2, 1} r_{2, 1}}{2} - k_{3, 2} q_{1, 1} + k_{4, 3} + \\frac{q_{1, 1} r_{2, 1}}{2} + q_{3, 2}\\right) + r_{3, 2}\\\\ \n",
       "\\end{align}\n",
       "$$"
      ],
      "text/plain": [
       "<IPython.core.display.Latex object>"
      ]
     },
     "metadata": {},
     "output_type": "display_data"
    }
   ],
   "source": [
    "P=(r[1,1]+I*q[1,1])*Eel(1, 1, base)\n",
    "K=Eel(1, 1, base)\n",
    "if base == \"E\":\n",
    "    K += Eel(1, 2, base)\n",
    "    P += (r[1,2]+I*q[1,2])*Eel(1, 2, base)\n",
    "# nucli\n",
    "for i in range(1, ord_bch):\n",
    "    for j in range(tams[i]):\n",
    "        if i % 2 != 0: # parells\n",
    "            K += I*k[i + 1, j + 1]*Eel(i + 1, j + 1, base)\n",
    "        if i % 2 == 0: # senars\n",
    "            K += k[i + 1, j + 1]*Eel(i + 1, j + 1, base)\n",
    "# processat\n",
    "for i in range(1, ord_bch):\n",
    "    for j in range(tams[i]):\n",
    "        if i % 2 != 0: # parells\n",
    "            P += (r[i + 1, j + 1]+I*q[i + 1, j + 1])*Eel(i + 1, j + 1, base)\n",
    "        if i % 2 == 0: # senars\n",
    "            P += (r[i + 1, j + 1]+I*q[i + 1, j + 1])*Eel(i + 1, j + 1, base)\n",
    "P += I*(k[2,1]+q[1,1]-q[1,2])*Eel(1, 2, base)\n",
    "P += -r[1, 1]*Eel(1, 1, base) - r[1, 2]*Eel(1, 2, base) \n",
    "P += -I*q[2, 1]*Eel(2, 1, base)\n",
    "P += I*(-k[2, 1]*q[1, 1]**2/3 + k[3, 1]*q[1, 1] + k[4, 1] - q[1, 1]*r[2, 1]/2 - q[3, 1])*Eel(3,1,base)\n",
    "#P += I*(-2*k[2, 1]**2*q[1, 1]/3 + k[2, 1]*k[3, 1] - k[2, 1]*q[1, 1]**2/3 - k[2, 1]*r[2, 1]/2 + k[3, 2]*q[1, 1] - k[4, 1] + k[4, 2] - q[1, 1]*r[2, 1]/2 - q[3, 2])*Eel(3,2,base)\n",
    "C = K\n",
    "esq = K\n",
    "fact = 1\n",
    "print(\"Desenvolupament del nucli\")\n",
    "display(Latex(\"$$\\n K=\" + sp.latex(K) + \"\\n$$\"))\n",
    "print(\"Desenvolupament del processat\")\n",
    "display(Latex(\"$$\\n P=\" + sp.latex(P) + \"\\n$$\"))\n",
    "for i in range(1, ord_bch + 1):\n",
    "    fact = fact * i\n",
    "    C = Corxet(P, C)\n",
    "    esq += C/fact\n",
    "metA = Metode(ord_bch, base)\n",
    "metA.importFromExpr(esq)\n",
    "metA.collectI()\n",
    "print(\"Condicions d'ordre del mètode complet\")\n",
    "display(Latex(\"$$\\n\" + sp.latex(metA) + \"\\n$$\"))"
   ]
  },
  {
   "cell_type": "markdown",
   "metadata": {},
   "source": [
    " ### omega4,2 real"
   ]
  },
  {
   "cell_type": "code",
   "execution_count": 30,
   "metadata": {},
   "outputs": [
    {
     "name": "stdout",
     "output_type": "stream",
     "text": [
      "Desenvolupament del nucli\n"
     ]
    },
    {
     "data": {
      "text/latex": [
       "$$\n",
       " K=i k_{2, 1} E_{2,1} + k_{3, 1} E_{3,1} + k_{3, 2} E_{3,2} + i k_{4, 1} E_{4,1} + i k_{4, 2} E_{4,2} + i k_{4, 3} E_{4,3} + E_{1,1} + E_{1,2}\n",
       "$$"
      ],
      "text/plain": [
       "<IPython.core.display.Latex object>"
      ]
     },
     "metadata": {},
     "output_type": "display_data"
    },
    {
     "name": "stdout",
     "output_type": "stream",
     "text": [
      "Desenvolupament del processat\n"
     ]
    },
    {
     "data": {
      "text/latex": [
       "$$\n",
       " P=\\left(i q_{1, 1} + r_{1, 1}\\right) E_{1,1} + \\left(i q_{1, 2} + r_{1, 2}\\right) E_{1,2} + \\left(i q_{2, 1} + r_{2, 1}\\right) E_{2,1} + \\left(i q_{3, 1} + r_{3, 1}\\right) E_{3,1} + \\left(i q_{3, 2} + r_{3, 2}\\right) E_{3,2} + \\left(i q_{4, 1} + r_{4, 1}\\right) E_{4,1} + \\left(i q_{4, 2} + r_{4, 2}\\right) E_{4,2} + \\left(i q_{4, 3} + r_{4, 3}\\right) E_{4,3} + i \\left(k_{2, 1} + q_{1, 1} - q_{1, 2}\\right) E_{1,2} + i \\left(- \\frac{k_{2, 1} q_{1, 1}^{2}}{3} + k_{3, 1} q_{1, 1} + k_{4, 1} - \\frac{q_{1, 1} r_{2, 1}}{2} - q_{3, 1}\\right) E_{3,1} + i \\left(- \\frac{2 k_{2, 1}^{2} q_{1, 1}}{3} + k_{2, 1} k_{3, 1} - \\frac{k_{2, 1} q_{1, 1}^{2}}{3} - \\frac{k_{2, 1} r_{2, 1}}{2} + k_{3, 2} q_{1, 1} - k_{4, 1} + k_{4, 2} - \\frac{q_{1, 1} r_{2, 1}}{2} - q_{3, 2}\\right) E_{3,2} - i q_{2, 1} E_{2,1} - r_{1, 1} E_{1,1} - r_{1, 2} E_{1,2}\n",
       "$$"
      ],
      "text/plain": [
       "<IPython.core.display.Latex object>"
      ]
     },
     "metadata": {},
     "output_type": "display_data"
    },
    {
     "name": "stdout",
     "output_type": "stream",
     "text": [
      "Condicions d'ordre del mètode complet\n"
     ]
    },
    {
     "data": {
      "text/latex": [
       "$$\n",
       "\\begin{align}\n",
       "\\omega_{1,1} &= 1\\\\ \n",
       "\\omega_{1,2} &= 1\\\\ \n",
       "\\omega_{2,1} &= 0\\\\ \n",
       "\\omega_{3,1} &= - \\frac{k_{2, 1} q_{1, 1}}{2} + k_{3, 1} - r_{2, 1}\\\\ \n",
       "\\omega_{3,2} &= - \\frac{k_{2, 1}^{2}}{2} - \\frac{k_{2, 1} q_{1, 1}}{2} + k_{3, 2} - r_{2, 1}\\\\ \n",
       "\\omega_{4,1} &= - r_{3, 1}\\\\ \n",
       "\\omega_{4,2} &= - r_{3, 1} - r_{3, 2}\\\\ \n",
       "\\omega_{4,3} &= i \\left(\\frac{k_{2, 1}^{3}}{3} + k_{2, 1} k_{3, 1} - k_{2, 1} k_{3, 2} - k_{4, 1} + k_{4, 2} + k_{4, 3}\\right) + r_{3, 2}\\\\ \n",
       "\\end{align}\n",
       "$$"
      ],
      "text/plain": [
       "<IPython.core.display.Latex object>"
      ]
     },
     "metadata": {},
     "output_type": "display_data"
    }
   ],
   "source": [
    "P=(r[1,1]+I*q[1,1])*Eel(1, 1, base)\n",
    "K=Eel(1, 1, base)\n",
    "if base == \"E\":\n",
    "    K += Eel(1, 2, base)\n",
    "    P += (r[1,2]+I*q[1,2])*Eel(1, 2, base)\n",
    "# nucli\n",
    "for i in range(1, ord_bch):\n",
    "    for j in range(tams[i]):\n",
    "        if i % 2 != 0: # parells\n",
    "            K += I*k[i + 1, j + 1]*Eel(i + 1, j + 1, base)\n",
    "        if i % 2 == 0: # senars\n",
    "            K += k[i + 1, j + 1]*Eel(i + 1, j + 1, base)\n",
    "# processat\n",
    "for i in range(1, ord_bch):\n",
    "    for j in range(tams[i]):\n",
    "        if i % 2 != 0: # parells\n",
    "            P += (r[i + 1, j + 1]+I*q[i + 1, j + 1])*Eel(i + 1, j + 1, base)\n",
    "        if i % 2 == 0: # senars\n",
    "            P += (r[i + 1, j + 1]+I*q[i + 1, j + 1])*Eel(i + 1, j + 1, base)\n",
    "P += I*(k[2,1]+q[1,1]-q[1,2])*Eel(1, 2, base)\n",
    "P += -r[1, 1]*Eel(1, 1, base) - r[1, 2]*Eel(1, 2, base) \n",
    "P += -I*q[2, 1]*Eel(2, 1, base)\n",
    "P += I*(-k[2, 1]*q[1, 1]**2/3 + k[3, 1]*q[1, 1] + k[4, 1] - q[1, 1]*r[2, 1]/2 - q[3, 1])*Eel(3,1,base)\n",
    "P += I*(-2*k[2, 1]**2*q[1, 1]/3 + k[2, 1]*k[3, 1] - k[2, 1]*q[1, 1]**2/3 - k[2, 1]*r[2, 1]/2 + k[3, 2]*q[1, 1] - k[4, 1] + k[4, 2] - q[1, 1]*r[2, 1]/2 - q[3, 2])*Eel(3,2,base)\n",
    "C = K\n",
    "esq = K\n",
    "fact = 1\n",
    "print(\"Desenvolupament del nucli\")\n",
    "display(Latex(\"$$\\n K=\" + sp.latex(K) + \"\\n$$\"))\n",
    "print(\"Desenvolupament del processat\")\n",
    "display(Latex(\"$$\\n P=\" + sp.latex(P) + \"\\n$$\"))\n",
    "for i in range(1, ord_bch + 1):\n",
    "    fact = fact * i\n",
    "    C = Corxet(P, C)\n",
    "    esq += C/fact\n",
    "metA = Metode(ord_bch, base)\n",
    "metA.importFromExpr(esq)\n",
    "metA.collectI()\n",
    "print(\"Condicions d'ordre del mètode complet\")\n",
    "display(Latex(\"$$\\n\" + sp.latex(metA) + \"\\n$$\"))"
   ]
  },
  {
   "cell_type": "code",
   "execution_count": null,
   "metadata": {},
   "outputs": [],
   "source": []
  }
 ],
 "metadata": {
  "kernelspec": {
   "display_name": "Python 3",
   "language": "python",
   "name": "python3"
  },
  "language_info": {
   "codemirror_mode": {
    "name": "ipython",
    "version": 3
   },
   "file_extension": ".py",
   "mimetype": "text/x-python",
   "name": "python",
   "nbconvert_exporter": "python",
   "pygments_lexer": "ipython3",
   "version": "3.7.3"
  }
 },
 "nbformat": 4,
 "nbformat_minor": 4
}
