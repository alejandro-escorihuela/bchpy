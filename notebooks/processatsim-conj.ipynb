{
 "cells": [
  {
   "cell_type": "markdown",
   "metadata": {
    "jupyter": {
     "outputs_hidden": false
    }
   },
   "source": [
    "Importem llibreries"
   ]
  },
  {
   "cell_type": "code",
   "execution_count": 1,
   "metadata": {
    "jupyter": {
     "outputs_hidden": false
    }
   },
   "outputs": [],
   "source": [
    "import numpy as np\n",
    "import sympy as sp\n",
    "from sympy import re, im, I\n",
    "from IPython.display import display, Markdown, Latex\n",
    "import sys\n",
    "sys.path.insert(0, '../')\n",
    "from bchpy import *\n",
    "import relations as rl"
   ]
  },
  {
   "cell_type": "markdown",
   "metadata": {},
   "source": [
    "Configurem la base i l'ordre del mètode"
   ]
  },
  {
   "cell_type": "code",
   "execution_count": 2,
   "metadata": {},
   "outputs": [],
   "source": [
    "ord_bch = 6\n",
    "base = \"E\""
   ]
  },
  {
   "cell_type": "markdown",
   "metadata": {},
   "source": [
    "Definim simbòlicament els factors $k_{i,j}$ i $p_{i,j}$ i els desenvolupaments de $K$ i $P$:\n",
    "$$\n",
    "K=\\sum_i \\sum_j k_{i,j}Z_{ij}\n",
    "$$\n",
    "$$\n",
    "P=\\sum_i \\sum_j p_{i,j}Z_{ij}\n",
    "$$"
   ]
  },
  {
   "cell_type": "code",
   "execution_count": 3,
   "metadata": {},
   "outputs": [],
   "source": [
    "tams = rl.tamZ\n",
    "if base == \"E\":\n",
    "    tams = rl.tamE\n",
    "P=sp.S(0)\n",
    "K=sp.S(0)\n",
    "p = sp.MatrixSymbol(\"p\", ord_bch + 1, tams[ord_bch - 1] + 1)\n",
    "k = sp.MatrixSymbol(\"k\", ord_bch + 1, tams[ord_bch - 1] + 1)"
   ]
  },
  {
   "cell_type": "markdown",
   "metadata": {},
   "source": [
    "Calculem $W$, utilitzant:\n",
    "$$\n",
    "W = e^{\\#P\\#}K=K+[P,K]+\\frac{1}{2!}[P,P,K]+\\frac{1}{3!}[P,P,P,K]+\\cdots\n",
    "$$"
   ]
  },
  {
   "cell_type": "markdown",
   "metadata": {},
   "source": [
    "Processat imaginari pur i palindròmic per a un nucli simètric-conjugat"
   ]
  },
  {
   "cell_type": "code",
   "execution_count": 4,
   "metadata": {},
   "outputs": [
    {
     "name": "stdout",
     "output_type": "stream",
     "text": [
      "Desenvolupament del nucli\n"
     ]
    },
    {
     "data": {
      "text/latex": [
       "$$\n",
       " K=i k_{2, 1} E_{2,1} + k_{3, 1} E_{3,1} + k_{3, 2} E_{3,2} + i k_{4, 1} E_{4,1} + i k_{4, 2} E_{4,2} + i k_{4, 3} E_{4,3} + k_{5, 1} E_{5,1} + k_{5, 2} E_{5,2} + k_{5, 3} E_{5,3} + k_{5, 4} E_{5,4} + k_{5, 5} E_{5,5} + k_{5, 6} E_{5,6} + i k_{6, 1} E_{6,1} + i k_{6, 2} E_{6,2} + i k_{6, 3} E_{6,3} + i k_{6, 4} E_{6,4} + i k_{6, 5} E_{6,5} + i k_{6, 6} E_{6,6} + i k_{6, 7} E_{6,7} + i k_{6, 8} E_{6,8} + i k_{6, 9} E_{6,9} + E_{1,1} + E_{1,2}\n",
       "$$"
      ],
      "text/plain": [
       "<IPython.core.display.Latex object>"
      ]
     },
     "metadata": {},
     "output_type": "display_data"
    },
    {
     "name": "stdout",
     "output_type": "stream",
     "text": [
      "Desenvolupament del processat\n"
     ]
    },
    {
     "data": {
      "text/latex": [
       "$$\n",
       " P=i p_{1, 1} E_{1,1} + i p_{1, 2} E_{1,2} + i p_{3, 1} E_{3,1} + i p_{3, 2} E_{3,2} + i p_{5, 1} E_{5,1} + i p_{5, 2} E_{5,2} + i p_{5, 3} E_{5,3} + i p_{5, 4} E_{5,4} + i p_{5, 5} E_{5,5} + i p_{5, 6} E_{5,6}\n",
       "$$"
      ],
      "text/plain": [
       "<IPython.core.display.Latex object>"
      ]
     },
     "metadata": {},
     "output_type": "display_data"
    },
    {
     "name": "stdout",
     "output_type": "stream",
     "text": [
      "Condicions d'ordre del mètode complet\n"
     ]
    },
    {
     "data": {
      "text/latex": [
       "$$\n",
       "\\begin{align}\n",
       "\\omega_{1,1} &= 1\\\\ \n",
       "\\omega_{1,2} &= 1\\\\ \n",
       "\\omega_{2,1} &= i \\left(k_{2, 1} + p_{1, 1} - p_{1, 2}\\right)\\\\ \n",
       "\\omega_{3,1} &= - k_{2, 1} p_{1, 1} + k_{3, 1} - \\frac{p_{1, 1}^{2}}{2} + \\frac{p_{1, 1} p_{1, 2}}{2}\\\\ \n",
       "\\omega_{3,2} &= - k_{2, 1} p_{1, 2} + k_{3, 2} - \\frac{p_{1, 1} p_{1, 2}}{2} + \\frac{p_{1, 2}^{2}}{2}\\\\ \n",
       "\\omega_{4,1} &= i \\left(- \\frac{k_{2, 1} p_{1, 1}^{2}}{2} + k_{3, 1} p_{1, 1} + k_{4, 1} - \\frac{p_{1, 1}^{3}}{6} + \\frac{p_{1, 1}^{2} p_{1, 2}}{6} - p_{3, 1}\\right)\\\\ \n",
       "\\omega_{4,2} &= i \\left(- k_{2, 1} p_{1, 1} p_{1, 2} + k_{3, 1} p_{1, 2} + k_{3, 2} p_{1, 1} + k_{4, 2} - \\frac{p_{1, 1}^{2} p_{1, 2}}{3} + \\frac{p_{1, 1} p_{1, 2}^{2}}{3} - p_{3, 1} - p_{3, 2}\\right)\\\\ \n",
       "\\omega_{4,3} &= i \\left(\\frac{k_{2, 1} p_{1, 2}^{2}}{2} - k_{3, 2} p_{1, 2} + k_{4, 3} + \\frac{p_{1, 1} p_{1, 2}^{2}}{6} - \\frac{p_{1, 2}^{3}}{6} + p_{3, 2}\\right)\\\\ \n",
       "\\omega_{5,1} &= \\frac{k_{2, 1} p_{1, 1}^{3}}{6} - \\frac{k_{3, 1} p_{1, 1}^{2}}{2} - k_{4, 1} p_{1, 1} + k_{5, 1} + \\frac{p_{1, 1}^{4}}{24} - \\frac{p_{1, 1}^{3} p_{1, 2}}{24} + \\frac{p_{1, 1} p_{3, 1}}{2}\\\\ \n",
       "\\omega_{5,2} &= \\frac{k_{2, 1} p_{1, 1}^{2} p_{1, 2}}{6} - k_{2, 1} p_{3, 1} - \\frac{k_{3, 1} p_{1, 1} p_{1, 2}}{2} - k_{4, 1} p_{1, 2} + k_{5, 2} + \\frac{p_{1, 1}^{3} p_{1, 2}}{24} - \\frac{p_{1, 1}^{2} p_{1, 2}^{2}}{24} - \\frac{p_{1, 1} p_{3, 1}}{2} + p_{1, 2} p_{3, 1}\\\\ \n",
       "\\omega_{5,3} &= - \\frac{k_{2, 1} p_{1, 1}^{2} p_{1, 2}}{3} - k_{2, 1} p_{3, 1} + \\frac{k_{3, 1} p_{1, 1} p_{1, 2}}{2} + \\frac{k_{3, 2} p_{1, 1}^{2}}{2} + k_{4, 2} p_{1, 1} + k_{5, 3} - \\frac{p_{1, 1}^{3} p_{1, 2}}{12} + \\frac{p_{1, 1}^{2} p_{1, 2}^{2}}{12} - p_{1, 1} p_{3, 1} - \\frac{p_{1, 1} p_{3, 2}}{2} + \\frac{p_{1, 2} p_{3, 1}}{2}\\\\ \n",
       "\\omega_{5,4} &= \\frac{k_{2, 1} p_{1, 1} p_{1, 2}^{2}}{3} - k_{2, 1} p_{3, 2} - \\frac{k_{3, 1} p_{1, 2}^{2}}{2} - \\frac{k_{3, 2} p_{1, 1} p_{1, 2}}{2} - k_{4, 2} p_{1, 2} + k_{5, 4} + \\frac{p_{1, 1}^{2} p_{1, 2}^{2}}{12} - \\frac{p_{1, 1} p_{1, 2}^{3}}{12} - \\frac{p_{1, 1} p_{3, 2}}{2} + \\frac{p_{1, 2} p_{3, 1}}{2} + p_{1, 2} p_{3, 2}\\\\ \n",
       "\\omega_{5,5} &= - \\frac{k_{2, 1} p_{1, 1} p_{1, 2}^{2}}{6} - k_{2, 1} p_{3, 2} + \\frac{k_{3, 2} p_{1, 1} p_{1, 2}}{2} - k_{4, 3} p_{1, 1} + k_{5, 5} - \\frac{p_{1, 1}^{2} p_{1, 2}^{2}}{24} + \\frac{p_{1, 1} p_{1, 2}^{3}}{24} - p_{1, 1} p_{3, 2} + \\frac{p_{1, 2} p_{3, 2}}{2}\\\\ \n",
       "\\omega_{5,6} &= - \\frac{k_{2, 1} p_{1, 2}^{3}}{6} + \\frac{k_{3, 2} p_{1, 2}^{2}}{2} - k_{4, 3} p_{1, 2} + k_{5, 6} - \\frac{p_{1, 1} p_{1, 2}^{3}}{24} + \\frac{p_{1, 2}^{4}}{24} - \\frac{p_{1, 2} p_{3, 2}}{2}\\\\ \n",
       "\\omega_{6,1} &= i \\left(\\frac{k_{2, 1} p_{1, 1}^{4}}{24} - \\frac{k_{3, 1} p_{1, 1}^{3}}{6} - \\frac{k_{4, 1} p_{1, 1}^{2}}{2} + k_{5, 1} p_{1, 1} + k_{6, 1} + \\frac{p_{1, 1}^{5}}{120} - \\frac{p_{1, 1}^{4} p_{1, 2}}{120} + \\frac{p_{1, 1}^{2} p_{3, 1}}{6} - p_{5, 1}\\right)\\\\ \n",
       "\\omega_{6,2} &= i \\left(- \\frac{k_{2, 1} p_{1, 1}^{3} p_{1, 2}}{24} - \\frac{k_{2, 1} p_{1, 1} p_{3, 1}}{2} + \\frac{k_{3, 2} p_{1, 1}^{3}}{6} - \\frac{k_{4, 1} p_{1, 1} p_{1, 2}}{2} + \\frac{k_{4, 2} p_{1, 1}^{2}}{2} + k_{5, 1} p_{1, 2} + k_{5, 3} p_{1, 1} + k_{6, 2} - \\frac{p_{1, 1}^{4} p_{1, 2}}{120} + \\frac{p_{1, 1}^{3} p_{1, 2}^{2}}{120} - \\frac{p_{1, 1}^{2} p_{3, 1}}{3} - \\frac{p_{1, 1}^{2} p_{3, 2}}{6} + \\frac{p_{1, 1} p_{1, 2} p_{3, 1}}{3} - p_{5, 1} - p_{5, 3}\\right)\\\\ \n",
       "\\omega_{6,3} &= i \\left(\\frac{5 k_{2, 1} p_{1, 1}^{3} p_{1, 2}}{24} + \\frac{k_{2, 1} p_{1, 1} p_{3, 1}}{2} - \\frac{k_{3, 1} p_{1, 1}^{2} p_{1, 2}}{2} - \\frac{k_{3, 2} p_{1, 1}^{3}}{3} - \\frac{k_{4, 1} p_{1, 1} p_{1, 2}}{2} - k_{4, 2} p_{1, 1}^{2} + k_{5, 2} p_{1, 1} - 2 k_{5, 3} p_{1, 1} + k_{6, 3} + \\frac{p_{1, 1}^{4} p_{1, 2}}{24} - \\frac{p_{1, 1}^{3} p_{1, 2}^{2}}{24} + \\frac{p_{1, 1}^{2} p_{3, 1}}{2} + \\frac{p_{1, 1}^{2} p_{3, 2}}{3} - p_{5, 2} + 2 p_{5, 3}\\right)\\\\ \n",
       "\\omega_{6,4} &= i \\left(\\frac{k_{2, 1} p_{1, 1}^{2} p_{1, 2}^{2}}{6} - k_{2, 1} p_{1, 1} p_{3, 2} + k_{2, 1} p_{1, 2} p_{3, 1} - \\frac{k_{3, 1} p_{1, 1} p_{1, 2}^{2}}{3} + k_{3, 1} p_{3, 2} - \\frac{k_{3, 2} p_{1, 1}^{2} p_{1, 2}}{3} - k_{3, 2} p_{3, 1} - k_{4, 2} p_{1, 1} p_{1, 2} - k_{5, 3} p_{1, 2} + k_{5, 4} p_{1, 1} + k_{6, 4} + \\frac{p_{1, 1}^{3} p_{1, 2}^{2}}{30} - \\frac{p_{1, 1}^{2} p_{1, 2}^{3}}{30} - \\frac{p_{1, 1}^{2} p_{3, 2}}{3} + \\frac{2 p_{1, 1} p_{1, 2} p_{3, 1}}{3} + \\frac{2 p_{1, 1} p_{1, 2} p_{3, 2}}{3} - \\frac{p_{1, 2}^{2} p_{3, 1}}{3} + p_{5, 3} - p_{5, 4}\\right)\\\\ \n",
       "\\omega_{6,5} &= i \\left(\\frac{5 k_{2, 1} p_{1, 1}^{2} p_{1, 2}^{2}}{72} + \\frac{k_{2, 1} p_{1, 1} p_{3, 2}}{6} - \\frac{k_{2, 1} p_{1, 2} p_{3, 1}}{2} - \\frac{2 k_{3, 1} p_{1, 1} p_{1, 2}^{2}}{9} - \\frac{k_{3, 1} p_{3, 2}}{3} - \\frac{k_{3, 2} p_{1, 1}^{2} p_{1, 2}}{18} + \\frac{k_{3, 2} p_{3, 1}}{3} - \\frac{k_{4, 1} p_{1, 2}^{2}}{2} - \\frac{k_{4, 2} p_{1, 1} p_{1, 2}}{6} + k_{5, 2} p_{1, 2} - \\frac{k_{5, 3} p_{1, 2}}{3} + k_{6, 5} + \\frac{p_{1, 1}^{3} p_{1, 2}^{2}}{72} - \\frac{p_{1, 1}^{2} p_{1, 2}^{3}}{72} + \\frac{p_{1, 1}^{2} p_{3, 2}}{18} - \\frac{p_{1, 1} p_{1, 2} p_{3, 1}}{9} + \\frac{p_{1, 2}^{2} p_{3, 1}}{3} - p_{5, 2} + \\frac{p_{5, 3}}{3}\\right)\\\\ \n",
       "\\omega_{6,6} &= i \\left(- \\frac{k_{2, 1} p_{1, 1}^{2} p_{1, 2}^{2}}{72} - \\frac{5 k_{2, 1} p_{1, 1} p_{3, 2}}{6} + \\frac{k_{2, 1} p_{1, 2} p_{3, 1}}{2} - \\frac{k_{3, 1} p_{1, 1} p_{1, 2}^{2}}{18} + \\frac{2 k_{3, 1} p_{3, 2}}{3} + \\frac{k_{3, 2} p_{1, 1}^{2} p_{1, 2}}{9} - \\frac{2 k_{3, 2} p_{3, 1}}{3} - \\frac{k_{4, 2} p_{1, 1} p_{1, 2}}{6} - \\frac{k_{4, 3} p_{1, 1}^{2}}{2} - \\frac{k_{5, 3} p_{1, 2}}{3} + k_{5, 5} p_{1, 1} + k_{6, 6} - \\frac{p_{1, 1}^{3} p_{1, 2}^{2}}{360} + \\frac{p_{1, 1}^{2} p_{1, 2}^{3}}{360} - \\frac{4 p_{1, 1}^{2} p_{3, 2}}{9} + \\frac{2 p_{1, 1} p_{1, 2} p_{3, 1}}{9} + \\frac{p_{1, 1} p_{1, 2} p_{3, 2}}{3} - \\frac{p_{1, 2}^{2} p_{3, 1}}{6} + \\frac{p_{5, 3}}{3} - p_{5, 5}\\right)\\\\ \n",
       "\\omega_{6,7} &= i \\left(- \\frac{5 k_{2, 1} p_{1, 1} p_{1, 2}^{3}}{24} + \\frac{k_{2, 1} p_{1, 2} p_{3, 2}}{2} + \\frac{k_{3, 1} p_{1, 2}^{3}}{3} + \\frac{k_{3, 2} p_{1, 1} p_{1, 2}^{2}}{2} + k_{4, 2} p_{1, 2}^{2} - \\frac{k_{4, 3} p_{1, 1} p_{1, 2}}{2} - 2 k_{5, 4} p_{1, 2} + k_{5, 5} p_{1, 2} + k_{6, 7} - \\frac{p_{1, 1}^{2} p_{1, 2}^{3}}{24} + \\frac{p_{1, 1} p_{1, 2}^{4}}{24} - \\frac{p_{1, 2}^{2} p_{3, 1}}{3} - \\frac{p_{1, 2}^{2} p_{3, 2}}{2} + 2 p_{5, 4} - p_{5, 5}\\right)\\\\ \n",
       "\\omega_{6,8} &= i \\left(\\frac{k_{2, 1} p_{1, 1} p_{1, 2}^{3}}{24} - \\frac{k_{2, 1} p_{1, 2} p_{3, 2}}{2} - \\frac{k_{3, 1} p_{1, 2}^{3}}{6} - \\frac{k_{4, 2} p_{1, 2}^{2}}{2} - \\frac{k_{4, 3} p_{1, 1} p_{1, 2}}{2} + k_{5, 4} p_{1, 2} + k_{5, 6} p_{1, 1} + k_{6, 8} + \\frac{p_{1, 1}^{2} p_{1, 2}^{3}}{120} - \\frac{p_{1, 1} p_{1, 2}^{4}}{120} - \\frac{p_{1, 1} p_{1, 2} p_{3, 2}}{3} + \\frac{p_{1, 2}^{2} p_{3, 1}}{6} + \\frac{p_{1, 2}^{2} p_{3, 2}}{3} - p_{5, 4} - p_{5, 6}\\right)\\\\ \n",
       "\\omega_{6,9} &= i \\left(- \\frac{k_{2, 1} p_{1, 2}^{4}}{24} + \\frac{k_{3, 2} p_{1, 2}^{3}}{6} - \\frac{k_{4, 3} p_{1, 2}^{2}}{2} + k_{5, 6} p_{1, 2} + k_{6, 9} - \\frac{p_{1, 1} p_{1, 2}^{4}}{120} + \\frac{p_{1, 2}^{5}}{120} - \\frac{p_{1, 2}^{2} p_{3, 2}}{6} - p_{5, 6}\\right)\\\\ \n",
       "\\end{align}\n",
       "$$"
      ],
      "text/plain": [
       "<IPython.core.display.Latex object>"
      ]
     },
     "metadata": {},
     "output_type": "display_data"
    }
   ],
   "source": [
    "P=I*p[1,1]*Eel(1, 1, base)\n",
    "K=Eel(1, 1, base)\n",
    "if base == \"E\":\n",
    "    K += Eel(1, 2, base)\n",
    "    P += I*p[1,2]*Eel(1, 2, base)\n",
    "for i in range(1, ord_bch):\n",
    "    for j in range(tams[i]):\n",
    "        if i % 2 != 0: # parells\n",
    "            #P += p[i + 1, j + 1]*Eel(i + 1, j + 1, base)\n",
    "            K += I*k[i + 1, j + 1]*Eel(i + 1, j + 1, base)\n",
    "        if i % 2 == 0: # senars\n",
    "            K += k[i + 1, j + 1]*Eel(i + 1, j + 1, base)\n",
    "            P += I*p[i + 1, j + 1]*Eel(i + 1, j + 1, base)\n",
    "C = K\n",
    "esq = K\n",
    "fact = 1\n",
    "print(\"Desenvolupament del nucli\")\n",
    "display(Latex(\"$$\\n K=\" + sp.latex(K) + \"\\n$$\"))\n",
    "print(\"Desenvolupament del processat\")\n",
    "display(Latex(\"$$\\n P=\" + sp.latex(P) + \"\\n$$\"))\n",
    "for i in range(1, ord_bch + 1):\n",
    "    fact = fact * i\n",
    "    C = Corxet(P, C)\n",
    "    esq += C/fact\n",
    "metA = Metode(ord_bch, base)\n",
    "metA.importFromExpr(esq)\n",
    "metA.collectI()\n",
    "print(\"Condicions d'ordre del mètode complet\")\n",
    "display(Latex(\"$$\\n\" + sp.latex(metA) + \"\\n$$\"))"
   ]
  },
  {
   "cell_type": "code",
   "execution_count": 5,
   "metadata": {},
   "outputs": [
    {
     "name": "stdout",
     "output_type": "stream",
     "text": [
      "Desenvolupament del nucli\n"
     ]
    },
    {
     "data": {
      "text/latex": [
       "$$\n",
       " K=i k_{2, 1} E_{2,1} + k_{3, 1} E_{3,1} + k_{3, 2} E_{3,2} + i k_{4, 1} E_{4,1} + i k_{4, 2} E_{4,2} + i k_{4, 3} E_{4,3} + k_{5, 1} E_{5,1} + k_{5, 2} E_{5,2} + k_{5, 3} E_{5,3} + k_{5, 4} E_{5,4} + k_{5, 5} E_{5,5} + k_{5, 6} E_{5,6} + i k_{6, 1} E_{6,1} + i k_{6, 2} E_{6,2} + i k_{6, 3} E_{6,3} + i k_{6, 4} E_{6,4} + i k_{6, 5} E_{6,5} + i k_{6, 6} E_{6,6} + i k_{6, 7} E_{6,7} + i k_{6, 8} E_{6,8} + i k_{6, 9} E_{6,9} + E_{1,1} + E_{1,2}\n",
       "$$"
      ],
      "text/plain": [
       "<IPython.core.display.Latex object>"
      ]
     },
     "metadata": {},
     "output_type": "display_data"
    },
    {
     "name": "stdout",
     "output_type": "stream",
     "text": [
      "Desenvolupament del processat\n"
     ]
    },
    {
     "data": {
      "text/latex": [
       "$$\n",
       " P=i \\left(k_{2, 1} + p_{1, 1}\\right) E_{1,2} + i \\left(- \\frac{k_{2, 1} p_{1, 1}^{2}}{3} + k_{3, 1} p_{1, 1} + k_{4, 1}\\right) E_{3,1} + i \\left(- \\frac{2 k_{2, 1}^{2} p_{1, 1}}{3} + k_{2, 1} k_{3, 1} - \\frac{k_{2, 1} p_{1, 1}^{2}}{3} + k_{3, 2} p_{1, 1} - k_{4, 1} + k_{4, 2}\\right) E_{3,2} + i p_{1, 1} E_{1,1} + i p_{5, 1} E_{5,1} + i p_{5, 2} E_{5,2} + i p_{5, 3} E_{5,3} + i p_{5, 4} E_{5,4} + i p_{5, 5} E_{5,5} + i p_{5, 6} E_{5,6}\n",
       "$$"
      ],
      "text/plain": [
       "<IPython.core.display.Latex object>"
      ]
     },
     "metadata": {},
     "output_type": "display_data"
    },
    {
     "name": "stdout",
     "output_type": "stream",
     "text": [
      "Condicions d'ordre del mètode complet\n"
     ]
    },
    {
     "data": {
      "text/latex": [
       "$$\n",
       "\\begin{align}\n",
       "\\omega_{1,1} &= 1\\\\ \n",
       "\\omega_{1,2} &= 1\\\\ \n",
       "\\omega_{2,1} &= 0\\\\ \n",
       "\\omega_{3,1} &= - \\frac{k_{2, 1} p_{1, 1}}{2} + k_{3, 1}\\\\ \n",
       "\\omega_{3,2} &= - \\frac{k_{2, 1}^{2}}{2} - \\frac{k_{2, 1} p_{1, 1}}{2} + k_{3, 2}\\\\ \n",
       "\\omega_{4,1} &= 0\\\\ \n",
       "\\omega_{4,2} &= 0\\\\ \n",
       "\\omega_{4,3} &= i \\left(\\frac{k_{2, 1}^{3}}{3} + k_{2, 1} k_{3, 1} - k_{2, 1} k_{3, 2} - k_{4, 1} + k_{4, 2} + k_{4, 3}\\right)\\\\ \n",
       "\\omega_{5,1} &= - \\frac{k_{2, 1} p_{1, 1}^{3}}{24} - \\frac{k_{4, 1} p_{1, 1}}{2} + k_{5, 1}\\\\ \n",
       "\\omega_{5,2} &= \\frac{k_{2, 1}^{2} p_{1, 1}^{2}}{8} - \\frac{k_{2, 1} k_{3, 1} p_{1, 1}}{2} - k_{2, 1} k_{4, 1} - \\frac{k_{2, 1} p_{1, 1}^{3}}{24} - \\frac{k_{4, 1} p_{1, 1}}{2} + k_{5, 2}\\\\ \n",
       "\\omega_{5,3} &= \\frac{k_{2, 1}^{2} p_{1, 1}^{2}}{4} - \\frac{k_{2, 1} k_{3, 1} p_{1, 1}}{2} - \\frac{k_{2, 1} k_{4, 1}}{2} + \\frac{k_{2, 1} p_{1, 1}^{3}}{12} + \\frac{k_{4, 2} p_{1, 1}}{2} + k_{5, 3}\\\\ \n",
       "\\omega_{5,4} &= \\frac{k_{2, 1}^{3} p_{1, 1}}{4} - \\frac{k_{2, 1}^{2} k_{3, 1}}{2} - \\frac{k_{2, 1} k_{3, 2} p_{1, 1}}{2} + \\frac{k_{2, 1} k_{4, 1}}{2} - k_{2, 1} k_{4, 2} - \\frac{k_{2, 1} p_{1, 1}^{3}}{12} - \\frac{k_{4, 2} p_{1, 1}}{2} + k_{5, 4}\\\\ \n",
       "\\omega_{5,5} &= \\frac{5 k_{2, 1}^{3} p_{1, 1}}{24} - \\frac{k_{2, 1}^{2} k_{3, 1}}{2} + \\frac{k_{2, 1}^{2} p_{1, 1}^{2}}{4} - \\frac{k_{2, 1} k_{3, 1} p_{1, 1}}{2} + \\frac{k_{2, 1} k_{4, 1}}{2} - \\frac{k_{2, 1} k_{4, 2}}{2} + \\frac{k_{2, 1} p_{1, 1}^{3}}{24} + \\frac{k_{4, 1} p_{1, 1}}{2} - \\frac{k_{4, 2} p_{1, 1}}{2} - k_{4, 3} p_{1, 1} + k_{5, 5}\\\\ \n",
       "\\omega_{5,6} &= - \\frac{k_{2, 1}^{4}}{8} - \\frac{k_{2, 1}^{3} p_{1, 1}}{24} - \\frac{k_{2, 1}^{2} k_{3, 1}}{2} + \\frac{k_{2, 1}^{2} k_{3, 2}}{2} + \\frac{k_{2, 1}^{2} p_{1, 1}^{2}}{8} - \\frac{k_{2, 1} k_{3, 1} p_{1, 1}}{2} + \\frac{k_{2, 1} k_{3, 2} p_{1, 1}}{2} + \\frac{k_{2, 1} k_{4, 1}}{2} - \\frac{k_{2, 1} k_{4, 2}}{2} - k_{2, 1} k_{4, 3} + \\frac{k_{2, 1} p_{1, 1}^{3}}{24} + \\frac{k_{4, 1} p_{1, 1}}{2} - \\frac{k_{4, 2} p_{1, 1}}{2} - k_{4, 3} p_{1, 1} + k_{5, 6}\\\\ \n",
       "\\omega_{6,1} &= i \\left(- \\frac{k_{2, 1} p_{1, 1}^{4}}{45} - \\frac{k_{4, 1} p_{1, 1}^{2}}{3} + k_{5, 1} p_{1, 1} + k_{6, 1} - p_{5, 1}\\right)\\\\ \n",
       "\\omega_{6,2} &= i \\left(\\frac{2 k_{2, 1}^{2} p_{1, 1}^{3}}{15} - \\frac{k_{2, 1} k_{3, 1} p_{1, 1}^{2}}{3} - \\frac{2 k_{2, 1} k_{4, 1} p_{1, 1}}{3} + k_{2, 1} k_{5, 1} + \\frac{k_{2, 1} p_{1, 1}^{4}}{45} - \\frac{k_{4, 1} p_{1, 1}^{2}}{3} + \\frac{k_{4, 2} p_{1, 1}^{2}}{3} + k_{5, 1} p_{1, 1} + k_{5, 3} p_{1, 1} + k_{6, 2} - p_{5, 1} - p_{5, 3}\\right)\\\\ \n",
       "\\omega_{6,3} &= i \\left(- \\frac{2 k_{2, 1}^{2} p_{1, 1}^{3}}{9} + \\frac{k_{2, 1} k_{3, 1} p_{1, 1}^{2}}{3} - \\frac{k_{2, 1} p_{1, 1}^{4}}{9} - \\frac{k_{4, 1} p_{1, 1}^{2}}{3} - \\frac{2 k_{4, 2} p_{1, 1}^{2}}{3} + k_{5, 2} p_{1, 1} - 2 k_{5, 3} p_{1, 1} + k_{6, 3} - p_{5, 2} + 2 p_{5, 3}\\right)\\\\ \n",
       "\\omega_{6,4} &= i \\left(\\frac{2 k_{2, 1}^{3} p_{1, 1}^{2}}{15} - \\frac{2 k_{2, 1}^{2} k_{3, 1} p_{1, 1}}{3} + \\frac{2 k_{2, 1}^{2} k_{4, 1}}{3} - \\frac{8 k_{2, 1}^{2} p_{1, 1}^{3}}{45} + k_{2, 1} k_{3, 1}^{2} + \\frac{k_{2, 1} k_{3, 1} p_{1, 1}^{2}}{3} - \\frac{k_{2, 1} k_{3, 2} p_{1, 1}^{2}}{3} + \\frac{4 k_{2, 1} k_{4, 1} p_{1, 1}}{3} - \\frac{4 k_{2, 1} k_{4, 2} p_{1, 1}}{3} - k_{2, 1} k_{5, 3} - \\frac{4 k_{2, 1} p_{1, 1}^{4}}{45} - k_{3, 1} k_{4, 1} + k_{3, 1} k_{4, 2} - k_{3, 2} k_{4, 1} - \\frac{2 k_{4, 2} p_{1, 1}^{2}}{3} - k_{5, 3} p_{1, 1} + k_{5, 4} p_{1, 1} + k_{6, 4} + p_{5, 3} - p_{5, 4}\\right)\\\\ \n",
       "\\omega_{6,5} &= i \\left(- \\frac{2 k_{2, 1}^{2} k_{4, 1}}{3} - \\frac{k_{2, 1} k_{3, 1}^{2}}{3} - \\frac{2 k_{2, 1} k_{3, 1} p_{1, 1}^{2}}{9} - \\frac{10 k_{2, 1} k_{4, 1} p_{1, 1}}{9} + k_{2, 1} k_{5, 2} - \\frac{k_{2, 1} k_{5, 3}}{3} - \\frac{k_{2, 1} p_{1, 1}^{4}}{27} + \\frac{k_{3, 1} k_{4, 1}}{3} - \\frac{k_{3, 1} k_{4, 2}}{3} + \\frac{k_{3, 2} k_{4, 1}}{3} - \\frac{k_{4, 1} p_{1, 1}^{2}}{3} - \\frac{k_{4, 2} p_{1, 1}^{2}}{9} + k_{5, 2} p_{1, 1} - \\frac{k_{5, 3} p_{1, 1}}{3} + k_{6, 5} - p_{5, 2} + \\frac{p_{5, 3}}{3}\\right)\\\\ \n",
       "\\omega_{6,6} &= i \\left(\\frac{19 k_{2, 1}^{3} p_{1, 1}^{2}}{90} - \\frac{2 k_{2, 1}^{2} k_{3, 1} p_{1, 1}}{3} + \\frac{k_{2, 1}^{2} k_{4, 1}}{3} + \\frac{4 k_{2, 1}^{2} p_{1, 1}^{3}}{45} + \\frac{2 k_{2, 1} k_{3, 1}^{2}}{3} - \\frac{k_{2, 1} k_{3, 1} p_{1, 1}^{2}}{18} - \\frac{k_{2, 1} k_{3, 2} p_{1, 1}^{2}}{6} + \\frac{8 k_{2, 1} k_{4, 1} p_{1, 1}}{9} - \\frac{2 k_{2, 1} k_{4, 2} p_{1, 1}}{3} - \\frac{k_{2, 1} k_{5, 3}}{3} + \\frac{k_{2, 1} p_{1, 1}^{4}}{135} - \\frac{2 k_{3, 1} k_{4, 1}}{3} + \\frac{2 k_{3, 1} k_{4, 2}}{3} - \\frac{2 k_{3, 2} k_{4, 1}}{3} + \\frac{k_{4, 1} p_{1, 1}^{2}}{6} - \\frac{5 k_{4, 2} p_{1, 1}^{2}}{18} - \\frac{k_{4, 3} p_{1, 1}^{2}}{2} - \\frac{k_{5, 3} p_{1, 1}}{3} + k_{5, 5} p_{1, 1} + k_{6, 6} + \\frac{p_{5, 3}}{3} - p_{5, 5}\\right)\\\\ \n",
       "\\omega_{6,7} &= i \\left(- \\frac{k_{2, 1}^{4} p_{1, 1}}{6} + \\frac{k_{2, 1}^{3} k_{3, 1}}{3} - \\frac{k_{2, 1}^{3} p_{1, 1}^{2}}{18} + \\frac{k_{2, 1}^{2} k_{3, 1} p_{1, 1}}{6} + \\frac{k_{2, 1}^{2} k_{3, 2} p_{1, 1}}{2} - \\frac{k_{2, 1}^{2} k_{4, 1}}{3} + k_{2, 1}^{2} k_{4, 2} + \\frac{2 k_{2, 1}^{2} p_{1, 1}^{3}}{9} - \\frac{k_{2, 1} k_{3, 1} p_{1, 1}^{2}}{6} + \\frac{k_{2, 1} k_{3, 2} p_{1, 1}^{2}}{2} - \\frac{k_{2, 1} k_{4, 1} p_{1, 1}}{6} + \\frac{3 k_{2, 1} k_{4, 2} p_{1, 1}}{2} - \\frac{k_{2, 1} k_{4, 3} p_{1, 1}}{2} - 2 k_{2, 1} k_{5, 4} + k_{2, 1} k_{5, 5} + \\frac{k_{2, 1} p_{1, 1}^{4}}{9} + \\frac{k_{4, 1} p_{1, 1}^{2}}{6} + \\frac{k_{4, 2} p_{1, 1}^{2}}{2} - \\frac{k_{4, 3} p_{1, 1}^{2}}{2} - 2 k_{5, 4} p_{1, 1} + k_{5, 5} p_{1, 1} + k_{6, 7} + 2 p_{5, 4} - p_{5, 5}\\right)\\\\ \n",
       "\\omega_{6,8} &= i \\left(\\frac{13 k_{2, 1}^{4} p_{1, 1}}{90} - \\frac{k_{2, 1}^{3} k_{3, 1}}{3} + \\frac{19 k_{2, 1}^{3} p_{1, 1}^{2}}{90} - \\frac{k_{2, 1}^{2} k_{3, 1} p_{1, 1}}{2} - \\frac{k_{2, 1}^{2} k_{3, 2} p_{1, 1}}{6} + \\frac{k_{2, 1}^{2} k_{4, 1}}{3} - \\frac{2 k_{2, 1}^{2} k_{4, 2}}{3} + \\frac{2 k_{2, 1}^{2} p_{1, 1}^{3}}{45} - \\frac{k_{2, 1} k_{3, 1} p_{1, 1}^{2}}{6} - \\frac{k_{2, 1} k_{3, 2} p_{1, 1}^{2}}{6} + \\frac{k_{2, 1} k_{4, 1} p_{1, 1}}{2} - \\frac{7 k_{2, 1} k_{4, 2} p_{1, 1}}{6} - \\frac{k_{2, 1} k_{4, 3} p_{1, 1}}{2} + k_{2, 1} k_{5, 4} - \\frac{k_{2, 1} p_{1, 1}^{4}}{45} + \\frac{k_{4, 1} p_{1, 1}^{2}}{6} - \\frac{k_{4, 2} p_{1, 1}^{2}}{2} - \\frac{k_{4, 3} p_{1, 1}^{2}}{2} + k_{5, 4} p_{1, 1} + k_{5, 6} p_{1, 1} + k_{6, 8} - p_{5, 4} - p_{5, 6}\\right)\\\\ \n",
       "\\omega_{6,9} &= i \\left(- \\frac{k_{2, 1}^{5}}{30} - \\frac{k_{2, 1}^{4} p_{1, 1}}{45} - \\frac{k_{2, 1}^{3} k_{3, 1}}{6} + \\frac{k_{2, 1}^{3} k_{3, 2}}{6} + \\frac{7 k_{2, 1}^{3} p_{1, 1}^{2}}{90} - \\frac{k_{2, 1}^{2} k_{3, 1} p_{1, 1}}{3} + \\frac{k_{2, 1}^{2} k_{3, 2} p_{1, 1}}{3} + \\frac{k_{2, 1}^{2} k_{4, 1}}{6} - \\frac{k_{2, 1}^{2} k_{4, 2}}{6} - \\frac{k_{2, 1}^{2} k_{4, 3}}{2} + \\frac{4 k_{2, 1}^{2} p_{1, 1}^{3}}{45} - \\frac{k_{2, 1} k_{3, 1} p_{1, 1}^{2}}{6} + \\frac{k_{2, 1} k_{3, 2} p_{1, 1}^{2}}{6} + \\frac{k_{2, 1} k_{4, 1} p_{1, 1}}{3} - \\frac{k_{2, 1} k_{4, 2} p_{1, 1}}{3} - k_{2, 1} k_{4, 3} p_{1, 1} + k_{2, 1} k_{5, 6} + \\frac{k_{2, 1} p_{1, 1}^{4}}{45} + \\frac{k_{4, 1} p_{1, 1}^{2}}{6} - \\frac{k_{4, 2} p_{1, 1}^{2}}{6} - \\frac{k_{4, 3} p_{1, 1}^{2}}{2} + k_{5, 6} p_{1, 1} + k_{6, 9} - p_{5, 6}\\right)\\\\ \n",
       "\\end{align}\n",
       "$$"
      ],
      "text/plain": [
       "<IPython.core.display.Latex object>"
      ]
     },
     "metadata": {},
     "output_type": "display_data"
    }
   ],
   "source": [
    "P=I*p[1,1]*Eel(1, 1, base)\n",
    "K=Eel(1, 1, base)\n",
    "if base == \"E\":\n",
    "    K += Eel(1, 2, base)\n",
    "    P += I*p[1,2]*Eel(1, 2, base)\n",
    "for i in range(1, ord_bch):\n",
    "    for j in range(tams[i]):\n",
    "        if i % 2 != 0: # parells\n",
    "            #P += p[i + 1, j + 1]*Eel(i + 1, j + 1, base)\n",
    "            K += I*k[i + 1, j + 1]*Eel(i + 1, j + 1, base)\n",
    "        if i % 2 == 0: # senars\n",
    "            K += k[i + 1, j + 1]*Eel(i + 1, j + 1, base)\n",
    "            P += I*p[i + 1, j + 1]*Eel(i + 1, j + 1, base)\n",
    "P += -I*p[1,2]*Eel(1, 2, base) + I*(k[2, 1] + p[1, 1])*Eel(1, 2, base)\n",
    "P += -I*p[3,1]*Eel(3, 1, base) + I*(-k[2, 1]*p[1, 1]**2/3 + k[3, 1]*p[1, 1] + k[4, 1])*Eel(3, 1, base)\n",
    "P += -I*p[3,2]*Eel(3, 2, base) + I*(-2*k[2, 1]**2*p[1, 1]/3 + k[2, 1]*k[3, 1] - k[2, 1]*p[1, 1]**2/3 + k[3, 2]*p[1, 1] - k[4, 1] + k[4, 2])*Eel(3, 2, base)\n",
    "C = K\n",
    "esq = K\n",
    "fact = 1\n",
    "print(\"Desenvolupament del nucli\")\n",
    "display(Latex(\"$$\\n K=\" + sp.latex(K) + \"\\n$$\"))\n",
    "print(\"Desenvolupament del processat\")\n",
    "display(Latex(\"$$\\n P=\" + sp.latex(P) + \"\\n$$\"))\n",
    "for i in range(1, ord_bch + 1):\n",
    "    fact = fact * i\n",
    "    C = Corxet(P, C)\n",
    "    esq += C/fact\n",
    "metB = Metode(ord_bch, base)\n",
    "metB.importFromExpr(esq)\n",
    "metB.collectI()\n",
    "print(\"Condicions d'ordre del mètode complet\")\n",
    "display(Latex(\"$$\\n\" + sp.latex(metB) + \"\\n$$\"))"
   ]
  }
 ],
 "metadata": {
  "kernelspec": {
   "display_name": "Python 3",
   "language": "python",
   "name": "python3"
  },
  "language_info": {
   "codemirror_mode": {
    "name": "ipython",
    "version": 3
   },
   "file_extension": ".py",
   "mimetype": "text/x-python",
   "name": "python",
   "nbconvert_exporter": "python",
   "pygments_lexer": "ipython3",
   "version": "3.7.3"
  }
 },
 "nbformat": 4,
 "nbformat_minor": 4
}
