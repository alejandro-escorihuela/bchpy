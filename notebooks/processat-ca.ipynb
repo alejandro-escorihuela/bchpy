{
 "cells": [
  {
   "cell_type": "markdown",
   "metadata": {
    "jupyter": {
     "outputs_hidden": false
    }
   },
   "source": [
    "Importem llibreries"
   ]
  },
  {
   "cell_type": "code",
   "execution_count": 1,
   "metadata": {
    "jupyter": {
     "outputs_hidden": false
    }
   },
   "outputs": [],
   "source": [
    "import numpy as np\n",
    "import sympy as sp\n",
    "from IPython.display import display, Markdown, Latex\n",
    "import sys\n",
    "sys.path.insert(0, '../')\n",
    "from bchpy import *\n",
    "import relations as rl"
   ]
  },
  {
   "cell_type": "markdown",
   "metadata": {},
   "source": [
    "Configurem la base i l'ordre del mètode"
   ]
  },
  {
   "cell_type": "code",
   "execution_count": 2,
   "metadata": {},
   "outputs": [],
   "source": [
    "ord_bch = 4\n",
    "base = \"E\""
   ]
  },
  {
   "cell_type": "markdown",
   "metadata": {},
   "source": [
    "Definim simbòlicament els factors $k_{i,j}$ i $p_{i,j}$ i els desenvolupaments de $K$ i $P$:\n",
    "$$\n",
    "K=\\sum_i \\sum_j k_{i,j}Z_{ij}\n",
    "$$\n",
    "$$\n",
    "P=\\sum_i \\sum_j p_{i,j}Z_{ij}\n",
    "$$"
   ]
  },
  {
   "cell_type": "code",
   "execution_count": 3,
   "metadata": {},
   "outputs": [],
   "source": [
    "tams = rl.tamZ\n",
    "if base == \"E\":\n",
    "    tams = rl.tamE\n",
    "P=sp.S(0)\n",
    "K=sp.S(0)\n",
    "p = sp.MatrixSymbol(\"p\", ord_bch + 1, tams[ord_bch - 1] + 1)\n",
    "k = sp.MatrixSymbol(\"k\", ord_bch + 1, tams[ord_bch - 1] + 1)\n",
    "for i in range(ord_bch):\n",
    "    for j in range(tams[i]):\n",
    "        P += p[i + 1, j + 1]*Eel(i + 1, j + 1, base)\n",
    "        K += k[i + 1, j + 1]*Eel(i + 1, j + 1, base)"
   ]
  },
  {
   "cell_type": "markdown",
   "metadata": {},
   "source": [
    "Calculem $W$, utilitzant:\n",
    "$$\n",
    "W = e^{\\#P\\#}K=K+[P,K]+\\frac{1}{2!}[P,P,K]+\\frac{1}{3!}[P,P,P,K]+\\cdots\n",
    "$$"
   ]
  },
  {
   "cell_type": "code",
   "execution_count": 4,
   "metadata": {},
   "outputs": [],
   "source": [
    "C = K\n",
    "esq = K\n",
    "fact = 1\n",
    "for i in range(1, ord_bch + 1):\n",
    "    fact = fact * i\n",
    "    C = Claudator(P, C)\n",
    "    esq += C/fact"
   ]
  },
  {
   "cell_type": "markdown",
   "metadata": {},
   "source": [
    "Càlcul general de les formules recursives"
   ]
  },
  {
   "cell_type": "code",
   "execution_count": 5,
   "metadata": {},
   "outputs": [
    {
     "data": {
      "text/latex": [
       "$$\n",
       "\\begin{align}\n",
       "\\omega_{1,1} &= k_{1, 1}\\\\ \n",
       "\\omega_{1,2} &= k_{1, 2}\\\\ \n",
       "\\omega_{2,1} &= - k_{1, 1} p_{1, 2} + k_{1, 2} p_{1, 1} + k_{2, 1}\\\\ \n",
       "\\omega_{3,1} &= - \\frac{k_{1, 1} p_{1, 1} p_{1, 2}}{2} - k_{1, 1} p_{2, 1} + \\frac{k_{1, 2} p_{1, 1}^{2}}{2} + k_{2, 1} p_{1, 1} + k_{3, 1}\\\\ \n",
       "\\omega_{3,2} &= - \\frac{k_{1, 1} p_{1, 2}^{2}}{2} + \\frac{k_{1, 2} p_{1, 1} p_{1, 2}}{2} - k_{1, 2} p_{2, 1} + k_{2, 1} p_{1, 2} + k_{3, 2}\\\\ \n",
       "\\omega_{4,1} &= - \\frac{k_{1, 1} p_{1, 1}^{2} p_{1, 2}}{6} - \\frac{k_{1, 1} p_{1, 1} p_{2, 1}}{2} - k_{1, 1} p_{3, 1} + \\frac{k_{1, 2} p_{1, 1}^{3}}{6} + \\frac{k_{2, 1} p_{1, 1}^{2}}{2} + k_{3, 1} p_{1, 1} + k_{4, 1}\\\\ \n",
       "\\omega_{4,2} &= - \\frac{k_{1, 1} p_{1, 1} p_{1, 2}^{2}}{3} - \\frac{k_{1, 1} p_{1, 2} p_{2, 1}}{2} - k_{1, 1} p_{3, 2} + \\frac{k_{1, 2} p_{1, 1}^{2} p_{1, 2}}{3} - \\frac{k_{1, 2} p_{1, 1} p_{2, 1}}{2} - k_{1, 2} p_{3, 1} + k_{2, 1} p_{1, 1} p_{1, 2} + k_{3, 1} p_{1, 2} + k_{3, 2} p_{1, 1} + k_{4, 2}\\\\ \n",
       "\\omega_{4,3} &= \\frac{k_{1, 1} p_{1, 2}^{3}}{6} - \\frac{k_{1, 2} p_{1, 1} p_{1, 2}^{2}}{6} + \\frac{k_{1, 2} p_{1, 2} p_{2, 1}}{2} + k_{1, 2} p_{3, 2} - \\frac{k_{2, 1} p_{1, 2}^{2}}{2} - k_{3, 2} p_{1, 2} + k_{4, 3}\\\\ \n",
       "\\end{align}\n",
       "$$"
      ],
      "text/plain": [
       "<IPython.core.display.Latex object>"
      ]
     },
     "metadata": {},
     "output_type": "display_data"
    }
   ],
   "source": [
    "metPr2 = Metode(ord_bch, base)\n",
    "metPr2.importFromExpr(esq)\n",
    "display(Latex(\"$$\\n\" + sp.latex(metPr2) + \"\\n$$\"))"
   ]
  },
  {
   "cell_type": "markdown",
   "metadata": {},
   "source": [
    "Càlcul suposant que el nucli compleix la condició de concistència"
   ]
  },
  {
   "cell_type": "code",
   "execution_count": 6,
   "metadata": {},
   "outputs": [
    {
     "data": {
      "text/latex": [
       "$$\n",
       "\\begin{align}\n",
       "\\omega_{1,1} &= 1\\\\ \n",
       "\\omega_{1,2} &= 1\\\\ \n",
       "\\omega_{2,1} &= k_{2, 1} + p_{1, 1} - p_{1, 2}\\\\ \n",
       "\\omega_{3,1} &= k_{2, 1} p_{1, 1} + k_{3, 1} + \\frac{p_{1, 1}^{2}}{2} - \\frac{p_{1, 1} p_{1, 2}}{2} - p_{2, 1}\\\\ \n",
       "\\omega_{3,2} &= k_{2, 1} p_{1, 2} + k_{3, 2} + \\frac{p_{1, 1} p_{1, 2}}{2} - \\frac{p_{1, 2}^{2}}{2} - p_{2, 1}\\\\ \n",
       "\\omega_{4,1} &= \\frac{k_{2, 1} p_{1, 1}^{2}}{2} + k_{3, 1} p_{1, 1} + k_{4, 1} + \\frac{p_{1, 1}^{3}}{6} - \\frac{p_{1, 1}^{2} p_{1, 2}}{6} - \\frac{p_{1, 1} p_{2, 1}}{2} - p_{3, 1}\\\\ \n",
       "\\omega_{4,2} &= k_{2, 1} p_{1, 1} p_{1, 2} + k_{3, 1} p_{1, 2} + k_{3, 2} p_{1, 1} + k_{4, 2} + \\frac{p_{1, 1}^{2} p_{1, 2}}{3} - \\frac{p_{1, 1} p_{1, 2}^{2}}{3} - \\frac{p_{1, 1} p_{2, 1}}{2} - \\frac{p_{1, 2} p_{2, 1}}{2} - p_{3, 1} - p_{3, 2}\\\\ \n",
       "\\omega_{4,3} &= - \\frac{k_{2, 1} p_{1, 2}^{2}}{2} - k_{3, 2} p_{1, 2} + k_{4, 3} - \\frac{p_{1, 1} p_{1, 2}^{2}}{6} + \\frac{p_{1, 2}^{3}}{6} + \\frac{p_{1, 2} p_{2, 1}}{2} + p_{3, 2}\\\\ \n",
       "\\end{align}\n",
       "$$"
      ],
      "text/plain": [
       "<IPython.core.display.Latex object>"
      ]
     },
     "metadata": {},
     "output_type": "display_data"
    }
   ],
   "source": [
    "P=p[1, 1]*Eel(1, 1, base)\n",
    "K=Eel(1, 1, base)\n",
    "if base == \"E\":\n",
    "    P += p[1, 2]*Eel(1, 2, base)\n",
    "    K += Eel(1, 2, base)\n",
    "for i in range(1, ord_bch):\n",
    "    for j in range(tams[i]):\n",
    "        P += p[i + 1, j + 1]*Eel(i + 1, j + 1, base)\n",
    "        K += k[i + 1, j + 1]*Eel(i + 1, j + 1, base)\n",
    "C = K\n",
    "esq = K\n",
    "fact = 1\n",
    "for i in range(1, ord_bch + 1):\n",
    "    fact = fact * i\n",
    "    C = Claudator(P, C)\n",
    "    esq += C/fact\n",
    "metPr3 = Metode(ord_bch, base)\n",
    "metPr3.importFromExpr(esq)\n",
    "display(Latex(\"$$\\n\" + sp.latex(metPr3) + \"\\n$$\"))"
   ]
  },
  {
   "cell_type": "markdown",
   "metadata": {},
   "source": [
    "Càlcul sabent que el nucli ha de ser simètric"
   ]
  },
  {
   "cell_type": "code",
   "execution_count": 7,
   "metadata": {},
   "outputs": [
    {
     "data": {
      "text/latex": [
       "$$\n",
       "\\begin{align}\n",
       "\\omega_{1,1} &= 1\\\\ \n",
       "\\omega_{1,2} &= 1\\\\ \n",
       "\\omega_{2,1} &= p_{1, 1} - p_{1, 2}\\\\ \n",
       "\\omega_{3,1} &= k_{3, 1} + \\frac{p_{1, 1}^{2}}{2} - \\frac{p_{1, 1} p_{1, 2}}{2} - p_{2, 1}\\\\ \n",
       "\\omega_{3,2} &= k_{3, 2} + \\frac{p_{1, 1} p_{1, 2}}{2} - \\frac{p_{1, 2}^{2}}{2} - p_{2, 1}\\\\ \n",
       "\\omega_{4,1} &= k_{3, 1} p_{1, 1} + \\frac{p_{1, 1}^{3}}{6} - \\frac{p_{1, 1}^{2} p_{1, 2}}{6} - \\frac{p_{1, 1} p_{2, 1}}{2} - p_{3, 1}\\\\ \n",
       "\\omega_{4,2} &= k_{3, 1} p_{1, 2} + k_{3, 2} p_{1, 1} + \\frac{p_{1, 1}^{2} p_{1, 2}}{3} - \\frac{p_{1, 1} p_{1, 2}^{2}}{3} - \\frac{p_{1, 1} p_{2, 1}}{2} - \\frac{p_{1, 2} p_{2, 1}}{2} - p_{3, 1} - p_{3, 2}\\\\ \n",
       "\\omega_{4,3} &= - k_{3, 2} p_{1, 2} - \\frac{p_{1, 1} p_{1, 2}^{2}}{6} + \\frac{p_{1, 2}^{3}}{6} + \\frac{p_{1, 2} p_{2, 1}}{2} + p_{3, 2}\\\\ \n",
       "\\end{align}\n",
       "$$"
      ],
      "text/plain": [
       "<IPython.core.display.Latex object>"
      ]
     },
     "metadata": {},
     "output_type": "display_data"
    }
   ],
   "source": [
    "P=p[1, 1]*Eel(1, 1, base)\n",
    "K=Eel(1, 1, base)\n",
    "if base == \"E\":\n",
    "    P += p[1, 2]*Eel(1, 2, base)\n",
    "    K += Eel(1, 2, base)\n",
    "for i in range(1, ord_bch):\n",
    "    for j in range(tams[i]):\n",
    "        P += p[i + 1, j + 1]*Eel(i + 1, j + 1, base)\n",
    "        if i % 2 == 0:\n",
    "            K += k[i + 1, j + 1]*Eel(i + 1, j + 1, base)\n",
    "C = K\n",
    "esq = K\n",
    "fact = 1\n",
    "for i in range(1, ord_bch + 1):\n",
    "    fact = fact * i\n",
    "    C = Claudator(P, C)\n",
    "    esq += C/fact\n",
    "metPr4 = Metode(ord_bch, base)\n",
    "metPr4.importFromExpr(esq)\n",
    "display(Latex(\"$$\\n\" + sp.latex(metPr4) + \"\\n$$\"))"
   ]
  },
  {
   "cell_type": "markdown",
   "metadata": {},
   "source": [
    "Càlcul sabent que el mètode final serà temps-simètric"
   ]
  },
  {
   "cell_type": "code",
   "execution_count": 8,
   "metadata": {},
   "outputs": [
    {
     "data": {
      "text/latex": [
       "$$\n",
       "\\begin{align}\n",
       "\\omega_{1,1} &= 1\\\\ \n",
       "\\omega_{1,2} &= 1\\\\ \n",
       "\\omega_{2,1} &= k_{2, 1}\\\\ \n",
       "\\omega_{3,1} &= k_{3, 1} - p_{2, 1}\\\\ \n",
       "\\omega_{3,2} &= k_{3, 2} - p_{2, 1}\\\\ \n",
       "\\omega_{4,1} &= k_{4, 1}\\\\ \n",
       "\\omega_{4,2} &= k_{4, 2}\\\\ \n",
       "\\omega_{4,3} &= k_{4, 3}\\\\ \n",
       "\\end{align}\n",
       "$$"
      ],
      "text/plain": [
       "<IPython.core.display.Latex object>"
      ]
     },
     "metadata": {},
     "output_type": "display_data"
    }
   ],
   "source": [
    "P=sp.S(0)\n",
    "K=Eel(1, 1, base)\n",
    "if base == \"E\":\n",
    "    K += Eel(1, 2, base)\n",
    "for i in range(1, ord_bch):\n",
    "    for j in range(tams[i]):\n",
    "        if i % 2 != 0:\n",
    "            P += p[i + 1, j + 1]*Eel(i + 1, j + 1, base)\n",
    "            K += k[i + 1, j + 1]*Eel(i + 1, j + 1, base)\n",
    "        if i % 2 == 0:\n",
    "            K += k[i + 1, j + 1]*Eel(i + 1, j + 1, base)\n",
    "C = K\n",
    "esq = K\n",
    "fact = 1\n",
    "for i in range(1, ord_bch + 1):\n",
    "    fact = fact * i\n",
    "    C = Claudator(P, C)\n",
    "    esq += C/fact\n",
    "metPr5 = Metode(ord_bch, base)\n",
    "metPr5.importFromExpr(esq)\n",
    "display(Latex(\"$$\\n\" + sp.latex(metPr5) + \"\\n$$\"))"
   ]
  },
  {
   "cell_type": "markdown",
   "metadata": {},
   "source": [
    "Igual que en el darrer cas, però per processat tipus \"starter\""
   ]
  },
  {
   "cell_type": "code",
   "execution_count": 9,
   "metadata": {},
   "outputs": [
    {
     "ename": "IndexError",
     "evalue": "list index out of range",
     "output_type": "error",
     "traceback": [
      "\u001b[0;31m---------------------------------------------------------------------------\u001b[0m",
      "\u001b[0;31mIndexError\u001b[0m                                Traceback (most recent call last)",
      "\u001b[0;32m<ipython-input-9-21996be6f17f>\u001b[0m in \u001b[0;36m<module>\u001b[0;34m()\u001b[0m\n\u001b[0;32m----> 1\u001b[0;31m \u001b[0mexpr\u001b[0m\u001b[0;34m=\u001b[0m\u001b[0;34m(\u001b[0m\u001b[0mmetPr5\u001b[0m\u001b[0;34m.\u001b[0m\u001b[0mw\u001b[0m\u001b[0;34m[\u001b[0m\u001b[0;36m7\u001b[0m\u001b[0;34m]\u001b[0m\u001b[0;34m[\u001b[0m\u001b[0;36m13\u001b[0m\u001b[0;34m]\u001b[0m\u001b[0;34m-\u001b[0m\u001b[0mmetPr5\u001b[0m\u001b[0;34m.\u001b[0m\u001b[0mw\u001b[0m\u001b[0;34m[\u001b[0m\u001b[0;36m7\u001b[0m\u001b[0;34m]\u001b[0m\u001b[0;34m[\u001b[0m\u001b[0;36m14\u001b[0m\u001b[0;34m]\u001b[0m\u001b[0;34m)\u001b[0m\u001b[0;34m.\u001b[0m\u001b[0msimplify\u001b[0m\u001b[0;34m(\u001b[0m\u001b[0;34m)\u001b[0m\u001b[0;34m\u001b[0m\u001b[0;34m\u001b[0m\u001b[0m\n\u001b[0m\u001b[1;32m      2\u001b[0m \u001b[0mdisplay\u001b[0m\u001b[0;34m(\u001b[0m\u001b[0mLatex\u001b[0m\u001b[0;34m(\u001b[0m\u001b[0;34m\"$$\\n\"\u001b[0m \u001b[0;34m+\u001b[0m \u001b[0msp\u001b[0m\u001b[0;34m.\u001b[0m\u001b[0mlatex\u001b[0m\u001b[0;34m(\u001b[0m\u001b[0mexpr\u001b[0m\u001b[0;34m)\u001b[0m \u001b[0;34m+\u001b[0m \u001b[0;34m\"\\n$$\"\u001b[0m\u001b[0;34m)\u001b[0m\u001b[0;34m)\u001b[0m\u001b[0;34m\u001b[0m\u001b[0;34m\u001b[0m\u001b[0m\n",
      "\u001b[0;31mIndexError\u001b[0m: list index out of range"
     ]
    }
   ],
   "source": [
    "expr=(metPr5.w[7][13]-metPr5.w[7][14]).simplify()\n",
    "display(Latex(\"$$\\n\" + sp.latex(expr) + \"\\n$$\"))"
   ]
  },
  {
   "cell_type": "code",
   "execution_count": null,
   "metadata": {},
   "outputs": [],
   "source": []
  }
 ],
 "metadata": {
  "kernelspec": {
   "display_name": "Python 3",
   "language": "python",
   "name": "python3"
  },
  "language_info": {
   "codemirror_mode": {
    "name": "ipython",
    "version": 3
   },
   "file_extension": ".py",
   "mimetype": "text/x-python",
   "name": "python",
   "nbconvert_exporter": "python",
   "pygments_lexer": "ipython3",
   "version": "3.7.3"
  }
 },
 "nbformat": 4,
 "nbformat_minor": 4
}
