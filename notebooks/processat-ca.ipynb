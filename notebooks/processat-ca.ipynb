{
 "cells": [
  {
   "cell_type": "markdown",
   "metadata": {
    "jupyter": {
     "outputs_hidden": false
    }
   },
   "source": [
    "Importem llibreries"
   ]
  },
  {
   "cell_type": "code",
   "execution_count": 1,
   "metadata": {
    "collapsed": false,
    "jupyter": {
     "outputs_hidden": false
    }
   },
   "outputs": [],
   "source": [
    "import numpy as np\n",
    "import sympy as sp\n",
    "from IPython.display import display, Markdown, Latex\n",
    "import sys\n",
    "sys.path.insert(0, '../')\n",
    "from bchpy import *\n",
    "import relations as rl"
   ]
  },
  {
   "cell_type": "markdown",
   "metadata": {},
   "source": [
    "Configurem la base i l'ordre del mètode"
   ]
  },
  {
   "cell_type": "code",
   "execution_count": 2,
   "metadata": {},
   "outputs": [],
   "source": [
    "ord_bch = 9\n",
    "base = \"E\""
   ]
  },
  {
   "cell_type": "markdown",
   "metadata": {},
   "source": [
    "Definim simbòlicament els factors $k_{i,j}$ i $p_{i,j}$ i els desenvolupaments de $K$ i $P$:\n",
    "$$\n",
    "K=\\sum_i \\sum_j k_{i,j}Z_{ij}\n",
    "$$\n",
    "$$\n",
    "P=\\sum_i \\sum_j p_{i,j}Z_{ij}\n",
    "$$"
   ]
  },
  {
   "cell_type": "code",
   "execution_count": 3,
   "metadata": {},
   "outputs": [],
   "source": [
    "tams = rl.tamZ\n",
    "if base == \"E\":\n",
    "    tams = rl.tamE\n",
    "P=sp.S(0)\n",
    "K=sp.S(0)\n",
    "p = sp.MatrixSymbol(\"p\", ord_bch + 1, tams[ord_bch - 1] + 1)\n",
    "k = sp.MatrixSymbol(\"k\", ord_bch + 1, tams[ord_bch - 1] + 1)\n",
    "for i in range(ord_bch):\n",
    "    for j in range(tams[i]):\n",
    "        P += p[i + 1, j + 1]*Eel(i + 1, j + 1, base)\n",
    "        K += k[i + 1, j + 1]*Eel(i + 1, j + 1, base)"
   ]
  },
  {
   "cell_type": "markdown",
   "metadata": {},
   "source": [
    "Calculem $W$, utilitzant:\n",
    "$$\n",
    "W = e^{\\#P\\#}K=K+[P,K]+\\frac{1}{2!}[P,P,K]+\\frac{1}{3!}[P,P,P,K]+\\cdots\n",
    "$$"
   ]
  },
  {
   "cell_type": "code",
   "execution_count": 4,
   "metadata": {},
   "outputs": [
    {
     "ename": "KeyboardInterrupt",
     "evalue": "",
     "output_type": "error",
     "traceback": [
      "\u001b[0;31m---------------------------------------------------------------------------\u001b[0m",
      "\u001b[0;31mKeyboardInterrupt\u001b[0m                         Traceback (most recent call last)",
      "\u001b[0;32m<ipython-input-4-0a5305c0846c>\u001b[0m in \u001b[0;36m<module>\u001b[0;34m()\u001b[0m\n\u001b[1;32m      4\u001b[0m \u001b[0;32mfor\u001b[0m \u001b[0mi\u001b[0m \u001b[0;32min\u001b[0m \u001b[0mrange\u001b[0m\u001b[0;34m(\u001b[0m\u001b[0;36m1\u001b[0m\u001b[0;34m,\u001b[0m \u001b[0mord_bch\u001b[0m \u001b[0;34m+\u001b[0m \u001b[0;36m1\u001b[0m\u001b[0;34m)\u001b[0m\u001b[0;34m:\u001b[0m\u001b[0;34m\u001b[0m\u001b[0;34m\u001b[0m\u001b[0m\n\u001b[1;32m      5\u001b[0m     \u001b[0mfact\u001b[0m \u001b[0;34m=\u001b[0m \u001b[0mfact\u001b[0m \u001b[0;34m*\u001b[0m \u001b[0mi\u001b[0m\u001b[0;34m\u001b[0m\u001b[0;34m\u001b[0m\u001b[0m\n\u001b[0;32m----> 6\u001b[0;31m     \u001b[0mC\u001b[0m \u001b[0;34m=\u001b[0m \u001b[0mCorxet\u001b[0m\u001b[0;34m(\u001b[0m\u001b[0mP\u001b[0m\u001b[0;34m,\u001b[0m \u001b[0mC\u001b[0m\u001b[0;34m)\u001b[0m\u001b[0;34m\u001b[0m\u001b[0;34m\u001b[0m\u001b[0m\n\u001b[0m\u001b[1;32m      7\u001b[0m     \u001b[0mesq\u001b[0m \u001b[0;34m+=\u001b[0m \u001b[0mC\u001b[0m\u001b[0;34m/\u001b[0m\u001b[0mfact\u001b[0m\u001b[0;34m\u001b[0m\u001b[0;34m\u001b[0m\u001b[0m\n",
      "\u001b[0;32m/home/alex/Escriptori/bchpy/bchpy.py\u001b[0m in \u001b[0;36m__new__\u001b[0;34m(cls, A, B)\u001b[0m\n\u001b[1;32m     60\u001b[0m \u001b[0;32mclass\u001b[0m \u001b[0mCorxet\u001b[0m\u001b[0;34m(\u001b[0m\u001b[0msp\u001b[0m\u001b[0;34m.\u001b[0m\u001b[0mExpr\u001b[0m\u001b[0;34m)\u001b[0m\u001b[0;34m:\u001b[0m\u001b[0;34m\u001b[0m\u001b[0;34m\u001b[0m\u001b[0m\n\u001b[1;32m     61\u001b[0m     \u001b[0;32mdef\u001b[0m \u001b[0m__new__\u001b[0m\u001b[0;34m(\u001b[0m\u001b[0mcls\u001b[0m\u001b[0;34m,\u001b[0m \u001b[0mA\u001b[0m\u001b[0;34m,\u001b[0m \u001b[0mB\u001b[0m\u001b[0;34m)\u001b[0m\u001b[0;34m:\u001b[0m\u001b[0;34m\u001b[0m\u001b[0;34m\u001b[0m\u001b[0m\n\u001b[0;32m---> 62\u001b[0;31m         \u001b[0;32mreturn\u001b[0m \u001b[0mcls\u001b[0m\u001b[0;34m.\u001b[0m\u001b[0meval\u001b[0m\u001b[0;34m(\u001b[0m\u001b[0mcls\u001b[0m\u001b[0;34m,\u001b[0m \u001b[0mA\u001b[0m\u001b[0;34m,\u001b[0m \u001b[0mB\u001b[0m\u001b[0;34m)\u001b[0m\u001b[0;34m\u001b[0m\u001b[0;34m\u001b[0m\u001b[0m\n\u001b[0m\u001b[1;32m     63\u001b[0m \u001b[0;34m\u001b[0m\u001b[0m\n\u001b[1;32m     64\u001b[0m     \u001b[0;32mdef\u001b[0m \u001b[0meval\u001b[0m\u001b[0;34m(\u001b[0m\u001b[0mcls\u001b[0m\u001b[0;34m,\u001b[0m \u001b[0mA\u001b[0m\u001b[0;34m,\u001b[0m \u001b[0mB\u001b[0m\u001b[0;34m)\u001b[0m\u001b[0;34m:\u001b[0m\u001b[0;34m\u001b[0m\u001b[0;34m\u001b[0m\u001b[0m\n",
      "\u001b[0;32m/home/alex/Escriptori/bchpy/bchpy.py\u001b[0m in \u001b[0;36meval\u001b[0;34m(cls, A, B)\u001b[0m\n\u001b[1;32m     70\u001b[0m             \u001b[0msargs\u001b[0m \u001b[0;34m=\u001b[0m \u001b[0;34m[\u001b[0m\u001b[0;34m]\u001b[0m\u001b[0;34m\u001b[0m\u001b[0;34m\u001b[0m\u001b[0m\n\u001b[1;32m     71\u001b[0m             \u001b[0;32mfor\u001b[0m \u001b[0mterm\u001b[0m \u001b[0;32min\u001b[0m \u001b[0mA\u001b[0m\u001b[0;34m.\u001b[0m\u001b[0margs\u001b[0m\u001b[0;34m:\u001b[0m\u001b[0;34m\u001b[0m\u001b[0;34m\u001b[0m\u001b[0m\n\u001b[0;32m---> 72\u001b[0;31m                 \u001b[0msargs\u001b[0m\u001b[0;34m.\u001b[0m\u001b[0mappend\u001b[0m\u001b[0;34m(\u001b[0m\u001b[0mCorxet\u001b[0m\u001b[0;34m(\u001b[0m\u001b[0mterm\u001b[0m\u001b[0;34m,\u001b[0m \u001b[0mB\u001b[0m\u001b[0;34m)\u001b[0m\u001b[0;34m)\u001b[0m\u001b[0;34m\u001b[0m\u001b[0;34m\u001b[0m\u001b[0m\n\u001b[0m\u001b[1;32m     73\u001b[0m             \u001b[0;32mreturn\u001b[0m \u001b[0msp\u001b[0m\u001b[0;34m.\u001b[0m\u001b[0mAdd\u001b[0m\u001b[0;34m(\u001b[0m\u001b[0;34m*\u001b[0m\u001b[0msargs\u001b[0m\u001b[0;34m)\u001b[0m\u001b[0;34m\u001b[0m\u001b[0;34m\u001b[0m\u001b[0m\n\u001b[1;32m     74\u001b[0m         \u001b[0;32mif\u001b[0m \u001b[0misinstance\u001b[0m\u001b[0;34m(\u001b[0m\u001b[0mB\u001b[0m\u001b[0;34m,\u001b[0m \u001b[0msp\u001b[0m\u001b[0;34m.\u001b[0m\u001b[0mAdd\u001b[0m\u001b[0;34m)\u001b[0m\u001b[0;34m:\u001b[0m\u001b[0;34m\u001b[0m\u001b[0;34m\u001b[0m\u001b[0m\n",
      "\u001b[0;32m/home/alex/Escriptori/bchpy/bchpy.py\u001b[0m in \u001b[0;36m__new__\u001b[0;34m(cls, A, B)\u001b[0m\n\u001b[1;32m     60\u001b[0m \u001b[0;32mclass\u001b[0m \u001b[0mCorxet\u001b[0m\u001b[0;34m(\u001b[0m\u001b[0msp\u001b[0m\u001b[0;34m.\u001b[0m\u001b[0mExpr\u001b[0m\u001b[0;34m)\u001b[0m\u001b[0;34m:\u001b[0m\u001b[0;34m\u001b[0m\u001b[0;34m\u001b[0m\u001b[0m\n\u001b[1;32m     61\u001b[0m     \u001b[0;32mdef\u001b[0m \u001b[0m__new__\u001b[0m\u001b[0;34m(\u001b[0m\u001b[0mcls\u001b[0m\u001b[0;34m,\u001b[0m \u001b[0mA\u001b[0m\u001b[0;34m,\u001b[0m \u001b[0mB\u001b[0m\u001b[0;34m)\u001b[0m\u001b[0;34m:\u001b[0m\u001b[0;34m\u001b[0m\u001b[0;34m\u001b[0m\u001b[0m\n\u001b[0;32m---> 62\u001b[0;31m         \u001b[0;32mreturn\u001b[0m \u001b[0mcls\u001b[0m\u001b[0;34m.\u001b[0m\u001b[0meval\u001b[0m\u001b[0;34m(\u001b[0m\u001b[0mcls\u001b[0m\u001b[0;34m,\u001b[0m \u001b[0mA\u001b[0m\u001b[0;34m,\u001b[0m \u001b[0mB\u001b[0m\u001b[0;34m)\u001b[0m\u001b[0;34m\u001b[0m\u001b[0;34m\u001b[0m\u001b[0m\n\u001b[0m\u001b[1;32m     63\u001b[0m \u001b[0;34m\u001b[0m\u001b[0m\n\u001b[1;32m     64\u001b[0m     \u001b[0;32mdef\u001b[0m \u001b[0meval\u001b[0m\u001b[0;34m(\u001b[0m\u001b[0mcls\u001b[0m\u001b[0;34m,\u001b[0m \u001b[0mA\u001b[0m\u001b[0;34m,\u001b[0m \u001b[0mB\u001b[0m\u001b[0;34m)\u001b[0m\u001b[0;34m:\u001b[0m\u001b[0;34m\u001b[0m\u001b[0;34m\u001b[0m\u001b[0m\n",
      "\u001b[0;32m/home/alex/Escriptori/bchpy/bchpy.py\u001b[0m in \u001b[0;36meval\u001b[0;34m(cls, A, B)\u001b[0m\n\u001b[1;32m     75\u001b[0m             \u001b[0msargs\u001b[0m \u001b[0;34m=\u001b[0m \u001b[0;34m[\u001b[0m\u001b[0;34m]\u001b[0m\u001b[0;34m\u001b[0m\u001b[0;34m\u001b[0m\u001b[0m\n\u001b[1;32m     76\u001b[0m             \u001b[0;32mfor\u001b[0m \u001b[0mterm\u001b[0m \u001b[0;32min\u001b[0m \u001b[0mB\u001b[0m\u001b[0;34m.\u001b[0m\u001b[0margs\u001b[0m\u001b[0;34m:\u001b[0m\u001b[0;34m\u001b[0m\u001b[0;34m\u001b[0m\u001b[0m\n\u001b[0;32m---> 77\u001b[0;31m                 \u001b[0msargs\u001b[0m\u001b[0;34m.\u001b[0m\u001b[0mappend\u001b[0m\u001b[0;34m(\u001b[0m\u001b[0mCorxet\u001b[0m\u001b[0;34m(\u001b[0m\u001b[0mA\u001b[0m\u001b[0;34m,\u001b[0m \u001b[0mterm\u001b[0m\u001b[0;34m)\u001b[0m\u001b[0;34m)\u001b[0m\u001b[0;34m\u001b[0m\u001b[0;34m\u001b[0m\u001b[0m\n\u001b[0m\u001b[1;32m     78\u001b[0m             \u001b[0;32mreturn\u001b[0m \u001b[0msp\u001b[0m\u001b[0;34m.\u001b[0m\u001b[0mAdd\u001b[0m\u001b[0;34m(\u001b[0m\u001b[0;34m*\u001b[0m\u001b[0msargs\u001b[0m\u001b[0;34m)\u001b[0m\u001b[0;34m\u001b[0m\u001b[0;34m\u001b[0m\u001b[0m\n\u001b[1;32m     79\u001b[0m         \u001b[0mcA\u001b[0m\u001b[0;34m,\u001b[0m \u001b[0mncA\u001b[0m \u001b[0;34m=\u001b[0m \u001b[0mA\u001b[0m\u001b[0;34m.\u001b[0m\u001b[0margs_cnc\u001b[0m\u001b[0;34m(\u001b[0m\u001b[0;34m)\u001b[0m\u001b[0;34m\u001b[0m\u001b[0;34m\u001b[0m\u001b[0m\n",
      "\u001b[0;32m/home/alex/Escriptori/bchpy/bchpy.py\u001b[0m in \u001b[0;36m__new__\u001b[0;34m(cls, A, B)\u001b[0m\n\u001b[1;32m     60\u001b[0m \u001b[0;32mclass\u001b[0m \u001b[0mCorxet\u001b[0m\u001b[0;34m(\u001b[0m\u001b[0msp\u001b[0m\u001b[0;34m.\u001b[0m\u001b[0mExpr\u001b[0m\u001b[0;34m)\u001b[0m\u001b[0;34m:\u001b[0m\u001b[0;34m\u001b[0m\u001b[0;34m\u001b[0m\u001b[0m\n\u001b[1;32m     61\u001b[0m     \u001b[0;32mdef\u001b[0m \u001b[0m__new__\u001b[0m\u001b[0;34m(\u001b[0m\u001b[0mcls\u001b[0m\u001b[0;34m,\u001b[0m \u001b[0mA\u001b[0m\u001b[0;34m,\u001b[0m \u001b[0mB\u001b[0m\u001b[0;34m)\u001b[0m\u001b[0;34m:\u001b[0m\u001b[0;34m\u001b[0m\u001b[0;34m\u001b[0m\u001b[0m\n\u001b[0;32m---> 62\u001b[0;31m         \u001b[0;32mreturn\u001b[0m \u001b[0mcls\u001b[0m\u001b[0;34m.\u001b[0m\u001b[0meval\u001b[0m\u001b[0;34m(\u001b[0m\u001b[0mcls\u001b[0m\u001b[0;34m,\u001b[0m \u001b[0mA\u001b[0m\u001b[0;34m,\u001b[0m \u001b[0mB\u001b[0m\u001b[0;34m)\u001b[0m\u001b[0;34m\u001b[0m\u001b[0;34m\u001b[0m\u001b[0m\n\u001b[0m\u001b[1;32m     63\u001b[0m \u001b[0;34m\u001b[0m\u001b[0m\n\u001b[1;32m     64\u001b[0m     \u001b[0;32mdef\u001b[0m \u001b[0meval\u001b[0m\u001b[0;34m(\u001b[0m\u001b[0mcls\u001b[0m\u001b[0;34m,\u001b[0m \u001b[0mA\u001b[0m\u001b[0;34m,\u001b[0m \u001b[0mB\u001b[0m\u001b[0;34m)\u001b[0m\u001b[0;34m:\u001b[0m\u001b[0;34m\u001b[0m\u001b[0;34m\u001b[0m\u001b[0m\n",
      "\u001b[0;32m/home/alex/Escriptori/bchpy/bchpy.py\u001b[0m in \u001b[0;36meval\u001b[0;34m(cls, A, B)\u001b[0m\n\u001b[1;32m     81\u001b[0m         \u001b[0mc_part\u001b[0m \u001b[0;34m=\u001b[0m \u001b[0mcA\u001b[0m \u001b[0;34m+\u001b[0m \u001b[0mcB\u001b[0m\u001b[0;34m\u001b[0m\u001b[0;34m\u001b[0m\u001b[0m\n\u001b[1;32m     82\u001b[0m         \u001b[0;32mif\u001b[0m \u001b[0mc_part\u001b[0m\u001b[0;34m:\u001b[0m\u001b[0;34m\u001b[0m\u001b[0;34m\u001b[0m\u001b[0m\n\u001b[0;32m---> 83\u001b[0;31m             \u001b[0;32mreturn\u001b[0m \u001b[0msp\u001b[0m\u001b[0;34m.\u001b[0m\u001b[0mMul\u001b[0m\u001b[0;34m(\u001b[0m\u001b[0msp\u001b[0m\u001b[0;34m.\u001b[0m\u001b[0mMul\u001b[0m\u001b[0;34m(\u001b[0m\u001b[0;34m*\u001b[0m\u001b[0mc_part\u001b[0m\u001b[0;34m)\u001b[0m\u001b[0;34m,\u001b[0m \u001b[0mcls\u001b[0m\u001b[0;34m(\u001b[0m\u001b[0msp\u001b[0m\u001b[0;34m.\u001b[0m\u001b[0mMul\u001b[0m\u001b[0;34m.\u001b[0m\u001b[0m_from_args\u001b[0m\u001b[0;34m(\u001b[0m\u001b[0mncA\u001b[0m\u001b[0;34m)\u001b[0m\u001b[0;34m,\u001b[0m \u001b[0msp\u001b[0m\u001b[0;34m.\u001b[0m\u001b[0mMul\u001b[0m\u001b[0;34m.\u001b[0m\u001b[0m_from_args\u001b[0m\u001b[0;34m(\u001b[0m\u001b[0mncB\u001b[0m\u001b[0;34m)\u001b[0m\u001b[0;34m)\u001b[0m\u001b[0;34m)\u001b[0m\u001b[0;34m\u001b[0m\u001b[0;34m\u001b[0m\u001b[0m\n\u001b[0m\u001b[1;32m     84\u001b[0m         \u001b[0;32mif\u001b[0m \u001b[0mA\u001b[0m\u001b[0;34m.\u001b[0m\u001b[0mcompare\u001b[0m\u001b[0;34m(\u001b[0m\u001b[0mB\u001b[0m\u001b[0;34m)\u001b[0m \u001b[0;34m==\u001b[0m \u001b[0;36m1\u001b[0m\u001b[0;34m:\u001b[0m\u001b[0;34m\u001b[0m\u001b[0;34m\u001b[0m\u001b[0m\n\u001b[1;32m     85\u001b[0m             \u001b[0;32mreturn\u001b[0m \u001b[0msp\u001b[0m\u001b[0;34m.\u001b[0m\u001b[0mS\u001b[0m\u001b[0;34m.\u001b[0m\u001b[0mNegativeOne\u001b[0m\u001b[0;34m*\u001b[0m\u001b[0mcls\u001b[0m\u001b[0;34m.\u001b[0m\u001b[0meval\u001b[0m\u001b[0;34m(\u001b[0m\u001b[0mcls\u001b[0m\u001b[0;34m,\u001b[0m \u001b[0mB\u001b[0m\u001b[0;34m,\u001b[0m \u001b[0mA\u001b[0m\u001b[0;34m)\u001b[0m\u001b[0;34m\u001b[0m\u001b[0;34m\u001b[0m\u001b[0m\n",
      "\u001b[0;32m/home/alex/Escriptori/bchpy/bchpy.py\u001b[0m in \u001b[0;36m__new__\u001b[0;34m(cls, A, B)\u001b[0m\n\u001b[1;32m     60\u001b[0m \u001b[0;32mclass\u001b[0m \u001b[0mCorxet\u001b[0m\u001b[0;34m(\u001b[0m\u001b[0msp\u001b[0m\u001b[0;34m.\u001b[0m\u001b[0mExpr\u001b[0m\u001b[0;34m)\u001b[0m\u001b[0;34m:\u001b[0m\u001b[0;34m\u001b[0m\u001b[0;34m\u001b[0m\u001b[0m\n\u001b[1;32m     61\u001b[0m     \u001b[0;32mdef\u001b[0m \u001b[0m__new__\u001b[0m\u001b[0;34m(\u001b[0m\u001b[0mcls\u001b[0m\u001b[0;34m,\u001b[0m \u001b[0mA\u001b[0m\u001b[0;34m,\u001b[0m \u001b[0mB\u001b[0m\u001b[0;34m)\u001b[0m\u001b[0;34m:\u001b[0m\u001b[0;34m\u001b[0m\u001b[0;34m\u001b[0m\u001b[0m\n\u001b[0;32m---> 62\u001b[0;31m         \u001b[0;32mreturn\u001b[0m \u001b[0mcls\u001b[0m\u001b[0;34m.\u001b[0m\u001b[0meval\u001b[0m\u001b[0;34m(\u001b[0m\u001b[0mcls\u001b[0m\u001b[0;34m,\u001b[0m \u001b[0mA\u001b[0m\u001b[0;34m,\u001b[0m \u001b[0mB\u001b[0m\u001b[0;34m)\u001b[0m\u001b[0;34m\u001b[0m\u001b[0;34m\u001b[0m\u001b[0m\n\u001b[0m\u001b[1;32m     63\u001b[0m \u001b[0;34m\u001b[0m\u001b[0m\n\u001b[1;32m     64\u001b[0m     \u001b[0;32mdef\u001b[0m \u001b[0meval\u001b[0m\u001b[0;34m(\u001b[0m\u001b[0mcls\u001b[0m\u001b[0;34m,\u001b[0m \u001b[0mA\u001b[0m\u001b[0;34m,\u001b[0m \u001b[0mB\u001b[0m\u001b[0;34m)\u001b[0m\u001b[0;34m:\u001b[0m\u001b[0;34m\u001b[0m\u001b[0;34m\u001b[0m\u001b[0m\n",
      "\u001b[0;32m/home/alex/Escriptori/bchpy/bchpy.py\u001b[0m in \u001b[0;36meval\u001b[0;34m(cls, A, B)\u001b[0m\n\u001b[1;32m     75\u001b[0m             \u001b[0msargs\u001b[0m \u001b[0;34m=\u001b[0m \u001b[0;34m[\u001b[0m\u001b[0;34m]\u001b[0m\u001b[0;34m\u001b[0m\u001b[0;34m\u001b[0m\u001b[0m\n\u001b[1;32m     76\u001b[0m             \u001b[0;32mfor\u001b[0m \u001b[0mterm\u001b[0m \u001b[0;32min\u001b[0m \u001b[0mB\u001b[0m\u001b[0;34m.\u001b[0m\u001b[0margs\u001b[0m\u001b[0;34m:\u001b[0m\u001b[0;34m\u001b[0m\u001b[0;34m\u001b[0m\u001b[0m\n\u001b[0;32m---> 77\u001b[0;31m                 \u001b[0msargs\u001b[0m\u001b[0;34m.\u001b[0m\u001b[0mappend\u001b[0m\u001b[0;34m(\u001b[0m\u001b[0mCorxet\u001b[0m\u001b[0;34m(\u001b[0m\u001b[0mA\u001b[0m\u001b[0;34m,\u001b[0m \u001b[0mterm\u001b[0m\u001b[0;34m)\u001b[0m\u001b[0;34m)\u001b[0m\u001b[0;34m\u001b[0m\u001b[0;34m\u001b[0m\u001b[0m\n\u001b[0m\u001b[1;32m     78\u001b[0m             \u001b[0;32mreturn\u001b[0m \u001b[0msp\u001b[0m\u001b[0;34m.\u001b[0m\u001b[0mAdd\u001b[0m\u001b[0;34m(\u001b[0m\u001b[0;34m*\u001b[0m\u001b[0msargs\u001b[0m\u001b[0;34m)\u001b[0m\u001b[0;34m\u001b[0m\u001b[0;34m\u001b[0m\u001b[0m\n\u001b[1;32m     79\u001b[0m         \u001b[0mcA\u001b[0m\u001b[0;34m,\u001b[0m \u001b[0mncA\u001b[0m \u001b[0;34m=\u001b[0m \u001b[0mA\u001b[0m\u001b[0;34m.\u001b[0m\u001b[0margs_cnc\u001b[0m\u001b[0;34m(\u001b[0m\u001b[0;34m)\u001b[0m\u001b[0;34m\u001b[0m\u001b[0;34m\u001b[0m\u001b[0m\n",
      "\u001b[0;32m/home/alex/Escriptori/bchpy/bchpy.py\u001b[0m in \u001b[0;36m__new__\u001b[0;34m(cls, A, B)\u001b[0m\n\u001b[1;32m     60\u001b[0m \u001b[0;32mclass\u001b[0m \u001b[0mCorxet\u001b[0m\u001b[0;34m(\u001b[0m\u001b[0msp\u001b[0m\u001b[0;34m.\u001b[0m\u001b[0mExpr\u001b[0m\u001b[0;34m)\u001b[0m\u001b[0;34m:\u001b[0m\u001b[0;34m\u001b[0m\u001b[0;34m\u001b[0m\u001b[0m\n\u001b[1;32m     61\u001b[0m     \u001b[0;32mdef\u001b[0m \u001b[0m__new__\u001b[0m\u001b[0;34m(\u001b[0m\u001b[0mcls\u001b[0m\u001b[0;34m,\u001b[0m \u001b[0mA\u001b[0m\u001b[0;34m,\u001b[0m \u001b[0mB\u001b[0m\u001b[0;34m)\u001b[0m\u001b[0;34m:\u001b[0m\u001b[0;34m\u001b[0m\u001b[0;34m\u001b[0m\u001b[0m\n\u001b[0;32m---> 62\u001b[0;31m         \u001b[0;32mreturn\u001b[0m \u001b[0mcls\u001b[0m\u001b[0;34m.\u001b[0m\u001b[0meval\u001b[0m\u001b[0;34m(\u001b[0m\u001b[0mcls\u001b[0m\u001b[0;34m,\u001b[0m \u001b[0mA\u001b[0m\u001b[0;34m,\u001b[0m \u001b[0mB\u001b[0m\u001b[0;34m)\u001b[0m\u001b[0;34m\u001b[0m\u001b[0;34m\u001b[0m\u001b[0m\n\u001b[0m\u001b[1;32m     63\u001b[0m \u001b[0;34m\u001b[0m\u001b[0m\n\u001b[1;32m     64\u001b[0m     \u001b[0;32mdef\u001b[0m \u001b[0meval\u001b[0m\u001b[0;34m(\u001b[0m\u001b[0mcls\u001b[0m\u001b[0;34m,\u001b[0m \u001b[0mA\u001b[0m\u001b[0;34m,\u001b[0m \u001b[0mB\u001b[0m\u001b[0;34m)\u001b[0m\u001b[0;34m:\u001b[0m\u001b[0;34m\u001b[0m\u001b[0;34m\u001b[0m\u001b[0m\n",
      "\u001b[0;32m/home/alex/Escriptori/bchpy/bchpy.py\u001b[0m in \u001b[0;36meval\u001b[0;34m(cls, A, B)\u001b[0m\n\u001b[1;32m     81\u001b[0m         \u001b[0mc_part\u001b[0m \u001b[0;34m=\u001b[0m \u001b[0mcA\u001b[0m \u001b[0;34m+\u001b[0m \u001b[0mcB\u001b[0m\u001b[0;34m\u001b[0m\u001b[0;34m\u001b[0m\u001b[0m\n\u001b[1;32m     82\u001b[0m         \u001b[0;32mif\u001b[0m \u001b[0mc_part\u001b[0m\u001b[0;34m:\u001b[0m\u001b[0;34m\u001b[0m\u001b[0;34m\u001b[0m\u001b[0m\n\u001b[0;32m---> 83\u001b[0;31m             \u001b[0;32mreturn\u001b[0m \u001b[0msp\u001b[0m\u001b[0;34m.\u001b[0m\u001b[0mMul\u001b[0m\u001b[0;34m(\u001b[0m\u001b[0msp\u001b[0m\u001b[0;34m.\u001b[0m\u001b[0mMul\u001b[0m\u001b[0;34m(\u001b[0m\u001b[0;34m*\u001b[0m\u001b[0mc_part\u001b[0m\u001b[0;34m)\u001b[0m\u001b[0;34m,\u001b[0m \u001b[0mcls\u001b[0m\u001b[0;34m(\u001b[0m\u001b[0msp\u001b[0m\u001b[0;34m.\u001b[0m\u001b[0mMul\u001b[0m\u001b[0;34m.\u001b[0m\u001b[0m_from_args\u001b[0m\u001b[0;34m(\u001b[0m\u001b[0mncA\u001b[0m\u001b[0;34m)\u001b[0m\u001b[0;34m,\u001b[0m \u001b[0msp\u001b[0m\u001b[0;34m.\u001b[0m\u001b[0mMul\u001b[0m\u001b[0;34m.\u001b[0m\u001b[0m_from_args\u001b[0m\u001b[0;34m(\u001b[0m\u001b[0mncB\u001b[0m\u001b[0;34m)\u001b[0m\u001b[0;34m)\u001b[0m\u001b[0;34m)\u001b[0m\u001b[0;34m\u001b[0m\u001b[0;34m\u001b[0m\u001b[0m\n\u001b[0m\u001b[1;32m     84\u001b[0m         \u001b[0;32mif\u001b[0m \u001b[0mA\u001b[0m\u001b[0;34m.\u001b[0m\u001b[0mcompare\u001b[0m\u001b[0;34m(\u001b[0m\u001b[0mB\u001b[0m\u001b[0;34m)\u001b[0m \u001b[0;34m==\u001b[0m \u001b[0;36m1\u001b[0m\u001b[0;34m:\u001b[0m\u001b[0;34m\u001b[0m\u001b[0;34m\u001b[0m\u001b[0m\n\u001b[1;32m     85\u001b[0m             \u001b[0;32mreturn\u001b[0m \u001b[0msp\u001b[0m\u001b[0;34m.\u001b[0m\u001b[0mS\u001b[0m\u001b[0;34m.\u001b[0m\u001b[0mNegativeOne\u001b[0m\u001b[0;34m*\u001b[0m\u001b[0mcls\u001b[0m\u001b[0;34m.\u001b[0m\u001b[0meval\u001b[0m\u001b[0;34m(\u001b[0m\u001b[0mcls\u001b[0m\u001b[0;34m,\u001b[0m \u001b[0mB\u001b[0m\u001b[0;34m,\u001b[0m \u001b[0mA\u001b[0m\u001b[0;34m)\u001b[0m\u001b[0;34m\u001b[0m\u001b[0;34m\u001b[0m\u001b[0m\n",
      "\u001b[0;32m/home/alex/Escriptori/bchpy/bchpy.py\u001b[0m in \u001b[0;36m__new__\u001b[0;34m(cls, A, B)\u001b[0m\n\u001b[1;32m     60\u001b[0m \u001b[0;32mclass\u001b[0m \u001b[0mCorxet\u001b[0m\u001b[0;34m(\u001b[0m\u001b[0msp\u001b[0m\u001b[0;34m.\u001b[0m\u001b[0mExpr\u001b[0m\u001b[0;34m)\u001b[0m\u001b[0;34m:\u001b[0m\u001b[0;34m\u001b[0m\u001b[0;34m\u001b[0m\u001b[0m\n\u001b[1;32m     61\u001b[0m     \u001b[0;32mdef\u001b[0m \u001b[0m__new__\u001b[0m\u001b[0;34m(\u001b[0m\u001b[0mcls\u001b[0m\u001b[0;34m,\u001b[0m \u001b[0mA\u001b[0m\u001b[0;34m,\u001b[0m \u001b[0mB\u001b[0m\u001b[0;34m)\u001b[0m\u001b[0;34m:\u001b[0m\u001b[0;34m\u001b[0m\u001b[0;34m\u001b[0m\u001b[0m\n\u001b[0;32m---> 62\u001b[0;31m         \u001b[0;32mreturn\u001b[0m \u001b[0mcls\u001b[0m\u001b[0;34m.\u001b[0m\u001b[0meval\u001b[0m\u001b[0;34m(\u001b[0m\u001b[0mcls\u001b[0m\u001b[0;34m,\u001b[0m \u001b[0mA\u001b[0m\u001b[0;34m,\u001b[0m \u001b[0mB\u001b[0m\u001b[0;34m)\u001b[0m\u001b[0;34m\u001b[0m\u001b[0;34m\u001b[0m\u001b[0m\n\u001b[0m\u001b[1;32m     63\u001b[0m \u001b[0;34m\u001b[0m\u001b[0m\n\u001b[1;32m     64\u001b[0m     \u001b[0;32mdef\u001b[0m \u001b[0meval\u001b[0m\u001b[0;34m(\u001b[0m\u001b[0mcls\u001b[0m\u001b[0;34m,\u001b[0m \u001b[0mA\u001b[0m\u001b[0;34m,\u001b[0m \u001b[0mB\u001b[0m\u001b[0;34m)\u001b[0m\u001b[0;34m:\u001b[0m\u001b[0;34m\u001b[0m\u001b[0;34m\u001b[0m\u001b[0m\n",
      "\u001b[0;32m/home/alex/Escriptori/bchpy/bchpy.py\u001b[0m in \u001b[0;36meval\u001b[0;34m(cls, A, B)\u001b[0m\n\u001b[1;32m     75\u001b[0m             \u001b[0msargs\u001b[0m \u001b[0;34m=\u001b[0m \u001b[0;34m[\u001b[0m\u001b[0;34m]\u001b[0m\u001b[0;34m\u001b[0m\u001b[0;34m\u001b[0m\u001b[0m\n\u001b[1;32m     76\u001b[0m             \u001b[0;32mfor\u001b[0m \u001b[0mterm\u001b[0m \u001b[0;32min\u001b[0m \u001b[0mB\u001b[0m\u001b[0;34m.\u001b[0m\u001b[0margs\u001b[0m\u001b[0;34m:\u001b[0m\u001b[0;34m\u001b[0m\u001b[0;34m\u001b[0m\u001b[0m\n\u001b[0;32m---> 77\u001b[0;31m                 \u001b[0msargs\u001b[0m\u001b[0;34m.\u001b[0m\u001b[0mappend\u001b[0m\u001b[0;34m(\u001b[0m\u001b[0mCorxet\u001b[0m\u001b[0;34m(\u001b[0m\u001b[0mA\u001b[0m\u001b[0;34m,\u001b[0m \u001b[0mterm\u001b[0m\u001b[0;34m)\u001b[0m\u001b[0;34m)\u001b[0m\u001b[0;34m\u001b[0m\u001b[0;34m\u001b[0m\u001b[0m\n\u001b[0m\u001b[1;32m     78\u001b[0m             \u001b[0;32mreturn\u001b[0m \u001b[0msp\u001b[0m\u001b[0;34m.\u001b[0m\u001b[0mAdd\u001b[0m\u001b[0;34m(\u001b[0m\u001b[0;34m*\u001b[0m\u001b[0msargs\u001b[0m\u001b[0;34m)\u001b[0m\u001b[0;34m\u001b[0m\u001b[0;34m\u001b[0m\u001b[0m\n\u001b[1;32m     79\u001b[0m         \u001b[0mcA\u001b[0m\u001b[0;34m,\u001b[0m \u001b[0mncA\u001b[0m \u001b[0;34m=\u001b[0m \u001b[0mA\u001b[0m\u001b[0;34m.\u001b[0m\u001b[0margs_cnc\u001b[0m\u001b[0;34m(\u001b[0m\u001b[0;34m)\u001b[0m\u001b[0;34m\u001b[0m\u001b[0;34m\u001b[0m\u001b[0m\n",
      "\u001b[0;32m/home/alex/Escriptori/bchpy/bchpy.py\u001b[0m in \u001b[0;36m__new__\u001b[0;34m(cls, A, B)\u001b[0m\n\u001b[1;32m     60\u001b[0m \u001b[0;32mclass\u001b[0m \u001b[0mCorxet\u001b[0m\u001b[0;34m(\u001b[0m\u001b[0msp\u001b[0m\u001b[0;34m.\u001b[0m\u001b[0mExpr\u001b[0m\u001b[0;34m)\u001b[0m\u001b[0;34m:\u001b[0m\u001b[0;34m\u001b[0m\u001b[0;34m\u001b[0m\u001b[0m\n\u001b[1;32m     61\u001b[0m     \u001b[0;32mdef\u001b[0m \u001b[0m__new__\u001b[0m\u001b[0;34m(\u001b[0m\u001b[0mcls\u001b[0m\u001b[0;34m,\u001b[0m \u001b[0mA\u001b[0m\u001b[0;34m,\u001b[0m \u001b[0mB\u001b[0m\u001b[0;34m)\u001b[0m\u001b[0;34m:\u001b[0m\u001b[0;34m\u001b[0m\u001b[0;34m\u001b[0m\u001b[0m\n\u001b[0;32m---> 62\u001b[0;31m         \u001b[0;32mreturn\u001b[0m \u001b[0mcls\u001b[0m\u001b[0;34m.\u001b[0m\u001b[0meval\u001b[0m\u001b[0;34m(\u001b[0m\u001b[0mcls\u001b[0m\u001b[0;34m,\u001b[0m \u001b[0mA\u001b[0m\u001b[0;34m,\u001b[0m \u001b[0mB\u001b[0m\u001b[0;34m)\u001b[0m\u001b[0;34m\u001b[0m\u001b[0;34m\u001b[0m\u001b[0m\n\u001b[0m\u001b[1;32m     63\u001b[0m \u001b[0;34m\u001b[0m\u001b[0m\n\u001b[1;32m     64\u001b[0m     \u001b[0;32mdef\u001b[0m \u001b[0meval\u001b[0m\u001b[0;34m(\u001b[0m\u001b[0mcls\u001b[0m\u001b[0;34m,\u001b[0m \u001b[0mA\u001b[0m\u001b[0;34m,\u001b[0m \u001b[0mB\u001b[0m\u001b[0;34m)\u001b[0m\u001b[0;34m:\u001b[0m\u001b[0;34m\u001b[0m\u001b[0;34m\u001b[0m\u001b[0m\n",
      "\u001b[0;32m/home/alex/Escriptori/bchpy/bchpy.py\u001b[0m in \u001b[0;36meval\u001b[0;34m(cls, A, B)\u001b[0m\n\u001b[1;32m     81\u001b[0m         \u001b[0mc_part\u001b[0m \u001b[0;34m=\u001b[0m \u001b[0mcA\u001b[0m \u001b[0;34m+\u001b[0m \u001b[0mcB\u001b[0m\u001b[0;34m\u001b[0m\u001b[0;34m\u001b[0m\u001b[0m\n\u001b[1;32m     82\u001b[0m         \u001b[0;32mif\u001b[0m \u001b[0mc_part\u001b[0m\u001b[0;34m:\u001b[0m\u001b[0;34m\u001b[0m\u001b[0;34m\u001b[0m\u001b[0m\n\u001b[0;32m---> 83\u001b[0;31m             \u001b[0;32mreturn\u001b[0m \u001b[0msp\u001b[0m\u001b[0;34m.\u001b[0m\u001b[0mMul\u001b[0m\u001b[0;34m(\u001b[0m\u001b[0msp\u001b[0m\u001b[0;34m.\u001b[0m\u001b[0mMul\u001b[0m\u001b[0;34m(\u001b[0m\u001b[0;34m*\u001b[0m\u001b[0mc_part\u001b[0m\u001b[0;34m)\u001b[0m\u001b[0;34m,\u001b[0m \u001b[0mcls\u001b[0m\u001b[0;34m(\u001b[0m\u001b[0msp\u001b[0m\u001b[0;34m.\u001b[0m\u001b[0mMul\u001b[0m\u001b[0;34m.\u001b[0m\u001b[0m_from_args\u001b[0m\u001b[0;34m(\u001b[0m\u001b[0mncA\u001b[0m\u001b[0;34m)\u001b[0m\u001b[0;34m,\u001b[0m \u001b[0msp\u001b[0m\u001b[0;34m.\u001b[0m\u001b[0mMul\u001b[0m\u001b[0;34m.\u001b[0m\u001b[0m_from_args\u001b[0m\u001b[0;34m(\u001b[0m\u001b[0mncB\u001b[0m\u001b[0;34m)\u001b[0m\u001b[0;34m)\u001b[0m\u001b[0;34m)\u001b[0m\u001b[0;34m\u001b[0m\u001b[0;34m\u001b[0m\u001b[0m\n\u001b[0m\u001b[1;32m     84\u001b[0m         \u001b[0;32mif\u001b[0m \u001b[0mA\u001b[0m\u001b[0;34m.\u001b[0m\u001b[0mcompare\u001b[0m\u001b[0;34m(\u001b[0m\u001b[0mB\u001b[0m\u001b[0;34m)\u001b[0m \u001b[0;34m==\u001b[0m \u001b[0;36m1\u001b[0m\u001b[0;34m:\u001b[0m\u001b[0;34m\u001b[0m\u001b[0;34m\u001b[0m\u001b[0m\n\u001b[1;32m     85\u001b[0m             \u001b[0;32mreturn\u001b[0m \u001b[0msp\u001b[0m\u001b[0;34m.\u001b[0m\u001b[0mS\u001b[0m\u001b[0;34m.\u001b[0m\u001b[0mNegativeOne\u001b[0m\u001b[0;34m*\u001b[0m\u001b[0mcls\u001b[0m\u001b[0;34m.\u001b[0m\u001b[0meval\u001b[0m\u001b[0;34m(\u001b[0m\u001b[0mcls\u001b[0m\u001b[0;34m,\u001b[0m \u001b[0mB\u001b[0m\u001b[0;34m,\u001b[0m \u001b[0mA\u001b[0m\u001b[0;34m)\u001b[0m\u001b[0;34m\u001b[0m\u001b[0;34m\u001b[0m\u001b[0m\n",
      "\u001b[0;32m/home/alex/Escriptori/bchpy/bchpy.py\u001b[0m in \u001b[0;36m__new__\u001b[0;34m(cls, A, B)\u001b[0m\n\u001b[1;32m     60\u001b[0m \u001b[0;32mclass\u001b[0m \u001b[0mCorxet\u001b[0m\u001b[0;34m(\u001b[0m\u001b[0msp\u001b[0m\u001b[0;34m.\u001b[0m\u001b[0mExpr\u001b[0m\u001b[0;34m)\u001b[0m\u001b[0;34m:\u001b[0m\u001b[0;34m\u001b[0m\u001b[0;34m\u001b[0m\u001b[0m\n\u001b[1;32m     61\u001b[0m     \u001b[0;32mdef\u001b[0m \u001b[0m__new__\u001b[0m\u001b[0;34m(\u001b[0m\u001b[0mcls\u001b[0m\u001b[0;34m,\u001b[0m \u001b[0mA\u001b[0m\u001b[0;34m,\u001b[0m \u001b[0mB\u001b[0m\u001b[0;34m)\u001b[0m\u001b[0;34m:\u001b[0m\u001b[0;34m\u001b[0m\u001b[0;34m\u001b[0m\u001b[0m\n\u001b[0;32m---> 62\u001b[0;31m         \u001b[0;32mreturn\u001b[0m \u001b[0mcls\u001b[0m\u001b[0;34m.\u001b[0m\u001b[0meval\u001b[0m\u001b[0;34m(\u001b[0m\u001b[0mcls\u001b[0m\u001b[0;34m,\u001b[0m \u001b[0mA\u001b[0m\u001b[0;34m,\u001b[0m \u001b[0mB\u001b[0m\u001b[0;34m)\u001b[0m\u001b[0;34m\u001b[0m\u001b[0;34m\u001b[0m\u001b[0m\n\u001b[0m\u001b[1;32m     63\u001b[0m \u001b[0;34m\u001b[0m\u001b[0m\n\u001b[1;32m     64\u001b[0m     \u001b[0;32mdef\u001b[0m \u001b[0meval\u001b[0m\u001b[0;34m(\u001b[0m\u001b[0mcls\u001b[0m\u001b[0;34m,\u001b[0m \u001b[0mA\u001b[0m\u001b[0;34m,\u001b[0m \u001b[0mB\u001b[0m\u001b[0;34m)\u001b[0m\u001b[0;34m:\u001b[0m\u001b[0;34m\u001b[0m\u001b[0;34m\u001b[0m\u001b[0m\n",
      "\u001b[0;32m/home/alex/Escriptori/bchpy/bchpy.py\u001b[0m in \u001b[0;36meval\u001b[0;34m(cls, A, B)\u001b[0m\n\u001b[1;32m     97\u001b[0m         \u001b[0margs\u001b[0m \u001b[0;34m=\u001b[0m \u001b[0;34m[\u001b[0m\u001b[0;34m]\u001b[0m\u001b[0;34m\u001b[0m\u001b[0;34m\u001b[0m\u001b[0m\n\u001b[1;32m     98\u001b[0m         \u001b[0;32mfor\u001b[0m \u001b[0mit\u001b[0m \u001b[0;32min\u001b[0m \u001b[0mll\u001b[0m\u001b[0;34m:\u001b[0m\u001b[0;34m\u001b[0m\u001b[0;34m\u001b[0m\u001b[0m\n\u001b[0;32m---> 99\u001b[0;31m             \u001b[0melem\u001b[0m \u001b[0;34m=\u001b[0m \u001b[0msp\u001b[0m\u001b[0;34m.\u001b[0m\u001b[0mMul\u001b[0m\u001b[0;34m(\u001b[0m\u001b[0msp\u001b[0m\u001b[0;34m.\u001b[0m\u001b[0mRational\u001b[0m\u001b[0;34m(\u001b[0m\u001b[0mit\u001b[0m\u001b[0;34m[\u001b[0m\u001b[0;36m0\u001b[0m\u001b[0;34m]\u001b[0m\u001b[0;34m,\u001b[0m \u001b[0mit\u001b[0m\u001b[0;34m[\u001b[0m\u001b[0;36m1\u001b[0m\u001b[0;34m]\u001b[0m\u001b[0;34m)\u001b[0m\u001b[0;34m,\u001b[0m \u001b[0mEel\u001b[0m\u001b[0;34m(\u001b[0m\u001b[0mit\u001b[0m\u001b[0;34m[\u001b[0m\u001b[0;36m2\u001b[0m\u001b[0;34m]\u001b[0m\u001b[0;34m,\u001b[0m \u001b[0mit\u001b[0m\u001b[0;34m[\u001b[0m\u001b[0;36m3\u001b[0m\u001b[0;34m]\u001b[0m\u001b[0;34m,\u001b[0m \u001b[0mA\u001b[0m\u001b[0;34m.\u001b[0m\u001b[0mt\u001b[0m\u001b[0;34m)\u001b[0m\u001b[0;34m)\u001b[0m\u001b[0;34m\u001b[0m\u001b[0;34m\u001b[0m\u001b[0m\n\u001b[0m\u001b[1;32m    100\u001b[0m             \u001b[0margs\u001b[0m\u001b[0;34m.\u001b[0m\u001b[0mappend\u001b[0m\u001b[0;34m(\u001b[0m\u001b[0melem\u001b[0m\u001b[0;34m)\u001b[0m\u001b[0;34m\u001b[0m\u001b[0;34m\u001b[0m\u001b[0m\n\u001b[1;32m    101\u001b[0m         \u001b[0;32mreturn\u001b[0m \u001b[0msp\u001b[0m\u001b[0;34m.\u001b[0m\u001b[0mAdd\u001b[0m\u001b[0;34m(\u001b[0m\u001b[0;34m*\u001b[0m\u001b[0margs\u001b[0m\u001b[0;34m)\u001b[0m\u001b[0;34m\u001b[0m\u001b[0;34m\u001b[0m\u001b[0m\n",
      "\u001b[0;32m/home/alex/Escriptori/bchpy/bchpy.py\u001b[0m in \u001b[0;36m__new__\u001b[0;34m(cls, *args, **kwargs)\u001b[0m\n\u001b[1;32m     25\u001b[0m \u001b[0;34m\u001b[0m\u001b[0m\n\u001b[1;32m     26\u001b[0m     \u001b[0;32mdef\u001b[0m \u001b[0m__new__\u001b[0m\u001b[0;34m(\u001b[0m\u001b[0mcls\u001b[0m\u001b[0;34m,\u001b[0m \u001b[0;34m*\u001b[0m\u001b[0margs\u001b[0m\u001b[0;34m,\u001b[0m \u001b[0;34m**\u001b[0m\u001b[0mkwargs\u001b[0m\u001b[0;34m)\u001b[0m\u001b[0;34m:\u001b[0m\u001b[0;34m\u001b[0m\u001b[0;34m\u001b[0m\u001b[0m\n\u001b[0;32m---> 27\u001b[0;31m         \u001b[0margs\u001b[0m \u001b[0;34m=\u001b[0m \u001b[0mcls\u001b[0m\u001b[0;34m.\u001b[0m\u001b[0m_eval_args\u001b[0m\u001b[0;34m(\u001b[0m\u001b[0margs\u001b[0m\u001b[0;34m,\u001b[0m \u001b[0;34m**\u001b[0m\u001b[0mkwargs\u001b[0m\u001b[0;34m)\u001b[0m\u001b[0;34m\u001b[0m\u001b[0;34m\u001b[0m\u001b[0m\n\u001b[0m\u001b[1;32m     28\u001b[0m         \u001b[0;32mreturn\u001b[0m \u001b[0msp\u001b[0m\u001b[0;34m.\u001b[0m\u001b[0mExpr\u001b[0m\u001b[0;34m.\u001b[0m\u001b[0m__new__\u001b[0m\u001b[0;34m(\u001b[0m\u001b[0mcls\u001b[0m\u001b[0;34m,\u001b[0m \u001b[0;34m*\u001b[0m\u001b[0margs\u001b[0m\u001b[0;34m)\u001b[0m\u001b[0;34m\u001b[0m\u001b[0;34m\u001b[0m\u001b[0m\n\u001b[1;32m     29\u001b[0m \u001b[0;34m\u001b[0m\u001b[0m\n",
      "\u001b[0;32m/home/alex/Escriptori/bchpy/bchpy.py\u001b[0m in \u001b[0;36m_eval_args\u001b[0;34m(cls, args)\u001b[0m\n\u001b[1;32m     30\u001b[0m     \u001b[0;34m@\u001b[0m\u001b[0mclassmethod\u001b[0m\u001b[0;34m\u001b[0m\u001b[0;34m\u001b[0m\u001b[0m\n\u001b[1;32m     31\u001b[0m     \u001b[0;32mdef\u001b[0m \u001b[0m_eval_args\u001b[0m\u001b[0;34m(\u001b[0m\u001b[0mcls\u001b[0m\u001b[0;34m,\u001b[0m \u001b[0margs\u001b[0m\u001b[0;34m)\u001b[0m\u001b[0;34m:\u001b[0m\u001b[0;34m\u001b[0m\u001b[0;34m\u001b[0m\u001b[0m\n\u001b[0;32m---> 32\u001b[0;31m         \u001b[0;32mreturn\u001b[0m \u001b[0mtuple\u001b[0m\u001b[0;34m(\u001b[0m\u001b[0mTuple\u001b[0m\u001b[0;34m(\u001b[0m\u001b[0;34m*\u001b[0m\u001b[0margs\u001b[0m\u001b[0;34m)\u001b[0m\u001b[0;34m)\u001b[0m\u001b[0;34m\u001b[0m\u001b[0;34m\u001b[0m\u001b[0m\n\u001b[0m\u001b[1;32m     33\u001b[0m \u001b[0;34m\u001b[0m\u001b[0m\n\u001b[1;32m     34\u001b[0m     \u001b[0;32mdef\u001b[0m \u001b[0m__init__\u001b[0m\u001b[0;34m(\u001b[0m\u001b[0mself\u001b[0m\u001b[0;34m,\u001b[0m \u001b[0mi\u001b[0m \u001b[0;34m=\u001b[0m \u001b[0;36m1\u001b[0m\u001b[0;34m,\u001b[0m \u001b[0mj\u001b[0m \u001b[0;34m=\u001b[0m \u001b[0;36m1\u001b[0m\u001b[0;34m,\u001b[0m \u001b[0mbasis_type\u001b[0m \u001b[0;34m=\u001b[0m \u001b[0;34m\"E\"\u001b[0m\u001b[0;34m)\u001b[0m\u001b[0;34m:\u001b[0m\u001b[0;34m\u001b[0m\u001b[0;34m\u001b[0m\u001b[0m\n",
      "\u001b[0;32m/usr/lib/python3/dist-packages/sympy/core/containers.py\u001b[0m in \u001b[0;36m__new__\u001b[0;34m(cls, *args, **kwargs)\u001b[0m\n\u001b[1;32m     50\u001b[0m         \u001b[0;32mif\u001b[0m \u001b[0mkwargs\u001b[0m\u001b[0;34m.\u001b[0m\u001b[0mget\u001b[0m\u001b[0;34m(\u001b[0m\u001b[0;34m'sympify'\u001b[0m\u001b[0;34m,\u001b[0m \u001b[0;32mTrue\u001b[0m\u001b[0;34m)\u001b[0m\u001b[0;34m:\u001b[0m\u001b[0;34m\u001b[0m\u001b[0;34m\u001b[0m\u001b[0m\n\u001b[1;32m     51\u001b[0m             \u001b[0margs\u001b[0m \u001b[0;34m=\u001b[0m \u001b[0;34m(\u001b[0m \u001b[0msympify\u001b[0m\u001b[0;34m(\u001b[0m\u001b[0marg\u001b[0m\u001b[0;34m)\u001b[0m \u001b[0;32mfor\u001b[0m \u001b[0marg\u001b[0m \u001b[0;32min\u001b[0m \u001b[0margs\u001b[0m \u001b[0;34m)\u001b[0m\u001b[0;34m\u001b[0m\u001b[0;34m\u001b[0m\u001b[0m\n\u001b[0;32m---> 52\u001b[0;31m         \u001b[0mobj\u001b[0m \u001b[0;34m=\u001b[0m \u001b[0mBasic\u001b[0m\u001b[0;34m.\u001b[0m\u001b[0m__new__\u001b[0m\u001b[0;34m(\u001b[0m\u001b[0mcls\u001b[0m\u001b[0;34m,\u001b[0m \u001b[0;34m*\u001b[0m\u001b[0margs\u001b[0m\u001b[0;34m)\u001b[0m\u001b[0;34m\u001b[0m\u001b[0;34m\u001b[0m\u001b[0m\n\u001b[0m\u001b[1;32m     53\u001b[0m         \u001b[0;32mreturn\u001b[0m \u001b[0mobj\u001b[0m\u001b[0;34m\u001b[0m\u001b[0;34m\u001b[0m\u001b[0m\n\u001b[1;32m     54\u001b[0m \u001b[0;34m\u001b[0m\u001b[0m\n",
      "\u001b[0;32m/usr/lib/python3/dist-packages/sympy/core/containers.py\u001b[0m in \u001b[0;36m<genexpr>\u001b[0;34m(.0)\u001b[0m\n\u001b[1;32m     49\u001b[0m     \u001b[0;32mdef\u001b[0m \u001b[0m__new__\u001b[0m\u001b[0;34m(\u001b[0m\u001b[0mcls\u001b[0m\u001b[0;34m,\u001b[0m \u001b[0;34m*\u001b[0m\u001b[0margs\u001b[0m\u001b[0;34m,\u001b[0m \u001b[0;34m**\u001b[0m\u001b[0mkwargs\u001b[0m\u001b[0;34m)\u001b[0m\u001b[0;34m:\u001b[0m\u001b[0;34m\u001b[0m\u001b[0;34m\u001b[0m\u001b[0m\n\u001b[1;32m     50\u001b[0m         \u001b[0;32mif\u001b[0m \u001b[0mkwargs\u001b[0m\u001b[0;34m.\u001b[0m\u001b[0mget\u001b[0m\u001b[0;34m(\u001b[0m\u001b[0;34m'sympify'\u001b[0m\u001b[0;34m,\u001b[0m \u001b[0;32mTrue\u001b[0m\u001b[0;34m)\u001b[0m\u001b[0;34m:\u001b[0m\u001b[0;34m\u001b[0m\u001b[0;34m\u001b[0m\u001b[0m\n\u001b[0;32m---> 51\u001b[0;31m             \u001b[0margs\u001b[0m \u001b[0;34m=\u001b[0m \u001b[0;34m(\u001b[0m \u001b[0msympify\u001b[0m\u001b[0;34m(\u001b[0m\u001b[0marg\u001b[0m\u001b[0;34m)\u001b[0m \u001b[0;32mfor\u001b[0m \u001b[0marg\u001b[0m \u001b[0;32min\u001b[0m \u001b[0margs\u001b[0m \u001b[0;34m)\u001b[0m\u001b[0;34m\u001b[0m\u001b[0;34m\u001b[0m\u001b[0m\n\u001b[0m\u001b[1;32m     52\u001b[0m         \u001b[0mobj\u001b[0m \u001b[0;34m=\u001b[0m \u001b[0mBasic\u001b[0m\u001b[0;34m.\u001b[0m\u001b[0m__new__\u001b[0m\u001b[0;34m(\u001b[0m\u001b[0mcls\u001b[0m\u001b[0;34m,\u001b[0m \u001b[0;34m*\u001b[0m\u001b[0margs\u001b[0m\u001b[0;34m)\u001b[0m\u001b[0;34m\u001b[0m\u001b[0;34m\u001b[0m\u001b[0m\n\u001b[1;32m     53\u001b[0m         \u001b[0;32mreturn\u001b[0m \u001b[0mobj\u001b[0m\u001b[0;34m\u001b[0m\u001b[0;34m\u001b[0m\u001b[0m\n",
      "\u001b[0;32m/usr/lib/python3/dist-packages/sympy/core/sympify.py\u001b[0m in \u001b[0;36msympify\u001b[0;34m(a, locals, convert_xor, strict, rational, evaluate)\u001b[0m\n\u001b[1;32m    366\u001b[0m     \u001b[0;32mtry\u001b[0m\u001b[0;34m:\u001b[0m\u001b[0;34m\u001b[0m\u001b[0;34m\u001b[0m\u001b[0m\n\u001b[1;32m    367\u001b[0m         \u001b[0ma\u001b[0m \u001b[0;34m=\u001b[0m \u001b[0ma\u001b[0m\u001b[0;34m.\u001b[0m\u001b[0mreplace\u001b[0m\u001b[0;34m(\u001b[0m\u001b[0;34m'\\n'\u001b[0m\u001b[0;34m,\u001b[0m \u001b[0;34m''\u001b[0m\u001b[0;34m)\u001b[0m\u001b[0;34m\u001b[0m\u001b[0;34m\u001b[0m\u001b[0m\n\u001b[0;32m--> 368\u001b[0;31m         \u001b[0mexpr\u001b[0m \u001b[0;34m=\u001b[0m \u001b[0mparse_expr\u001b[0m\u001b[0;34m(\u001b[0m\u001b[0ma\u001b[0m\u001b[0;34m,\u001b[0m \u001b[0mlocal_dict\u001b[0m\u001b[0;34m=\u001b[0m\u001b[0mlocals\u001b[0m\u001b[0;34m,\u001b[0m \u001b[0mtransformations\u001b[0m\u001b[0;34m=\u001b[0m\u001b[0mtransformations\u001b[0m\u001b[0;34m,\u001b[0m \u001b[0mevaluate\u001b[0m\u001b[0;34m=\u001b[0m\u001b[0mevaluate\u001b[0m\u001b[0;34m)\u001b[0m\u001b[0;34m\u001b[0m\u001b[0;34m\u001b[0m\u001b[0m\n\u001b[0m\u001b[1;32m    369\u001b[0m     \u001b[0;32mexcept\u001b[0m \u001b[0;34m(\u001b[0m\u001b[0mTokenError\u001b[0m\u001b[0;34m,\u001b[0m \u001b[0mSyntaxError\u001b[0m\u001b[0;34m)\u001b[0m \u001b[0;32mas\u001b[0m \u001b[0mexc\u001b[0m\u001b[0;34m:\u001b[0m\u001b[0;34m\u001b[0m\u001b[0;34m\u001b[0m\u001b[0m\n\u001b[1;32m    370\u001b[0m         \u001b[0;32mraise\u001b[0m \u001b[0mSympifyError\u001b[0m\u001b[0;34m(\u001b[0m\u001b[0;34m'could not parse %r'\u001b[0m \u001b[0;34m%\u001b[0m \u001b[0ma\u001b[0m\u001b[0;34m,\u001b[0m \u001b[0mexc\u001b[0m\u001b[0;34m)\u001b[0m\u001b[0;34m\u001b[0m\u001b[0;34m\u001b[0m\u001b[0m\n",
      "\u001b[0;32m/usr/lib/python3/dist-packages/sympy/parsing/sympy_parser.py\u001b[0m in \u001b[0;36mparse_expr\u001b[0;34m(s, local_dict, transformations, global_dict, evaluate)\u001b[0m\n\u001b[1;32m    958\u001b[0m         \u001b[0mexec_\u001b[0m\u001b[0;34m(\u001b[0m\u001b[0;34m'from sympy import *'\u001b[0m\u001b[0;34m,\u001b[0m \u001b[0mglobal_dict\u001b[0m\u001b[0;34m)\u001b[0m\u001b[0;34m\u001b[0m\u001b[0;34m\u001b[0m\u001b[0m\n\u001b[1;32m    959\u001b[0m \u001b[0;34m\u001b[0m\u001b[0m\n\u001b[0;32m--> 960\u001b[0;31m     \u001b[0mcode\u001b[0m \u001b[0;34m=\u001b[0m \u001b[0mstringify_expr\u001b[0m\u001b[0;34m(\u001b[0m\u001b[0ms\u001b[0m\u001b[0;34m,\u001b[0m \u001b[0mlocal_dict\u001b[0m\u001b[0;34m,\u001b[0m \u001b[0mglobal_dict\u001b[0m\u001b[0;34m,\u001b[0m \u001b[0mtransformations\u001b[0m\u001b[0;34m)\u001b[0m\u001b[0;34m\u001b[0m\u001b[0;34m\u001b[0m\u001b[0m\n\u001b[0m\u001b[1;32m    961\u001b[0m \u001b[0;34m\u001b[0m\u001b[0m\n\u001b[1;32m    962\u001b[0m     \u001b[0;32mif\u001b[0m \u001b[0;32mnot\u001b[0m \u001b[0mevaluate\u001b[0m\u001b[0;34m:\u001b[0m\u001b[0;34m\u001b[0m\u001b[0;34m\u001b[0m\u001b[0m\n",
      "\u001b[0;32m/usr/lib/python3/dist-packages/sympy/parsing/sympy_parser.py\u001b[0m in \u001b[0;36mstringify_expr\u001b[0;34m(s, local_dict, global_dict, transformations)\u001b[0m\n\u001b[1;32m    866\u001b[0m         \u001b[0mtokens\u001b[0m \u001b[0;34m=\u001b[0m \u001b[0mtransform\u001b[0m\u001b[0;34m(\u001b[0m\u001b[0mtokens\u001b[0m\u001b[0;34m,\u001b[0m \u001b[0mlocal_dict\u001b[0m\u001b[0;34m,\u001b[0m \u001b[0mglobal_dict\u001b[0m\u001b[0;34m)\u001b[0m\u001b[0;34m\u001b[0m\u001b[0;34m\u001b[0m\u001b[0m\n\u001b[1;32m    867\u001b[0m \u001b[0;34m\u001b[0m\u001b[0m\n\u001b[0;32m--> 868\u001b[0;31m     \u001b[0;32mreturn\u001b[0m \u001b[0muntokenize\u001b[0m\u001b[0;34m(\u001b[0m\u001b[0mtokens\u001b[0m\u001b[0;34m)\u001b[0m\u001b[0;34m\u001b[0m\u001b[0;34m\u001b[0m\u001b[0m\n\u001b[0m\u001b[1;32m    869\u001b[0m \u001b[0;34m\u001b[0m\u001b[0m\n\u001b[1;32m    870\u001b[0m \u001b[0;34m\u001b[0m\u001b[0m\n",
      "\u001b[0;32m/usr/lib/python3.7/tokenize.py\u001b[0m in \u001b[0;36muntokenize\u001b[0;34m(iterable)\u001b[0m\n\u001b[1;32m    331\u001b[0m     \"\"\"\n\u001b[1;32m    332\u001b[0m     \u001b[0mut\u001b[0m \u001b[0;34m=\u001b[0m \u001b[0mUntokenizer\u001b[0m\u001b[0;34m(\u001b[0m\u001b[0;34m)\u001b[0m\u001b[0;34m\u001b[0m\u001b[0;34m\u001b[0m\u001b[0m\n\u001b[0;32m--> 333\u001b[0;31m     \u001b[0mout\u001b[0m \u001b[0;34m=\u001b[0m \u001b[0mut\u001b[0m\u001b[0;34m.\u001b[0m\u001b[0muntokenize\u001b[0m\u001b[0;34m(\u001b[0m\u001b[0miterable\u001b[0m\u001b[0;34m)\u001b[0m\u001b[0;34m\u001b[0m\u001b[0;34m\u001b[0m\u001b[0m\n\u001b[0m\u001b[1;32m    334\u001b[0m     \u001b[0;32mif\u001b[0m \u001b[0mut\u001b[0m\u001b[0;34m.\u001b[0m\u001b[0mencoding\u001b[0m \u001b[0;32mis\u001b[0m \u001b[0;32mnot\u001b[0m \u001b[0;32mNone\u001b[0m\u001b[0;34m:\u001b[0m\u001b[0;34m\u001b[0m\u001b[0;34m\u001b[0m\u001b[0m\n\u001b[1;32m    335\u001b[0m         \u001b[0mout\u001b[0m \u001b[0;34m=\u001b[0m \u001b[0mout\u001b[0m\u001b[0;34m.\u001b[0m\u001b[0mencode\u001b[0m\u001b[0;34m(\u001b[0m\u001b[0mut\u001b[0m\u001b[0;34m.\u001b[0m\u001b[0mencoding\u001b[0m\u001b[0;34m)\u001b[0m\u001b[0;34m\u001b[0m\u001b[0;34m\u001b[0m\u001b[0m\n",
      "\u001b[0;32m/usr/lib/python3.7/tokenize.py\u001b[0m in \u001b[0;36muntokenize\u001b[0;34m(self, iterable)\u001b[0m\n\u001b[1;32m    242\u001b[0m         \u001b[0;32mfor\u001b[0m \u001b[0mt\u001b[0m \u001b[0;32min\u001b[0m \u001b[0mit\u001b[0m\u001b[0;34m:\u001b[0m\u001b[0;34m\u001b[0m\u001b[0;34m\u001b[0m\u001b[0m\n\u001b[1;32m    243\u001b[0m             \u001b[0;32mif\u001b[0m \u001b[0mlen\u001b[0m\u001b[0;34m(\u001b[0m\u001b[0mt\u001b[0m\u001b[0;34m)\u001b[0m \u001b[0;34m==\u001b[0m \u001b[0;36m2\u001b[0m\u001b[0;34m:\u001b[0m\u001b[0;34m\u001b[0m\u001b[0;34m\u001b[0m\u001b[0m\n\u001b[0;32m--> 244\u001b[0;31m                 \u001b[0mself\u001b[0m\u001b[0;34m.\u001b[0m\u001b[0mcompat\u001b[0m\u001b[0;34m(\u001b[0m\u001b[0mt\u001b[0m\u001b[0;34m,\u001b[0m \u001b[0mit\u001b[0m\u001b[0;34m)\u001b[0m\u001b[0;34m\u001b[0m\u001b[0;34m\u001b[0m\u001b[0m\n\u001b[0m\u001b[1;32m    245\u001b[0m                 \u001b[0;32mbreak\u001b[0m\u001b[0;34m\u001b[0m\u001b[0;34m\u001b[0m\u001b[0m\n\u001b[1;32m    246\u001b[0m             \u001b[0mtok_type\u001b[0m\u001b[0;34m,\u001b[0m \u001b[0mtoken\u001b[0m\u001b[0;34m,\u001b[0m \u001b[0mstart\u001b[0m\u001b[0;34m,\u001b[0m \u001b[0mend\u001b[0m\u001b[0;34m,\u001b[0m \u001b[0mline\u001b[0m \u001b[0;34m=\u001b[0m \u001b[0mt\u001b[0m\u001b[0;34m\u001b[0m\u001b[0;34m\u001b[0m\u001b[0m\n",
      "\u001b[0;32m/usr/lib/python3.7/tokenize.py\u001b[0m in \u001b[0;36mcompat\u001b[0;34m(self, token, iterable)\u001b[0m\n\u001b[1;32m    281\u001b[0m         \u001b[0;32mfor\u001b[0m \u001b[0mtok\u001b[0m \u001b[0;32min\u001b[0m \u001b[0mchain\u001b[0m\u001b[0;34m(\u001b[0m\u001b[0;34m[\u001b[0m\u001b[0mtoken\u001b[0m\u001b[0;34m]\u001b[0m\u001b[0;34m,\u001b[0m \u001b[0miterable\u001b[0m\u001b[0;34m)\u001b[0m\u001b[0;34m:\u001b[0m\u001b[0;34m\u001b[0m\u001b[0;34m\u001b[0m\u001b[0m\n\u001b[1;32m    282\u001b[0m             \u001b[0mtoknum\u001b[0m\u001b[0;34m,\u001b[0m \u001b[0mtokval\u001b[0m \u001b[0;34m=\u001b[0m \u001b[0mtok\u001b[0m\u001b[0;34m[\u001b[0m\u001b[0;34m:\u001b[0m\u001b[0;36m2\u001b[0m\u001b[0;34m]\u001b[0m\u001b[0;34m\u001b[0m\u001b[0;34m\u001b[0m\u001b[0m\n\u001b[0;32m--> 283\u001b[0;31m             \u001b[0;32mif\u001b[0m \u001b[0mtoknum\u001b[0m \u001b[0;34m==\u001b[0m \u001b[0mENCODING\u001b[0m\u001b[0;34m:\u001b[0m\u001b[0;34m\u001b[0m\u001b[0;34m\u001b[0m\u001b[0m\n\u001b[0m\u001b[1;32m    284\u001b[0m                 \u001b[0mself\u001b[0m\u001b[0;34m.\u001b[0m\u001b[0mencoding\u001b[0m \u001b[0;34m=\u001b[0m \u001b[0mtokval\u001b[0m\u001b[0;34m\u001b[0m\u001b[0;34m\u001b[0m\u001b[0m\n\u001b[1;32m    285\u001b[0m                 \u001b[0;32mcontinue\u001b[0m\u001b[0;34m\u001b[0m\u001b[0;34m\u001b[0m\u001b[0m\n",
      "\u001b[0;31mKeyboardInterrupt\u001b[0m: "
     ]
    }
   ],
   "source": [
    "C = K\n",
    "esq = K\n",
    "fact = 1\n",
    "for i in range(1, ord_bch + 1):\n",
    "    fact = fact * i\n",
    "    C = Corxet(P, C)\n",
    "    esq += C/fact"
   ]
  },
  {
   "cell_type": "markdown",
   "metadata": {},
   "source": [
    "Càlcul general de les formules recursives"
   ]
  },
  {
   "cell_type": "code",
   "execution_count": null,
   "metadata": {},
   "outputs": [],
   "source": [
    "metPr2 = Metode(ord_bch, base)\n",
    "metPr2.importFromExpr(esq)\n",
    "display(Latex(\"$$\\n\" + sp.latex(metPr2) + \"\\n$$\"))"
   ]
  },
  {
   "cell_type": "markdown",
   "metadata": {},
   "source": [
    "Càlcul suposant que el nucli compleix la condició de concistència"
   ]
  },
  {
   "cell_type": "code",
   "execution_count": null,
   "metadata": {},
   "outputs": [],
   "source": [
    "P=p[1, 1]*Eel(1, 1, base)\n",
    "K=Eel(1, 1, base)\n",
    "if base == \"E\":\n",
    "    P += p[1, 2]*Eel(1, 2, base)\n",
    "    K += Eel(1, 2, base)\n",
    "for i in range(1, ord_bch):\n",
    "    for j in range(tams[i]):\n",
    "        P += p[i + 1, j + 1]*Eel(i + 1, j + 1, base)\n",
    "        K += k[i + 1, j + 1]*Eel(i + 1, j + 1, base)\n",
    "C = K\n",
    "esq = K\n",
    "fact = 1\n",
    "for i in range(1, ord_bch + 1):\n",
    "    fact = fact * i\n",
    "    C = Corxet(P, C)\n",
    "    esq += C/fact\n",
    "metPr3 = Metode(ord_bch, base)\n",
    "metPr3.importFromExpr(esq)\n",
    "display(Latex(\"$$\\n\" + sp.latex(metPr3) + \"\\n$$\"))"
   ]
  },
  {
   "cell_type": "markdown",
   "metadata": {},
   "source": [
    "Càlcul sabent que el nucli ha de ser simètric"
   ]
  },
  {
   "cell_type": "code",
   "execution_count": null,
   "metadata": {},
   "outputs": [],
   "source": [
    "P=p[1, 1]*Eel(1, 1, base)\n",
    "K=Eel(1, 1, base)\n",
    "if base == \"E\":\n",
    "    P += p[1, 2]*Eel(1, 2, base)\n",
    "    K += Eel(1, 2, base)\n",
    "for i in range(1, ord_bch):\n",
    "    for j in range(tams[i]):\n",
    "        P += p[i + 1, j + 1]*Eel(i + 1, j + 1, base)\n",
    "        if i % 2 == 0:\n",
    "            K += k[i + 1, j + 1]*Eel(i + 1, j + 1, base)\n",
    "C = K\n",
    "esq = K\n",
    "fact = 1\n",
    "for i in range(1, ord_bch + 1):\n",
    "    fact = fact * i\n",
    "    C = Corxet(P, C)\n",
    "    esq += C/fact\n",
    "metPr4 = Metode(ord_bch, base)\n",
    "metPr4.importFromExpr(esq)\n",
    "display(Latex(\"$$\\n\" + sp.latex(metPr4) + \"\\n$$\"))"
   ]
  },
  {
   "cell_type": "markdown",
   "metadata": {},
   "source": [
    "Càlcul sabent que el mètode final serà temps-simètric"
   ]
  },
  {
   "cell_type": "code",
   "execution_count": 4,
   "metadata": {},
   "outputs": [
    {
     "data": {
      "text/latex": [
       "$$\n",
       "\\begin{align}\n",
       "\\omega_{1,1} &= 1\\\\ \n",
       "\\omega_{1,2} &= 1\\\\ \n",
       "\\omega_{2,1} &= 0\\\\ \n",
       "\\omega_{3,1} &= k_{3, 1} - p_{2, 1}\\\\ \n",
       "\\omega_{3,2} &= k_{3, 2} - p_{2, 1}\\\\ \n",
       "\\omega_{4,1} &= 0\\\\ \n",
       "\\omega_{4,2} &= 0\\\\ \n",
       "\\omega_{4,3} &= 0\\\\ \n",
       "\\omega_{5,1} &= k_{5, 1} - p_{4, 1}\\\\ \n",
       "\\omega_{5,2} &= - k_{3, 1} p_{2, 1} + k_{5, 2} + \\frac{p_{2, 1}^{2}}{2} - p_{4, 1}\\\\ \n",
       "\\omega_{5,3} &= - k_{3, 1} p_{2, 1} + k_{5, 3} + \\frac{p_{2, 1}^{2}}{2} + p_{4, 2}\\\\ \n",
       "\\omega_{5,4} &= - k_{3, 2} p_{2, 1} + k_{5, 4} + \\frac{p_{2, 1}^{2}}{2} - p_{4, 2}\\\\ \n",
       "\\omega_{5,5} &= - k_{3, 2} p_{2, 1} + k_{5, 5} + \\frac{p_{2, 1}^{2}}{2} - p_{4, 3}\\\\ \n",
       "\\omega_{5,6} &= k_{5, 6} - p_{4, 3}\\\\ \n",
       "\\omega_{6,1} &= 0\\\\ \n",
       "\\omega_{6,2} &= 0\\\\ \n",
       "\\omega_{6,3} &= 0\\\\ \n",
       "\\omega_{6,4} &= 0\\\\ \n",
       "\\omega_{6,5} &= 0\\\\ \n",
       "\\omega_{6,6} &= 0\\\\ \n",
       "\\omega_{6,7} &= 0\\\\ \n",
       "\\omega_{6,8} &= 0\\\\ \n",
       "\\omega_{6,9} &= 0\\\\ \n",
       "\\omega_{7,1} &= k_{7, 1} - p_{6, 1}\\\\ \n",
       "\\omega_{7,2} &= - k_{3, 1} p_{4, 1} - k_{5, 1} p_{2, 1} + k_{7, 2} + p_{2, 1} p_{4, 1} - p_{6, 1}\\\\ \n",
       "\\omega_{7,3} &= 2 k_{3, 1} p_{4, 1} + k_{5, 1} p_{2, 1} + k_{7, 3} - \\frac{3 p_{2, 1} p_{4, 1}}{2} - p_{6, 2}\\\\ \n",
       "\\omega_{7,4} &= \\frac{k_{3, 1} p_{2, 1}^{2}}{2} + k_{3, 1} p_{4, 2} + k_{3, 2} p_{4, 1} - k_{5, 3} p_{2, 1} + k_{7, 4} - \\frac{p_{2, 1}^{3}}{6} - \\frac{p_{2, 1} p_{4, 1}}{2} - p_{2, 1} p_{4, 2} - p_{6, 2}\\\\ \n",
       "\\omega_{7,5} &= - k_{3, 1} p_{4, 1} + k_{7, 5} + \\frac{p_{2, 1} p_{4, 1}}{2} - p_{6, 3}\\\\ \n",
       "\\omega_{7,6} &= - \\frac{k_{3, 1} p_{2, 1}^{2}}{2} - 2 k_{3, 1} p_{4, 2} - 2 k_{3, 2} p_{4, 1} - k_{5, 2} p_{2, 1} + 2 k_{5, 3} p_{2, 1} + k_{7, 6} + \\frac{p_{2, 1}^{3}}{6} + \\frac{3 p_{2, 1} p_{4, 1}}{2} + 2 p_{2, 1} p_{4, 2} - p_{6, 3}\\\\ \n",
       "\\omega_{7,7} &= \\frac{k_{3, 1} p_{2, 1}^{2}}{2} + k_{3, 1} p_{4, 2} - k_{5, 3} p_{2, 1} + k_{7, 7} - \\frac{p_{2, 1}^{3}}{6} - p_{2, 1} p_{4, 2} - p_{6, 4}\\\\ \n",
       "\\omega_{7,8} &= \\frac{k_{3, 2} p_{2, 1}^{2}}{2} - k_{3, 2} p_{4, 2} - k_{5, 4} p_{2, 1} + k_{7, 8} - \\frac{p_{2, 1}^{3}}{6} + p_{2, 1} p_{4, 2} - p_{6, 4}\\\\ \n",
       "\\omega_{7,9} &= - \\frac{k_{3, 1} p_{2, 1}^{2}}{3} + \\frac{2 k_{3, 1} p_{4, 2}}{3} + k_{3, 2} p_{4, 1} + k_{5, 2} p_{2, 1} - \\frac{k_{5, 3} p_{2, 1}}{3} + k_{7, 9} + \\frac{p_{2, 1}^{3}}{9} - p_{2, 1} p_{4, 1} - \\frac{p_{2, 1} p_{4, 2}}{2} - p_{6, 5}\\\\ \n",
       "\\omega_{7,10} &= \\frac{k_{3, 2} p_{4, 2}}{3} + k_{7, 10} - \\frac{p_{2, 1} p_{4, 2}}{6} - p_{6, 5}\\\\ \n",
       "\\omega_{7,11} &= \\frac{k_{3, 1} p_{2, 1}^{2}}{6} + \\frac{2 k_{3, 1} p_{4, 2}}{3} - \\frac{k_{5, 3} p_{2, 1}}{3} + k_{7, 11} - \\frac{p_{2, 1}^{3}}{18} - \\frac{p_{2, 1} p_{4, 2}}{2} - p_{6, 6}\\\\ \n",
       "\\omega_{7,12} &= - k_{3, 1} p_{4, 3} + \\frac{k_{3, 2} p_{2, 1}^{2}}{2} + \\frac{k_{3, 2} p_{4, 2}}{3} - k_{5, 5} p_{2, 1} + k_{7, 12} - \\frac{p_{2, 1}^{3}}{6} - \\frac{p_{2, 1} p_{4, 2}}{6} + p_{2, 1} p_{4, 3} - p_{6, 6}\\\\ \n",
       "\\omega_{7,13} &= 2 k_{3, 1} p_{4, 3} + \\frac{k_{3, 2} p_{2, 1}^{2}}{2} - 2 k_{3, 2} p_{4, 2} - 2 k_{5, 4} p_{2, 1} + k_{5, 5} p_{2, 1} + k_{7, 13} - \\frac{p_{2, 1}^{3}}{6} + 2 p_{2, 1} p_{4, 2} - \\frac{3 p_{2, 1} p_{4, 3}}{2} - p_{6, 7}\\\\ \n",
       "\\omega_{7,14} &= k_{3, 2} p_{4, 3} + k_{7, 14} - \\frac{p_{2, 1} p_{4, 3}}{2} - p_{6, 7}\\\\ \n",
       "\\omega_{7,15} &= - k_{3, 1} p_{4, 3} - \\frac{k_{3, 2} p_{2, 1}^{2}}{2} + k_{3, 2} p_{4, 2} + k_{5, 4} p_{2, 1} + k_{7, 15} + \\frac{p_{2, 1}^{3}}{6} - p_{2, 1} p_{4, 2} + \\frac{p_{2, 1} p_{4, 3}}{2} - p_{6, 8}\\\\ \n",
       "\\omega_{7,16} &= - 2 k_{3, 2} p_{4, 3} - k_{5, 6} p_{2, 1} + k_{7, 16} + \\frac{3 p_{2, 1} p_{4, 3}}{2} - p_{6, 8}\\\\ \n",
       "\\omega_{7,17} &= k_{3, 2} p_{4, 3} + k_{5, 6} p_{2, 1} + k_{7, 17} - p_{2, 1} p_{4, 3} - p_{6, 9}\\\\ \n",
       "\\omega_{7,18} &= k_{7, 18} - p_{6, 9}\\\\ \n",
       "\\omega_{8,1} &= 0\\\\ \n",
       "\\omega_{8,2} &= 0\\\\ \n",
       "\\omega_{8,3} &= 0\\\\ \n",
       "\\omega_{8,4} &= 0\\\\ \n",
       "\\omega_{8,5} &= 0\\\\ \n",
       "\\omega_{8,6} &= 0\\\\ \n",
       "\\omega_{8,7} &= 0\\\\ \n",
       "\\omega_{8,8} &= 0\\\\ \n",
       "\\omega_{8,9} &= 0\\\\ \n",
       "\\omega_{8,10} &= 0\\\\ \n",
       "\\omega_{8,11} &= 0\\\\ \n",
       "\\omega_{8,12} &= 0\\\\ \n",
       "\\omega_{8,13} &= 0\\\\ \n",
       "\\omega_{8,14} &= 0\\\\ \n",
       "\\omega_{8,15} &= 0\\\\ \n",
       "\\omega_{8,16} &= 0\\\\ \n",
       "\\omega_{8,17} &= 0\\\\ \n",
       "\\omega_{8,18} &= 0\\\\ \n",
       "\\omega_{8,19} &= 0\\\\ \n",
       "\\omega_{8,20} &= 0\\\\ \n",
       "\\omega_{8,21} &= 0\\\\ \n",
       "\\omega_{8,22} &= 0\\\\ \n",
       "\\omega_{8,23} &= 0\\\\ \n",
       "\\omega_{8,24} &= 0\\\\ \n",
       "\\omega_{8,25} &= 0\\\\ \n",
       "\\omega_{8,26} &= 0\\\\ \n",
       "\\omega_{8,27} &= 0\\\\ \n",
       "\\omega_{8,28} &= 0\\\\ \n",
       "\\omega_{8,29} &= 0\\\\ \n",
       "\\omega_{8,30} &= 0\\\\ \n",
       "\\omega_{9,1} &= k_{9, 1} - p_{8, 1}\\\\ \n",
       "\\omega_{9,2} &= - k_{3, 1} p_{6, 1} - k_{5, 1} p_{4, 1} - k_{7, 1} p_{2, 1} + k_{9, 2} + p_{2, 1} p_{6, 1} + \\frac{p_{4, 1}^{2}}{2} - p_{8, 1}\\\\ \n",
       "\\omega_{9,3} &= 2 k_{3, 1} p_{6, 1} + 3 k_{5, 1} p_{4, 1} + k_{7, 1} p_{2, 1} + k_{9, 3} - \\frac{3 p_{2, 1} p_{6, 1}}{2} - \\frac{3 p_{4, 1}^{2}}{2} - p_{8, 2}\\\\ \n",
       "\\omega_{9,4} &= \\frac{3 k_{3, 1} p_{2, 1} p_{4, 1}}{2} - k_{3, 1} p_{6, 3} + k_{3, 2} p_{6, 1} + k_{5, 1} p_{4, 2} - \\frac{13 k_{5, 2} p_{4, 1}}{4} + \\frac{5 k_{5, 3} p_{4, 1}}{4} - k_{7, 5} p_{2, 1} + k_{9, 4} - \\frac{p_{2, 1}^{2} p_{4, 1}}{2} - \\frac{p_{2, 1} p_{6, 1}}{2} + p_{2, 1} p_{6, 3} + \\frac{13 p_{4, 1}^{2}}{8} + \\frac{p_{4, 1} p_{4, 2}}{8} - p_{8, 2} + \\frac{9 p_{8, 16}}{4}\\\\ \n",
       "\\omega_{9,5} &= - k_{3, 1} p_{6, 1} - 3 k_{5, 1} p_{4, 1} + k_{9, 5} + \\frac{p_{2, 1} p_{6, 1}}{2} + \\frac{3 p_{4, 1}^{2}}{2} - p_{8, 3}\\\\ \n",
       "\\omega_{9,6} &= - \\frac{7 k_{3, 1} p_{2, 1} p_{4, 1}}{2} + 3 k_{3, 1} p_{6, 3} - 2 k_{3, 2} p_{6, 1} + \\frac{k_{5, 1} p_{2, 1}^{2}}{2} - 2 k_{5, 1} p_{4, 2} + 9 k_{5, 2} p_{4, 1} - 4 k_{5, 3} p_{4, 1} - k_{7, 2} p_{2, 1} + 3 k_{7, 5} p_{2, 1} + k_{9, 6} + p_{2, 1}^{2} p_{4, 1} + \\frac{3 p_{2, 1} p_{6, 1}}{2} - 3 p_{2, 1} p_{6, 3} - \\frac{9 p_{4, 1}^{2}}{2} - p_{4, 1} p_{4, 2} - p_{8, 3} - 6 p_{8, 16}\\\\ \n",
       "\\omega_{9,7} &= - k_{3, 1} p_{2, 1} p_{4, 1} + k_{3, 2} p_{6, 1} - \\frac{k_{5, 1} p_{2, 1}^{2}}{2} + k_{5, 2} p_{4, 1} + k_{7, 2} p_{2, 1} + k_{9, 7} + \\frac{p_{2, 1}^{2} p_{4, 1}}{2} - p_{2, 1} p_{6, 1} - \\frac{p_{4, 1}^{2}}{2} - p_{8, 4} - p_{8, 16}\\\\ \n",
       "\\omega_{9,8} &= \\frac{k_{3, 1} p_{2, 1}^{3}}{36} + \\frac{2 k_{3, 1} p_{2, 1} p_{4, 2}}{3} + 2 k_{3, 1} p_{6, 6} + k_{5, 1} p_{4, 3} - \\frac{k_{5, 3} p_{2, 1}^{2}}{12} - k_{5, 3} p_{4, 2} - k_{5, 4} p_{4, 1} + k_{5, 5} p_{4, 1} + \\frac{k_{7, 11} p_{2, 1}}{2} + k_{9, 8} - \\frac{p_{2, 1}^{4}}{144} - \\frac{p_{2, 1}^{2} p_{4, 2}}{4} - \\frac{5 p_{2, 1} p_{6, 6}}{4} + \\frac{p_{4, 1} p_{4, 2}}{2} - p_{4, 1} p_{4, 3} - \\frac{p_{4, 2}^{2}}{2} - p_{8, 4} - \\frac{3 p_{8, 20}}{2}\\\\ \n",
       "\\omega_{9,9} &= k_{5, 1} p_{4, 1} + k_{9, 9} - \\frac{p_{4, 1}^{2}}{2} - p_{8, 5}\\\\ \n",
       "\\omega_{9,10} &= 2 k_{3, 1} p_{2, 1} p_{4, 1} - k_{3, 1} p_{6, 2} - 3 k_{3, 1} p_{6, 3} - \\frac{k_{5, 1} p_{2, 1}^{2}}{2} - \\frac{27 k_{5, 2} p_{4, 1}}{4} + \\frac{15 k_{5, 3} p_{4, 1}}{4} - k_{7, 3} p_{2, 1} - 3 k_{7, 5} p_{2, 1} + k_{9, 10} - \\frac{p_{2, 1}^{2} p_{4, 1}}{2} + p_{2, 1} p_{6, 2} + 3 p_{2, 1} p_{6, 3} + \\frac{27 p_{4, 1}^{2}}{8} + \\frac{15 p_{4, 1} p_{4, 2}}{8} - p_{8, 5} + \\frac{15 p_{8, 16}}{4}\\\\ \n",
       "\\omega_{9,11} &= 3 k_{3, 1} p_{2, 1} p_{4, 1} + 2 k_{3, 1} p_{6, 2} + \\frac{k_{5, 1} p_{2, 1}^{2}}{2} + 2 k_{5, 1} p_{4, 2} - \\frac{11 k_{5, 2} p_{4, 1}}{2} + \\frac{3 k_{5, 3} p_{4, 1}}{2} + k_{7, 3} p_{2, 1} + k_{9, 11} - \\frac{7 p_{2, 1}^{2} p_{4, 1}}{6} - \\frac{3 p_{2, 1} p_{6, 2}}{2} + \\frac{11 p_{4, 1}^{2}}{4} - \\frac{p_{4, 1} p_{4, 2}}{4} - p_{8, 6} + \\frac{11 p_{8, 16}}{2}\\\\ \n",
       "\\omega_{9,12} &= - \\frac{k_{3, 1} p_{2, 1}^{3}}{9} - \\frac{13 k_{3, 1} p_{2, 1} p_{4, 2}}{6} - 5 k_{3, 1} p_{6, 6} + \\frac{k_{3, 2} p_{2, 1} p_{4, 1}}{2} + k_{3, 2} p_{6, 2} - 3 k_{5, 1} p_{4, 3} + \\frac{k_{5, 3} p_{2, 1}^{2}}{3} + 3 k_{5, 3} p_{4, 2} + 2 k_{5, 4} p_{4, 1} - 3 k_{5, 5} p_{4, 1} - 2 k_{7, 11} p_{2, 1} + k_{9, 12} + \\frac{p_{2, 1}^{4}}{36} - \\frac{p_{2, 1}^{2} p_{4, 1}}{6} + \\frac{5 p_{2, 1}^{2} p_{4, 2}}{6} - \\frac{p_{2, 1} p_{6, 2}}{2} + \\frac{7 p_{2, 1} p_{6, 6}}{2} - p_{4, 1} p_{4, 2} + 3 p_{4, 1} p_{4, 3} + \\frac{3 p_{4, 2}^{2}}{2} - p_{8, 6} + 3 p_{8, 20}\\\\ \n",
       "\\omega_{9,13} &= - \\frac{k_{3, 1} p_{2, 1} p_{4, 1}}{2} - k_{3, 1} p_{6, 2} - k_{5, 1} p_{4, 2} + \\frac{9 k_{5, 2} p_{4, 1}}{4} - \\frac{5 k_{5, 3} p_{4, 1}}{4} + k_{9, 13} + \\frac{p_{2, 1}^{2} p_{4, 1}}{6} + \\frac{p_{2, 1} p_{6, 2}}{2} - \\frac{9 p_{4, 1}^{2}}{8} - \\frac{p_{4, 1} p_{4, 2}}{8} - p_{8, 7} - \\frac{9 p_{8, 16}}{4}\\\\ \n",
       "\\omega_{9,14} &= \\frac{3 k_{3, 1} p_{2, 1} p_{4, 2}}{2} + 3 k_{3, 1} p_{6, 6} - 2 k_{3, 2} p_{2, 1} p_{4, 1} - 2 k_{3, 2} p_{6, 2} + 3 k_{5, 1} p_{4, 3} - 2 k_{5, 3} p_{4, 2} + 3 k_{5, 5} p_{4, 1} - k_{7, 4} p_{2, 1} + 3 k_{7, 11} p_{2, 1} + k_{9, 14} + \\frac{2 p_{2, 1}^{2} p_{4, 1}}{3} - \\frac{p_{2, 1}^{2} p_{4, 2}}{2} + \\frac{3 p_{2, 1} p_{6, 2}}{2} - 3 p_{2, 1} p_{6, 6} - 3 p_{4, 1} p_{4, 3} - p_{4, 2}^{2} - p_{8, 7}\\\\ \n",
       "\\omega_{9,15} &= \\frac{k_{3, 1} p_{2, 1}^{3}}{12} - \\frac{k_{3, 1} p_{2, 1} p_{4, 2}}{2} - 3 k_{3, 1} p_{6, 6} + \\frac{3 k_{3, 2} p_{2, 1} p_{4, 1}}{2} + k_{3, 2} p_{6, 2} - k_{5, 1} p_{4, 3} - \\frac{k_{5, 3} p_{2, 1}^{2}}{4} + k_{5, 3} p_{4, 2} - 2 k_{5, 5} p_{4, 1} + k_{7, 4} p_{2, 1} - \\frac{3 k_{7, 11} p_{2, 1}}{2} + k_{9, 15} - \\frac{p_{2, 1}^{4}}{48} - \\frac{p_{2, 1}^{2} p_{4, 1}}{2} + \\frac{p_{2, 1}^{2} p_{4, 2}}{12} - p_{2, 1} p_{6, 2} + \\frac{9 p_{2, 1} p_{6, 6}}{4} + \\frac{3 p_{4, 1} p_{4, 3}}{2} + \\frac{p_{4, 2}^{2}}{2} - p_{8, 8} + \\frac{3 p_{8, 20}}{2}\\\\ \n",
       "\\omega_{9,16} &= - k_{3, 1} p_{2, 1} p_{4, 3} - \\frac{k_{3, 2} p_{2, 1}^{3}}{6} + k_{3, 2} p_{2, 1} p_{4, 2} + k_{5, 3} p_{4, 3} + \\frac{k_{5, 4} p_{2, 1}^{2}}{2} - k_{5, 4} p_{4, 2} - k_{5, 6} p_{4, 1} + k_{7, 15} p_{2, 1} + k_{9, 16} + \\frac{p_{2, 1}^{4}}{24} - \\frac{p_{2, 1}^{2} p_{4, 2}}{2} + \\frac{p_{2, 1}^{2} p_{4, 3}}{3} - \\frac{p_{2, 1} p_{6, 8}}{2} + \\frac{p_{4, 1} p_{4, 3}}{2} + \\frac{p_{4, 2}^{2}}{2} + \\frac{p_{4, 2} p_{4, 3}}{2} - p_{8, 8} - p_{8, 27}\\\\ \n",
       "\\omega_{9,17} &= - 2 k_{3, 1} p_{2, 1} p_{4, 1} + 2 k_{3, 1} p_{6, 3} + 7 k_{5, 2} p_{4, 1} - 4 k_{5, 3} p_{4, 1} + k_{7, 5} p_{2, 1} + k_{9, 17} + \\frac{2 p_{2, 1}^{2} p_{4, 1}}{3} - \\frac{3 p_{2, 1} p_{6, 3}}{2} - \\frac{7 p_{4, 1}^{2}}{2} - 2 p_{4, 1} p_{4, 2} - p_{8, 9} - 4 p_{8, 16}\\\\ \n",
       "\\omega_{9,18} &= \\frac{k_{3, 1} p_{2, 1}^{3}}{36} + \\frac{k_{3, 1} p_{2, 1} p_{4, 2}}{6} - k_{3, 1} p_{6, 6} - \\frac{k_{3, 2} p_{2, 1} p_{4, 1}}{2} + k_{3, 2} p_{6, 3} + k_{5, 2} p_{4, 2} - \\frac{k_{5, 3} p_{2, 1}^{2}}{12} - k_{5, 3} p_{4, 2} + k_{5, 4} p_{4, 1} + \\frac{k_{7, 11} p_{2, 1}}{2} + k_{9, 18} - \\frac{p_{2, 1}^{4}}{144} + \\frac{p_{2, 1}^{2} p_{4, 1}}{6} - \\frac{p_{2, 1}^{2} p_{4, 2}}{12} - \\frac{p_{2, 1} p_{6, 3}}{2} + \\frac{p_{2, 1} p_{6, 6}}{4} - p_{4, 1} p_{4, 2} - \\frac{p_{4, 2}^{2}}{2} - p_{8, 9} + \\frac{3 p_{8, 20}}{2}\\\\ \n",
       "\\omega_{9,19} &= \\frac{k_{3, 1} p_{2, 1} p_{4, 1}}{2} - k_{3, 1} p_{6, 3} - 4 k_{5, 2} p_{4, 1} + 3 k_{5, 3} p_{4, 1} + k_{9, 19} - \\frac{p_{2, 1}^{2} p_{4, 1}}{6} + \\frac{p_{2, 1} p_{6, 3}}{2} + 2 p_{4, 1}^{2} + \\frac{3 p_{4, 1} p_{4, 2}}{2} - p_{8, 10} + p_{8, 16}\\\\ \n",
       "\\omega_{9,20} &= \\frac{k_{3, 1} p_{2, 1}^{3}}{18} + \\frac{4 k_{3, 1} p_{2, 1} p_{4, 2}}{3} + 4 k_{3, 1} p_{6, 6} + 3 k_{3, 2} p_{2, 1} p_{4, 1} - 2 k_{3, 2} p_{6, 3} + \\frac{k_{5, 2} p_{2, 1}^{2}}{2} - 2 k_{5, 2} p_{4, 2} - \\frac{2 k_{5, 3} p_{2, 1}^{2}}{3} - 4 k_{5, 4} p_{4, 1} - k_{7, 6} p_{2, 1} - 2 k_{7, 11} p_{2, 1} + k_{9, 20} - \\frac{p_{2, 1}^{4}}{72} - \\frac{7 p_{2, 1}^{2} p_{4, 1}}{6} - \\frac{2 p_{2, 1}^{2} p_{4, 2}}{3} + \\frac{3 p_{2, 1} p_{6, 3}}{2} - p_{2, 1} p_{6, 6} + 3 p_{4, 1} p_{4, 2} - p_{8, 10} - 6 p_{8, 20}\\\\ \n",
       "\\omega_{9,21} &= k_{3, 1} p_{2, 1} p_{4, 2} + 6 k_{3, 1} p_{6, 6} - \\frac{5 k_{3, 2} p_{2, 1} p_{4, 1}}{2} + k_{3, 2} p_{6, 3} - \\frac{k_{5, 2} p_{2, 1}^{2}}{2} + \\frac{k_{5, 3} p_{2, 1}^{2}}{2} - 2 k_{5, 3} p_{4, 2} + 3 k_{5, 5} p_{4, 1} + k_{7, 6} p_{2, 1} + 3 k_{7, 11} p_{2, 1} + k_{9, 21} + p_{2, 1}^{2} p_{4, 1} - \\frac{p_{2, 1}^{2} p_{4, 2}}{6} - p_{2, 1} p_{6, 3} - \\frac{9 p_{2, 1} p_{6, 6}}{2} - \\frac{3 p_{4, 1} p_{4, 3}}{2} - p_{4, 2}^{2} - p_{8, 11} - 3 p_{8, 20}\\\\ \n",
       "\\omega_{9,22} &= \\frac{3 k_{3, 1} p_{2, 1} p_{4, 3}}{2} + k_{3, 1} p_{6, 7} + 2 k_{3, 1} p_{6, 8} + \\frac{k_{3, 2} p_{2, 1}^{3}}{6} - 2 k_{3, 2} p_{2, 1} p_{4, 2} + k_{5, 2} p_{4, 3} - 2 k_{5, 3} p_{4, 3} - k_{5, 4} p_{2, 1}^{2} + 2 k_{5, 4} p_{4, 2} + \\frac{k_{5, 5} p_{2, 1}^{2}}{2} + 4 k_{5, 6} p_{4, 1} + k_{7, 13} p_{2, 1} + k_{9, 22} - \\frac{p_{2, 1}^{4}}{24} + p_{2, 1}^{2} p_{4, 2} - \\frac{2 p_{2, 1}^{2} p_{4, 3}}{3} - p_{2, 1} p_{6, 7} - p_{2, 1} p_{6, 8} - \\frac{5 p_{4, 1} p_{4, 3}}{2} - p_{4, 2}^{2} - p_{4, 2} p_{4, 3} - p_{8, 11} + 2 p_{8, 27}\\\\ \n",
       "\\omega_{9,23} &= \\frac{k_{5, 2} p_{4, 1}}{4} - \\frac{k_{5, 3} p_{4, 1}}{4} + k_{9, 23} - \\frac{p_{4, 1}^{2}}{8} - \\frac{p_{4, 1} p_{4, 2}}{8} - p_{8, 12} - \\frac{p_{8, 16}}{4}\\\\ \n",
       "\\omega_{9,24} &= - \\frac{5 k_{3, 1} p_{2, 1}^{3}}{36} - \\frac{5 k_{3, 1} p_{2, 1} p_{4, 2}}{6} - k_{3, 1} p_{6, 4} - k_{3, 1} p_{6, 6} + \\frac{5 k_{5, 3} p_{2, 1}^{2}}{12} + k_{5, 3} p_{4, 2} - k_{7, 7} p_{2, 1} + \\frac{k_{7, 11} p_{2, 1}}{2} + k_{9, 24} + \\frac{5 p_{2, 1}^{4}}{144} + \\frac{5 p_{2, 1}^{2} p_{4, 2}}{12} + p_{2, 1} p_{6, 4} + \\frac{p_{2, 1} p_{6, 6}}{4} + \\frac{p_{4, 2}^{2}}{2} - p_{8, 12} + \\frac{3 p_{8, 20}}{2}\\\\ \n",
       "\\omega_{9,25} &= \\frac{k_{3, 1} p_{2, 1}^{3}}{4} + \\frac{5 k_{3, 1} p_{2, 1} p_{4, 2}}{2} + 2 k_{3, 1} p_{6, 4} + 3 k_{3, 1} p_{6, 6} - \\frac{3 k_{5, 3} p_{2, 1}^{2}}{4} - 3 k_{5, 3} p_{4, 2} + k_{7, 7} p_{2, 1} + \\frac{3 k_{7, 11} p_{2, 1}}{2} + k_{9, 25} - \\frac{p_{2, 1}^{4}}{16} - \\frac{13 p_{2, 1}^{2} p_{4, 2}}{12} - \\frac{3 p_{2, 1} p_{6, 4}}{2} - \\frac{9 p_{2, 1} p_{6, 6}}{4} - \\frac{3 p_{4, 2}^{2}}{2} - p_{8, 13} - \\frac{3 p_{8, 20}}{2}\\\\ \n",
       "\\omega_{9,26} &= - \\frac{5 k_{3, 1} p_{2, 1} p_{4, 3}}{2} + 2 k_{3, 1} p_{6, 7} + 3 k_{3, 1} p_{6, 8} - \\frac{2 k_{3, 2} p_{2, 1}^{3}}{3} + 2 k_{3, 2} p_{2, 1} p_{4, 2} + k_{3, 2} p_{6, 4} + 3 k_{5, 3} p_{4, 3} + k_{5, 4} p_{2, 1}^{2} - 2 k_{5, 4} p_{4, 2} + k_{5, 5} p_{2, 1}^{2} + 2 k_{7, 13} p_{2, 1} + 6 k_{7, 15} p_{2, 1} + k_{9, 26} + \\frac{p_{2, 1}^{4}}{6} - p_{2, 1}^{2} p_{4, 2} + \\frac{p_{2, 1}^{2} p_{4, 3}}{2} - \\frac{p_{2, 1} p_{6, 4}}{2} - 2 p_{2, 1} p_{6, 7} - \\frac{9 p_{2, 1} p_{6, 8}}{2} + p_{4, 2}^{2} + \\frac{3 p_{4, 2} p_{4, 3}}{2} - p_{8, 13} - 3 p_{8, 27}\\\\ \n",
       "\\omega_{9,27} &= - \\frac{k_{3, 1} p_{2, 1}^{3}}{12} - \\frac{3 k_{3, 1} p_{2, 1} p_{4, 2}}{2} - k_{3, 1} p_{6, 4} - 3 k_{3, 1} p_{6, 6} + \\frac{k_{5, 3} p_{2, 1}^{2}}{4} + 2 k_{5, 3} p_{4, 2} - \\frac{3 k_{7, 11} p_{2, 1}}{2} + k_{9, 27} + \\frac{p_{2, 1}^{4}}{48} + \\frac{7 p_{2, 1}^{2} p_{4, 2}}{12} + \\frac{p_{2, 1} p_{6, 4}}{2} + \\frac{9 p_{2, 1} p_{6, 6}}{4} + p_{4, 2}^{2} - p_{8, 14} + \\frac{3 p_{8, 20}}{2}\\\\ \n",
       "\\omega_{9,28} &= \\frac{5 k_{3, 1} p_{2, 1} p_{4, 3}}{2} - 2 k_{3, 1} p_{6, 7} - 3 k_{3, 1} p_{6, 8} + \\frac{k_{3, 2} p_{2, 1}^{3}}{2} - k_{3, 2} p_{2, 1} p_{4, 2} - 2 k_{3, 2} p_{6, 4} - 3 k_{5, 3} p_{4, 3} - \\frac{k_{5, 4} p_{2, 1}^{2}}{2} + k_{5, 4} p_{4, 2} - k_{5, 5} p_{2, 1}^{2} - k_{7, 8} p_{2, 1} - 2 k_{7, 13} p_{2, 1} - 6 k_{7, 15} p_{2, 1} + k_{9, 28} - \\frac{p_{2, 1}^{4}}{8} + \\frac{p_{2, 1}^{2} p_{4, 2}}{2} - \\frac{p_{2, 1}^{2} p_{4, 3}}{2} + \\frac{3 p_{2, 1} p_{6, 4}}{2} + 2 p_{2, 1} p_{6, 7} + \\frac{9 p_{2, 1} p_{6, 8}}{2} - \\frac{p_{4, 2}^{2}}{2} - \\frac{3 p_{4, 2} p_{4, 3}}{2} - p_{8, 14} + 3 p_{8, 27}\\\\ \n",
       "\\omega_{9,29} &= - \\frac{k_{3, 1} p_{2, 1} p_{4, 3}}{2} + k_{3, 1} p_{6, 8} + \\frac{k_{3, 2} p_{2, 1}^{3}}{6} - k_{3, 2} p_{2, 1} p_{4, 2} + k_{3, 2} p_{6, 4} + k_{5, 3} p_{4, 3} - \\frac{k_{5, 4} p_{2, 1}^{2}}{2} + k_{5, 4} p_{4, 2} + k_{7, 8} p_{2, 1} + k_{9, 29} - \\frac{p_{2, 1}^{4}}{24} + \\frac{p_{2, 1}^{2} p_{4, 2}}{2} + \\frac{p_{2, 1}^{2} p_{4, 3}}{6} - p_{2, 1} p_{6, 4} - \\frac{p_{2, 1} p_{6, 8}}{2} - \\frac{p_{4, 2}^{2}}{2} + \\frac{p_{4, 2} p_{4, 3}}{2} - p_{8, 15} + p_{8, 27}\\\\ \n",
       "\\omega_{9,30} &= 5 k_{3, 1} p_{6, 9} - k_{3, 2} p_{2, 1} p_{4, 3} + k_{5, 4} p_{4, 3} - \\frac{k_{5, 6} p_{2, 1}^{2}}{2} + 3 k_{5, 6} p_{4, 2} - k_{7, 17} p_{2, 1} + k_{9, 30} + \\frac{p_{2, 1}^{2} p_{4, 3}}{2} - 2 p_{2, 1} p_{6, 9} - 2 p_{4, 2} p_{4, 3} - p_{8, 15} + 3 p_{8, 29}\\\\ \n",
       "\\omega_{9,31} &= \\frac{5 k_{3, 1} p_{2, 1}^{3}}{36} - \\frac{2 k_{3, 1} p_{2, 1} p_{4, 2}}{3} - k_{3, 1} p_{6, 5} - k_{3, 1} p_{6, 6} - k_{3, 2} p_{2, 1} p_{4, 1} - \\frac{k_{5, 2} p_{2, 1}^{2}}{2} + \\frac{k_{5, 3} p_{2, 1}^{2}}{12} + k_{5, 3} p_{4, 2} + k_{5, 4} p_{4, 1} - k_{7, 9} p_{2, 1} + \\frac{k_{7, 11} p_{2, 1}}{2} + k_{9, 31} - \\frac{5 p_{2, 1}^{4}}{144} + \\frac{p_{2, 1}^{2} p_{4, 1}}{2} + \\frac{p_{2, 1}^{2} p_{4, 2}}{4} + p_{2, 1} p_{6, 5} + \\frac{p_{2, 1} p_{6, 6}}{4} - \\frac{p_{4, 1} p_{4, 2}}{2} + \\frac{p_{4, 2}^{2}}{2} - p_{8, 16} + \\frac{3 p_{8, 20}}{2}\\\\ \n",
       "\\omega_{9,32} &= - \\frac{k_{3, 1} p_{2, 1}^{3}}{3} - 3 k_{3, 1} p_{2, 1} p_{4, 2} + 2 k_{3, 1} p_{6, 5} - 8 k_{3, 1} p_{6, 6} + k_{3, 2} p_{2, 1} p_{4, 1} + \\frac{k_{5, 2} p_{2, 1}^{2}}{2} + 2 k_{5, 2} p_{4, 2} + \\frac{k_{5, 3} p_{2, 1}^{2}}{2} + 2 k_{5, 3} p_{4, 2} + 2 k_{5, 4} p_{4, 1} - 3 k_{5, 5} p_{4, 1} + k_{7, 9} p_{2, 1} - 4 k_{7, 11} p_{2, 1} + k_{9, 32} + \\frac{p_{2, 1}^{4}}{12} - \\frac{p_{2, 1}^{2} p_{4, 1}}{2} + \\frac{7 p_{2, 1}^{2} p_{4, 2}}{6} - \\frac{3 p_{2, 1} p_{6, 5}}{2} + 6 p_{2, 1} p_{6, 6} - 2 p_{4, 1} p_{4, 2} + \\frac{3 p_{4, 1} p_{4, 3}}{2} + p_{4, 2}^{2} - p_{8, 17} + 4 p_{8, 20}\\\\ \n",
       "\\omega_{9,33} &= \\frac{2 k_{3, 1} p_{2, 1} p_{4, 3}}{3} - \\frac{7 k_{3, 1} p_{6, 7}}{3} - 5 k_{3, 1} p_{6, 8} + \\frac{5 k_{3, 2} p_{2, 1}^{3}}{18} + \\frac{5 k_{3, 2} p_{2, 1} p_{4, 2}}{6} + k_{3, 2} p_{6, 5} - 3 k_{5, 2} p_{4, 3} + k_{5, 3} p_{4, 3} + \\frac{k_{5, 4} p_{2, 1}^{2}}{3} - k_{5, 4} p_{4, 2} - \\frac{7 k_{5, 5} p_{2, 1}^{2}}{6} - 6 k_{5, 6} p_{4, 1} - \\frac{7 k_{7, 13} p_{2, 1}}{3} - 4 k_{7, 15} p_{2, 1} + k_{9, 33} - \\frac{5 p_{2, 1}^{4}}{72} - \\frac{7 p_{2, 1}^{2} p_{4, 2}}{18} + \\frac{p_{2, 1}^{2} p_{4, 3}}{6} - \\frac{p_{2, 1} p_{6, 5}}{2} + \\frac{7 p_{2, 1} p_{6, 7}}{3} + \\frac{9 p_{2, 1} p_{6, 8}}{2} + \\frac{9 p_{4, 1} p_{4, 3}}{2} + \\frac{p_{4, 2}^{2}}{2} + \\frac{p_{4, 2} p_{4, 3}}{2} - p_{8, 17} - p_{8, 27}\\\\ \n",
       "\\omega_{9,34} &= \\frac{k_{3, 1} p_{2, 1}^{3}}{12} + \\frac{4 k_{3, 1} p_{2, 1} p_{4, 2}}{3} - k_{3, 1} p_{6, 5} + 3 k_{3, 1} p_{6, 6} - k_{5, 2} p_{4, 2} - \\frac{k_{5, 3} p_{2, 1}^{2}}{4} - \\frac{2 k_{5, 3} p_{4, 2}}{3} - k_{5, 4} p_{4, 1} + k_{5, 5} p_{4, 1} + \\frac{3 k_{7, 11} p_{2, 1}}{2} + k_{9, 34} - \\frac{p_{2, 1}^{4}}{48} - \\frac{19 p_{2, 1}^{2} p_{4, 2}}{36} + \\frac{p_{2, 1} p_{6, 5}}{2} - \\frac{9 p_{2, 1} p_{6, 6}}{4} + p_{4, 1} p_{4, 2} - \\frac{p_{4, 1} p_{4, 3}}{2} - \\frac{p_{4, 2}^{2}}{3} - p_{8, 18} - \\frac{3 p_{8, 20}}{2}\\\\ \n",
       "\\omega_{9,35} &= - k_{3, 1} p_{2, 1} p_{4, 3} + k_{3, 1} p_{6, 7} + 3 k_{3, 1} p_{6, 8} - \\frac{k_{3, 2} p_{2, 1}^{3}}{6} - \\frac{2 k_{3, 2} p_{2, 1} p_{4, 2}}{3} - 2 k_{3, 2} p_{6, 5} + 3 k_{5, 2} p_{4, 3} - k_{5, 3} p_{4, 3} + k_{5, 4} p_{4, 2} + \\frac{k_{5, 5} p_{2, 1}^{2}}{2} + 4 k_{5, 6} p_{4, 1} - k_{7, 10} p_{2, 1} + k_{7, 13} p_{2, 1} + 2 k_{7, 15} p_{2, 1} + k_{9, 35} + \\frac{p_{2, 1}^{4}}{24} + \\frac{2 p_{2, 1}^{2} p_{4, 2}}{9} + \\frac{p_{2, 1}^{2} p_{4, 3}}{6} + \\frac{3 p_{2, 1} p_{6, 5}}{2} - p_{2, 1} p_{6, 7} - \\frac{5 p_{2, 1} p_{6, 8}}{2} - \\frac{7 p_{4, 1} p_{4, 3}}{2} - \\frac{p_{4, 2}^{2}}{2} - \\frac{p_{4, 2} p_{4, 3}}{2} - p_{8, 18} + p_{8, 27}\\\\ \n",
       "\\omega_{9,36} &= \\frac{k_{3, 1} p_{2, 1} p_{4, 3}}{3} - \\frac{2 k_{3, 1} p_{6, 8}}{3} + \\frac{k_{3, 2} p_{2, 1} p_{4, 2}}{2} + k_{3, 2} p_{6, 5} - k_{5, 2} p_{4, 3} + \\frac{k_{5, 3} p_{4, 3}}{3} - \\frac{2 k_{5, 4} p_{4, 2}}{3} - k_{5, 6} p_{4, 1} + k_{7, 10} p_{2, 1} + k_{9, 36} - \\frac{p_{2, 1}^{2} p_{4, 2}}{6} - \\frac{p_{2, 1}^{2} p_{4, 3}}{9} - p_{2, 1} p_{6, 5} + \\frac{p_{2, 1} p_{6, 8}}{3} + p_{4, 1} p_{4, 3} + \\frac{p_{4, 2}^{2}}{3} + \\frac{p_{4, 2} p_{4, 3}}{6} - p_{8, 19} - \\frac{2 p_{8, 27}}{3}\\\\ \n",
       "\\omega_{9,37} &= - \\frac{2 k_{3, 1} p_{6, 9}}{3} - \\frac{k_{5, 6} p_{4, 2}}{3} + k_{9, 37} + \\frac{p_{2, 1} p_{6, 9}}{3} + \\frac{p_{4, 2} p_{4, 3}}{6} - p_{8, 19} - \\frac{p_{8, 29}}{3}\\\\ \n",
       "\\omega_{9,38} &= - \\frac{5 k_{3, 1} p_{2, 1} p_{4, 3}}{6} + \\frac{5 k_{3, 1} p_{6, 7}}{3} + 2 k_{3, 1} p_{6, 8} - \\frac{7 k_{3, 2} p_{2, 1}^{3}}{18} + \\frac{5 k_{3, 2} p_{2, 1} p_{4, 2}}{6} + k_{3, 2} p_{6, 6} + k_{5, 3} p_{4, 3} + \\frac{k_{5, 4} p_{2, 1}^{2}}{3} - 2 k_{5, 4} p_{4, 2} + \\frac{5 k_{5, 5} p_{2, 1}^{2}}{6} + k_{5, 5} p_{4, 2} + \\frac{5 k_{7, 13} p_{2, 1}}{3} + 4 k_{7, 15} p_{2, 1} + k_{9, 38} + \\frac{7 p_{2, 1}^{4}}{72} - \\frac{7 p_{2, 1}^{2} p_{4, 2}}{18} - \\frac{p_{2, 1} p_{6, 6}}{2} - \\frac{5 p_{2, 1} p_{6, 7}}{3} - 3 p_{2, 1} p_{6, 8} + p_{4, 2}^{2} - p_{8, 20} - 2 p_{8, 27}\\\\ \n",
       "\\omega_{9,39} &= - \\frac{k_{3, 1} p_{2, 1} p_{4, 2}}{6} - k_{3, 1} p_{6, 6} + \\frac{k_{5, 3} p_{4, 2}}{3} + k_{9, 39} + \\frac{p_{2, 1}^{2} p_{4, 2}}{18} + \\frac{p_{2, 1} p_{6, 6}}{2} + \\frac{p_{4, 2}^{2}}{6} - p_{8, 21}\\\\ \n",
       "\\omega_{9,40} &= k_{3, 1} p_{2, 1} p_{4, 3} - 3 k_{3, 1} p_{6, 7} - 3 k_{3, 1} p_{6, 8} + \\frac{k_{3, 2} p_{2, 1}^{3}}{3} - \\frac{2 k_{3, 2} p_{2, 1} p_{4, 2}}{3} - 2 k_{3, 2} p_{6, 6} - k_{5, 3} p_{4, 3} + 3 k_{5, 4} p_{4, 2} - k_{5, 5} p_{2, 1}^{2} - 2 k_{5, 5} p_{4, 2} - k_{7, 12} p_{2, 1} - 3 k_{7, 13} p_{2, 1} - 6 k_{7, 15} p_{2, 1} + k_{9, 40} - \\frac{p_{2, 1}^{4}}{12} + \\frac{2 p_{2, 1}^{2} p_{4, 2}}{9} + \\frac{3 p_{2, 1} p_{6, 6}}{2} + 3 p_{2, 1} p_{6, 7} + \\frac{9 p_{2, 1} p_{6, 8}}{2} - \\frac{3 p_{4, 2}^{2}}{2} + \\frac{p_{4, 2} p_{4, 3}}{2} - p_{8, 21} + 3 p_{8, 27}\\\\ \n",
       "\\omega_{9,41} &= - \\frac{2 k_{3, 1} p_{2, 1} p_{4, 3}}{3} - \\frac{2 k_{3, 1} p_{6, 8}}{3} + \\frac{k_{3, 2} p_{2, 1}^{3}}{6} + \\frac{k_{3, 2} p_{2, 1} p_{4, 2}}{2} + k_{3, 2} p_{6, 6} + \\frac{k_{5, 3} p_{4, 3}}{3} - \\frac{2 k_{5, 4} p_{4, 2}}{3} - \\frac{k_{5, 5} p_{2, 1}^{2}}{2} + k_{7, 12} p_{2, 1} + k_{9, 41} - \\frac{p_{2, 1}^{4}}{24} - \\frac{p_{2, 1}^{2} p_{4, 2}}{6} + \\frac{7 p_{2, 1}^{2} p_{4, 3}}{18} - p_{2, 1} p_{6, 6} + \\frac{p_{2, 1} p_{6, 8}}{3} + \\frac{p_{4, 2}^{2}}{3} + \\frac{p_{4, 2} p_{4, 3}}{6} - p_{8, 22} - \\frac{2 p_{8, 27}}{3}\\\\ \n",
       "\\omega_{9,42} &= - \\frac{5 k_{3, 1} p_{6, 9}}{3} - k_{3, 2} p_{2, 1} p_{4, 3} + k_{5, 5} p_{4, 3} - \\frac{k_{5, 6} p_{2, 1}^{2}}{2} - \\frac{k_{5, 6} p_{4, 2}}{3} - k_{7, 17} p_{2, 1} + k_{9, 42} + \\frac{p_{2, 1}^{2} p_{4, 3}}{2} + \\frac{4 p_{2, 1} p_{6, 9}}{3} + \\frac{p_{4, 2} p_{4, 3}}{6} - \\frac{p_{4, 3}^{2}}{2} - p_{8, 22} - \\frac{p_{8, 29}}{3}\\\\ \n",
       "\\omega_{9,43} &= k_{3, 1} p_{2, 1} p_{4, 3} + 2 k_{3, 1} p_{6, 7} + 4 k_{3, 1} p_{6, 8} + \\frac{k_{3, 2} p_{2, 1}^{3}}{6} - 2 k_{3, 2} p_{2, 1} p_{4, 2} - k_{5, 4} p_{2, 1}^{2} + \\frac{k_{5, 5} p_{2, 1}^{2}}{2} + 2 k_{5, 5} p_{4, 2} + k_{7, 13} p_{2, 1} + k_{9, 43} - \\frac{p_{2, 1}^{4}}{24} + p_{2, 1}^{2} p_{4, 2} - \\frac{p_{2, 1}^{2} p_{4, 3}}{2} - \\frac{3 p_{2, 1} p_{6, 7}}{2} - 2 p_{2, 1} p_{6, 8} - p_{4, 2} p_{4, 3} - p_{8, 23} + 4 p_{8, 27}\\\\ \n",
       "\\omega_{9,44} &= 20 k_{3, 1} p_{6, 9} - \\frac{7 k_{3, 2} p_{2, 1} p_{4, 3}}{2} + k_{3, 2} p_{6, 7} + 6 k_{5, 4} p_{4, 3} - 3 k_{5, 5} p_{4, 3} - 2 k_{5, 6} p_{2, 1}^{2} + 12 k_{5, 6} p_{4, 2} - 4 k_{7, 17} p_{2, 1} + k_{9, 44} + \\frac{11 p_{2, 1}^{2} p_{4, 3}}{6} - \\frac{p_{2, 1} p_{6, 7}}{2} - 8 p_{2, 1} p_{6, 9} - 9 p_{4, 2} p_{4, 3} + \\frac{3 p_{4, 3}^{2}}{2} - p_{8, 23} + 12 p_{8, 29}\\\\ \n",
       "\\omega_{9,45} &= - k_{3, 1} p_{6, 7} - k_{3, 1} p_{6, 8} + k_{5, 4} p_{4, 2} - k_{5, 5} p_{4, 2} + k_{9, 45} + \\frac{p_{2, 1} p_{6, 7}}{2} + \\frac{p_{2, 1} p_{6, 8}}{2} - \\frac{p_{4, 2}^{2}}{2} + \\frac{p_{4, 2} p_{4, 3}}{2} - p_{8, 24} - p_{8, 27}\\\\ \n",
       "\\omega_{9,46} &= - 10 k_{3, 1} p_{6, 9} + 4 k_{3, 2} p_{2, 1} p_{4, 3} - 2 k_{3, 2} p_{6, 7} - 6 k_{5, 4} p_{4, 3} + 3 k_{5, 5} p_{4, 3} + 3 k_{5, 6} p_{2, 1}^{2} - 8 k_{5, 6} p_{4, 2} - k_{7, 14} p_{2, 1} + 6 k_{7, 17} p_{2, 1} + k_{9, 46} - \\frac{7 p_{2, 1}^{2} p_{4, 3}}{3} + \\frac{3 p_{2, 1} p_{6, 7}}{2} + 2 p_{2, 1} p_{6, 9} + 7 p_{4, 2} p_{4, 3} - \\frac{3 p_{4, 3}^{2}}{2} - p_{8, 24} - 8 p_{8, 29}\\\\ \n",
       "\\omega_{9,47} &= 2 k_{3, 1} p_{6, 9} - \\frac{3 k_{3, 2} p_{2, 1} p_{4, 3}}{2} + k_{3, 2} p_{6, 7} + 2 k_{5, 4} p_{4, 3} - k_{5, 5} p_{4, 3} - \\frac{3 k_{5, 6} p_{2, 1}^{2}}{2} + 2 k_{5, 6} p_{4, 2} + k_{7, 14} p_{2, 1} - 3 k_{7, 17} p_{2, 1} + k_{9, 47} + p_{2, 1}^{2} p_{4, 3} - p_{2, 1} p_{6, 7} + \\frac{p_{2, 1} p_{6, 9}}{2} - 2 p_{4, 2} p_{4, 3} + \\frac{p_{4, 3}^{2}}{2} - p_{8, 25} + 3 p_{8, 29}\\\\ \n",
       "\\omega_{9,48} &= - 2 k_{3, 2} p_{6, 9} + 3 k_{5, 6} p_{4, 3} - k_{7, 18} p_{2, 1} + k_{9, 48} + \\frac{3 p_{2, 1} p_{6, 9}}{2} - \\frac{3 p_{4, 3}^{2}}{2} - p_{8, 25}\\\\ \n",
       "\\omega_{9,49} &= - \\frac{k_{3, 1} p_{2, 1} p_{4, 3}}{2} - k_{3, 1} p_{6, 8} - \\frac{k_{3, 2} p_{2, 1}^{3}}{6} + k_{3, 2} p_{2, 1} p_{4, 2} + \\frac{k_{5, 4} p_{2, 1}^{2}}{2} - k_{5, 4} p_{4, 2} + k_{7, 15} p_{2, 1} + k_{9, 49} + \\frac{p_{2, 1}^{4}}{24} - \\frac{p_{2, 1}^{2} p_{4, 2}}{2} + \\frac{p_{2, 1}^{2} p_{4, 3}}{6} + \\frac{p_{4, 2}^{2}}{2} - p_{8, 26} - 3 p_{8, 27}\\\\ \n",
       "\\omega_{9,50} &= - 10 k_{3, 1} p_{6, 9} + \\frac{7 k_{3, 2} p_{2, 1} p_{4, 3}}{2} + k_{3, 2} p_{6, 8} - 3 k_{5, 4} p_{4, 3} + 2 k_{5, 6} p_{2, 1}^{2} - 6 k_{5, 6} p_{4, 2} + 4 k_{7, 17} p_{2, 1} + k_{9, 50} - \\frac{11 p_{2, 1}^{2} p_{4, 3}}{6} - \\frac{p_{2, 1} p_{6, 8}}{2} + 3 p_{2, 1} p_{6, 9} + \\frac{9 p_{4, 2} p_{4, 3}}{2} - p_{8, 26} - 7 p_{8, 29}\\\\ \n",
       "\\omega_{9,51} &= 5 k_{3, 1} p_{6, 9} - 4 k_{3, 2} p_{2, 1} p_{4, 3} - 2 k_{3, 2} p_{6, 8} + 3 k_{5, 4} p_{4, 3} - 3 k_{5, 6} p_{2, 1}^{2} + 4 k_{5, 6} p_{4, 2} - k_{7, 16} p_{2, 1} - 7 k_{7, 17} p_{2, 1} + k_{9, 51} + \\frac{7 p_{2, 1}^{2} p_{4, 3}}{3} + \\frac{3 p_{2, 1} p_{6, 8}}{2} + p_{2, 1} p_{6, 9} - \\frac{7 p_{4, 2} p_{4, 3}}{2} - p_{8, 27} + 6 p_{8, 29}\\\\ \n",
       "\\omega_{9,52} &= - k_{3, 1} p_{6, 9} + \\frac{3 k_{3, 2} p_{2, 1} p_{4, 3}}{2} + k_{3, 2} p_{6, 8} - k_{5, 4} p_{4, 3} + \\frac{3 k_{5, 6} p_{2, 1}^{2}}{2} - k_{5, 6} p_{4, 2} + k_{7, 16} p_{2, 1} + 4 k_{7, 17} p_{2, 1} + k_{9, 52} - p_{2, 1}^{2} p_{4, 3} - p_{2, 1} p_{6, 8} - \\frac{3 p_{2, 1} p_{6, 9}}{2} + p_{4, 2} p_{4, 3} - p_{8, 28} - 4 p_{8, 29}\\\\ \n",
       "\\omega_{9,53} &= 6 k_{3, 2} p_{6, 9} - 8 k_{5, 6} p_{4, 3} + 3 k_{7, 18} p_{2, 1} + k_{9, 53} - \\frac{9 p_{2, 1} p_{6, 9}}{2} + 4 p_{4, 3}^{2} - p_{8, 28}\\\\ \n",
       "\\omega_{9,54} &= - 5 k_{3, 2} p_{6, 9} + 6 k_{5, 6} p_{4, 3} - 3 k_{7, 18} p_{2, 1} + k_{9, 54} + 4 p_{2, 1} p_{6, 9} - 3 p_{4, 3}^{2} - p_{8, 29}\\\\ \n",
       "\\omega_{9,55} &= k_{3, 2} p_{6, 9} - k_{5, 6} p_{4, 3} + k_{7, 18} p_{2, 1} + k_{9, 55} - p_{2, 1} p_{6, 9} + \\frac{p_{4, 3}^{2}}{2} - p_{8, 30}\\\\ \n",
       "\\omega_{9,56} &= k_{9, 56} - p_{8, 30}\\\\ \n",
       "\\end{align}\n",
       "$$"
      ],
      "text/plain": [
       "<IPython.core.display.Latex object>"
      ]
     },
     "metadata": {},
     "output_type": "display_data"
    }
   ],
   "source": [
    "P=sp.S(0)\n",
    "K=Eel(1, 1, base)\n",
    "if base == \"E\":\n",
    "    K += Eel(1, 2, base)\n",
    "for i in range(1, ord_bch):\n",
    "    for j in range(tams[i]):\n",
    "        if i % 2 != 0:\n",
    "            P += p[i + 1, j + 1]*Eel(i + 1, j + 1, base)\n",
    "        if i % 2 == 0:\n",
    "            K += k[i + 1, j + 1]*Eel(i + 1, j + 1, base)\n",
    "C = K\n",
    "esq = K\n",
    "fact = 1\n",
    "for i in range(1, ord_bch + 1):\n",
    "    fact = fact * i\n",
    "    C = Corxet(P, C)\n",
    "    esq += C/fact\n",
    "metPr5 = Metode(ord_bch, base)\n",
    "metPr5.importFromExpr(esq)\n",
    "display(Latex(\"$$\\n\" + sp.latex(metPr5) + \"\\n$$\"))"
   ]
  },
  {
   "cell_type": "markdown",
   "metadata": {},
   "source": [
    "Igual que en el darrer cas, però per processat tipus \"starter\""
   ]
  },
  {
   "cell_type": "code",
   "execution_count": 15,
   "metadata": {},
   "outputs": [
    {
     "data": {
      "text/latex": [
       "$$\n",
       "2 k_{3, 1} p_{4, 3} + \\frac{k_{3, 2} p_{2, 1}^{2}}{2} - 2 k_{3, 2} p_{4, 2} - k_{3, 2} p_{4, 3} - 2 k_{5, 4} p_{2, 1} + k_{5, 5} p_{2, 1} + k_{7, 13} - k_{7, 14} - \\frac{p_{2, 1}^{3}}{6} + 2 p_{2, 1} p_{4, 2} - p_{2, 1} p_{4, 3}\n",
       "$$"
      ],
      "text/plain": [
       "<IPython.core.display.Latex object>"
      ]
     },
     "metadata": {},
     "output_type": "display_data"
    }
   ],
   "source": [
    "expr=(metPr5.w[7][13]-metPr5.w[7][14]).simplify()\n",
    "display(Latex(\"$$\\n\" + sp.latex(expr) + \"\\n$$\"))"
   ]
  },
  {
   "cell_type": "code",
   "execution_count": null,
   "metadata": {},
   "outputs": [],
   "source": []
  }
 ],
 "metadata": {
  "kernelspec": {
   "display_name": "Python 3",
   "language": "python",
   "name": "python3"
  },
  "language_info": {
   "codemirror_mode": {
    "name": "ipython",
    "version": 3
   },
   "file_extension": ".py",
   "mimetype": "text/x-python",
   "name": "python",
   "nbconvert_exporter": "python",
   "pygments_lexer": "ipython3",
   "version": "3.7.3"
  }
 },
 "nbformat": 4,
 "nbformat_minor": 4
}
